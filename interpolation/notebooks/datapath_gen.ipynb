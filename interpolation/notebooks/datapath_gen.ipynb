{
 "cells": [
  {
   "attachments": {},
   "cell_type": "markdown",
   "metadata": {},
   "source": [
    "# Datapath generator"
   ]
  },
  {
   "attachments": {},
   "cell_type": "markdown",
   "metadata": {},
   "source": [
    "### Parameters"
   ]
  },
  {
   "cell_type": "code",
   "execution_count": 2,
   "metadata": {},
   "outputs": [],
   "source": [
    "import math \n",
    "import numpy as np"
   ]
  },
  {
   "cell_type": "code",
   "execution_count": 3,
   "metadata": {},
   "outputs": [],
   "source": [
    "#########################################\n",
    "# Setup parameters\n",
    "#########################################\n",
    "\n",
    "N = 4                   # Input size (N x N)\n",
    "TAPS = 6                # Number of taps\n",
    "FILTERS = 15            # Number of filters (= number of outputs expected)\n",
    "# OUTPUT_WIDTH = 11       # One size for every output, as it is for my case"
   ]
  },
  {
   "attachments": {},
   "cell_type": "markdown",
   "metadata": {},
   "source": [
    "### Intermediate variables calculation"
   ]
  },
  {
   "cell_type": "code",
   "execution_count": null,
   "metadata": {},
   "outputs": [],
   "source": [
    "#########################################\n",
    "# Inputs names and sizes\n",
    "#########################################\n",
    "\n",
    "# Control inputs\n",
    "control_inputs = [rst_async_line, rst_async_MVs, rst_async_buffer, rst_async_interp,\n",
    "                  read_line, read_MVs, en_interp, read_interp_out, write_buffer,\n",
    "                  sel_pass, \n",
    "]"
   ]
  },
  {
   "attachments": {},
   "cell_type": "markdown",
   "metadata": {},
   "source": [
    "### Datapath text"
   ]
  },
  {
   "cell_type": "code",
   "execution_count": null,
   "metadata": {},
   "outputs": [],
   "source": [
    "#########################################\n",
    "# Text writing: Complete datapath\n",
    "#########################################\n",
    "\n",
    "datapath_text = '''/*------------------------------------------------------------------------------\n",
    " * File: datapath.v\n",
    " * Date generated: 13/03/2023\n",
    " * Date modified: 21/03/2023\n",
    " * Author: Bruna Suemi Nagai\n",
    " * Description: Combinational datapath.\n",
    " *------------------------------------------------------------------------------ */\n",
    "\n",
    "module datapath (\n",
    "    '''"
   ]
  }
 ],
 "metadata": {
  "kernelspec": {
   "display_name": "Python 3",
   "language": "python",
   "name": "python3"
  },
  "language_info": {
   "codemirror_mode": {
    "name": "ipython",
    "version": 3
   },
   "file_extension": ".py",
   "mimetype": "text/x-python",
   "name": "python",
   "nbconvert_exporter": "python",
   "pygments_lexer": "ipython3",
   "version": "3.10.5"
  },
  "orig_nbformat": 4
 },
 "nbformat": 4,
 "nbformat_minor": 2
}
