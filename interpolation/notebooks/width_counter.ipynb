{
 "cells": [
  {
   "cell_type": "markdown",
   "metadata": {},
   "source": [
    "# Width Counter"
   ]
  },
  {
   "cell_type": "markdown",
   "metadata": {},
   "source": [
    "Auxilia a saber qual a largura real necessária de bits para não desperdiçar representações de bits desnecessárias"
   ]
  },
  {
   "cell_type": "code",
   "execution_count": 3,
   "metadata": {},
   "outputs": [],
   "source": [
    "import numpy as np"
   ]
  },
  {
   "cell_type": "markdown",
   "metadata": {},
   "source": [
    "#### Parâmetros:"
   ]
  },
  {
   "cell_type": "code",
   "execution_count": 27,
   "metadata": {},
   "outputs": [],
   "source": [
    "##################### !!!!!! RODAR SÓ UM BLOCO DE PARAMETRO !!!!!! #####################\n",
    "# PARAMETROS PARA A1_affine \n",
    "\n",
    "# Tamanho base da entrada X\n",
    "bit_width = 8\n",
    "\n",
    "# Lista de todos sinais de entrada do registrador (só com valor do multiplicador de X)\n",
    "input_signal = [[-1],\n",
    "    [1,2,3,4],\n",
    "    [-11,-10,-9,-8,-5,-4,-3,-2],\n",
    "    [63,62,60,58,52,47,45,40,34,31,26,17,13,8,4],\n",
    "    [4,8,13,17,26,31,34,40,45,47,52,58,60,62,63],\n",
    "    [-11,-10,-9,-8,-5,-4,-3,-2],\n",
    "    [1,2,3,4],\n",
    "    [-1]]\n",
    "\n",
    "# Nome base dos sinais de entrada do registrador\n",
    "sign_name = \"x_\"\n",
    "\n",
    "# Nome do sinal de entrada no registradir\n",
    "reg_in_name = \"reg0_in\"\n",
    "\n",
    "# Nome do componente registrador \n",
    "reg_port_map_name = \"U_R0\"\n",
    "\n",
    "# Nome do sinal de saída do registrador\n",
    "reg_out_name = \"reg0_out\""
   ]
  },
  {
   "cell_type": "markdown",
   "metadata": {},
   "source": [
    "### Contas auxiliares:"
   ]
  },
  {
   "cell_type": "code",
   "execution_count": 71,
   "metadata": {},
   "outputs": [
    {
     "name": "stdout",
     "output_type": "stream",
     "text": [
      "// A0:  9\n",
      "// A1:  [8, 9, 10, 10]\n",
      "// A2:  [12, 12, 12, 12, 11, 11, 10, 10]\n",
      "// A3:  [13, 13, 13, 13, 13, 13, 13, 13, 13, 13, 13, 13, 12, 11, 10]\n",
      "// A4:  [10, 11, 12, 13, 13, 13, 13, 13, 13, 13, 13, 13, 13, 13, 13]\n",
      "// A5:  [12, 12, 12, 12, 11, 11, 10, 10]\n",
      "// A6:  [8, 9, 10, 10]\n",
      "// A7:  9\n"
     ]
    }
   ],
   "source": [
    "range_low = -(2**(bit_width-1))\n",
    "range_high = (2**(bit_width-1))-1\n",
    "# print(range_low, range_high)\n",
    "\n",
    "ranges = [[-128,127],[-256,255],[-512,511],[-1024,1023],[-2048,2047],[-8192,8191],[-16384,16383],[-32768,32767],[-65536,65535],[-131072,131071]]\n",
    "        #     8           9         10          11          12            13            14              15            16              17\n",
    "\n",
    "aux = []\n",
    "w_list = []\n",
    "# conta = 0\n",
    "for a in range(len(input_signal)):\n",
    "    # print(\"A: \", a)\n",
    "    for i in range(len(input_signal[a])):\n",
    "        # conta = conta + 1\n",
    "        # print(input_signal[a][i])\n",
    "        int_low = input_signal[a][i]*range_low\n",
    "        int_high = input_signal[a][i]*range_high\n",
    "        if int_low < int_high:\n",
    "            int_aux = [int_low,int_high]\n",
    "        else:\n",
    "            int_aux = [int_high,int_low]\n",
    "        aux.append(int_aux)\n",
    "        r = 0\n",
    "        while flag == 0:\n",
    "            # print(\"WHILE \")\n",
    "            if int_aux[0] < ranges[r][0] or int_aux[1] > ranges[r][1]:\n",
    "                r = r + 1\n",
    "            else:\n",
    "                # print(\"OUT\")\n",
    "                flag = 1\n",
    "        w_list.append(bit_width+r)\n",
    "        # print(w_list, \"\\n\")\n",
    "        flag = 0\n",
    "\n",
    "print(\"// A0: \", w_list[0])\n",
    "print(\"// A1: \", w_list[1:5])\n",
    "print(\"// A2: \", w_list[5:13])\n",
    "print(\"// A3: \", w_list[13:28])\n",
    "print(\"// A4: \", w_list[28:43])\n",
    "print(\"// A5: \", w_list[43:51])\n",
    "print(\"// A6: \", w_list[51:55])\n",
    "print(\"// A7: \", w_list[55])\n"
   ]
  },
  {
   "cell_type": "code",
   "execution_count": 36,
   "metadata": {},
   "outputs": [
    {
     "name": "stdout",
     "output_type": "stream",
     "text": [
      "SIGNAL: [[-1], [1, 2, 3, 4], [-11, -10, -9, -8, -5, -4, -3, -2], [63, 62, 60, 58, 52, 47, 45, 40, 34, 31, 26, 17, 13, 8, 4], [4, 8, 13, 17, 26, 31, 34, 40, 45, 47, 52, 58, 60, 62, 63], [-11, -10, -9, -8, -5, -4, -3, -2], [1, 2, 3, 4], [-1]]\n",
      "WIDTHS:  [8, 8, 9, 10, 10, 12, 12, 12, 11, 11, 10, 10, 9, 14, 14, 14, 14, 14, 14, 14, 14, 14, 13, 13, 13, 12, 11, 10, 10, 11, 12, 13, 13, 13, 14, 14, 14, 14, 14, 14, 14, 14, 14, 12, 12, 12, 11, 11, 10, 10, 9, 8, 9, 10, 10, 8]\n",
      "660\n"
     ]
    }
   ],
   "source": [
    "################## CONTAS AUXILIARES ##################\n",
    "import numpy as np\n",
    "import math\n",
    "\n",
    "signal_list = []\n",
    "widths_list = []\n",
    "signal_declaration = []\n",
    "width_count = 0\n",
    "\n",
    "for taps in range(len(input_signal)):\n",
    "    # print(\"TAPS: \", taps)\n",
    "    for i in range(len(input_signal[taps])):\n",
    "        # print(\"I: \", i)\n",
    "        # print(input_signal[taps][i])\n",
    "        width_count = width_count + bit_width + math.ceil(np.log2(int(abs(input_signal[taps][i])))) # Contando sinais concatenados\n",
    "        # if input_signal[taps][i] < 0:\n",
    "        #     width_count = width_count + 1\n",
    "        #     widths_list.append(1+bit_width + math.ceil(np.log2(int(abs(input_signal[taps][i]))))) # Tamanho de cada sinal\n",
    "        # else: \n",
    "            # widths_list.append(bit_width + math.ceil(np.log2(int(abs(input_signal[taps][i]))))) # Tamanho de cada sinal\n",
    "        widths_list.append(bit_width + math.ceil(np.log2(int(abs(input_signal[taps][i]))))) # Tamanho de cada sinal\n",
    "        # signal_list.append(sign_name + str(input_signal[i])) # Nomes de cada sinal\n",
    "        # signal_declaration.append(\"SIGNAL \"+signal_list[i]+\": STD_LOGIC_VECTOR(\"+str(widths_list[i]-1)+\" DOWNTO 0);\") # Criacao de cada sinal\n",
    "\n",
    "print(\"SIGNAL:\", input_signal)\n",
    "print(\"WIDTHS: \", widths_list)\n",
    "print(width_count)\n",
    "#print(signal_declaration)\n",
    "\n",
    "# Gera um sinal concatenado com todos os sinais de entrada\n",
    "# concatenate_signals = reg_in_name + \" <= \" + ' & '.join(map(str,signal_list)) \n",
    "# concat_signals_declaration = '\\n'.join(map(str,signal_declaration))"
   ]
  },
  {
   "cell_type": "markdown",
   "metadata": {},
   "source": [
    "### Escrita do texto:"
   ]
  },
  {
   "cell_type": "code",
   "execution_count": null,
   "metadata": {},
   "outputs": [],
   "source": [
    "################## ESCRITA DO TEXTO ##################\n",
    "print(\"---- Sinal de ENTRADA e SAIDA do reg:\")\n",
    "print(\"SIGNAL \" + reg_in_name + \": STD_LOGIC_VECTOR(\" + str(width_count-1) + \" DOWNTO 0);\")\n",
    "print(\"SIGNAL \" + reg_out_name + \": STD_LOGIC_VECTOR(\" + str(width_count-1) + \" DOWNTO 0); \\n\")\n",
    "\n",
    "print(\"---- Sinais auxiliares:\")\n",
    "print(concat_signals_declaration + '\\n')\n",
    "\n",
    "print(\"---- Estanciar o sinal de entrada criado:\")\n",
    "print(concatenate_signals + \";\" + '\\n')\n",
    "\n",
    "print(\"---- Escrever port map do registrador:\")\n",
    "print(str(reg_port_map_name) + \": registrador GENERIC MAP (\" + str(width_count) + \") PORT MAP (\" + reg_in_name + \", \" + reg_out_name + \", CLK, RST);\")\n"
   ]
  },
  {
   "cell_type": "markdown",
   "metadata": {},
   "source": [
    "### Tradução de sinais:"
   ]
  },
  {
   "cell_type": "code",
   "execution_count": null,
   "metadata": {},
   "outputs": [],
   "source": [
    "################## Tradução sinal --> saída do registrador ##################\n",
    "\n",
    "msb_ind = width_count - 1\n",
    "print(\"------ Traducao da saida do registrador ------\")\n",
    "\n",
    "for j in range(len(input_signal)):\n",
    "    lsb_ind = msb_ind - widths_list[j] + 1\n",
    "    print(\"-- \" + str(signal_list[j]) + \" --> \" + reg_out_name + \"(\" + str(msb_ind) + \" DOWNTO \" + str(lsb_ind) +\"); -- \" + str(widths_list[j]) + \" bits\")\n",
    "    msb_ind = msb_ind - widths_list[j] \n",
    "\n",
    "# EXEMPLO: x_2 --> reg_out(10 downto 0) -- 11 bits"
   ]
  }
 ],
 "metadata": {
  "kernelspec": {
   "display_name": "Python 3.10.5 64-bit",
   "language": "python",
   "name": "python3"
  },
  "language_info": {
   "codemirror_mode": {
    "name": "ipython",
    "version": 3
   },
   "file_extension": ".py",
   "mimetype": "text/x-python",
   "name": "python",
   "nbconvert_exporter": "python",
   "pygments_lexer": "ipython3",
   "version": "3.10.5"
  },
  "orig_nbformat": 4,
  "vscode": {
   "interpreter": {
    "hash": "4d9c694c8aec39b264fb08e5e28ee8a55a7e14ae91bb73d0b06a9e720b258e83"
   }
  }
 },
 "nbformat": 4,
 "nbformat_minor": 2
}
