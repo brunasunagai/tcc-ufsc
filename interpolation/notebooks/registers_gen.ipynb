{
 "cells": [
  {
   "attachments": {},
   "cell_type": "markdown",
   "metadata": {},
   "source": [
    "# Registers generator"
   ]
  },
  {
   "attachments": {},
   "cell_type": "markdown",
   "metadata": {},
   "source": [
    "## General parameters"
   ]
  },
  {
   "cell_type": "code",
   "execution_count": 1,
   "metadata": {},
   "outputs": [],
   "source": [
    "import math \n",
    "from datetime import datetime \n",
    "from IPython.display import display, Markdown, clear_output\n",
    "import ipywidgets as widgets"
   ]
  },
  {
   "cell_type": "code",
   "execution_count": 2,
   "metadata": {},
   "outputs": [],
   "source": [
    "####################################################\n",
    "# Inputs definitions\n",
    "####################################################\n",
    "INPUT_N = 4                                     # Input size is a INPUT_N x INPUT_N block of 4x4 sub-blocks\n",
    "INPUT_COORD_WIDTH = 8                           # Number of bits as input for each block in an input line\n",
    "INPUT_MACROBLOCK_SIZE = 16                      # Number of pixels in one macroblock (16 = 4x4)\n",
    "PIXEL_WIDTH = 8                                 # Number of bits for each integer pixel from the reference frame\n",
    "\n",
    "\n",
    "####################################################\n",
    "# Interpolator definitions\n",
    "####################################################\n",
    "INPUT_LINE_SIZE = 9                             # Input size for ONE line loaded to the buffer (9 integer pixels)\n",
    "TAPS = 6                                        # Number of taps\n",
    "FILTERS = 15                                    # Number of filters (= number of outputs expected)\n",
    "OUT_1ST_INTERP_WIDTH = 11                       # Width for every 15 interpolation output for FIRST PASS\n",
    "OUT_2ND_INTERP_WIDTH = 14                       # Width for every 15 interpolation output for SECOND PASS\n",
    "\n",
    "\n",
    "####################################################\n",
    "# Motion Vector Generator definitions\n",
    "####################################################\n",
    "INPUT_COORD_WIDTH = 8                           # Input size for the coordinates X and Y\n",
    "INPUT_MV_WIDTH = 8                              # Input size for the block motion vectors (MV0 and MV1)\n",
    "OUTPUT_MV_GEN_WIDTH = 19                        # Output size of the Motion Vector module (4 and 6 parameters are equal)"
   ]
  },
  {
   "cell_type": "code",
   "execution_count": 3,
   "metadata": {},
   "outputs": [],
   "source": [
    "####################################################\n",
    "# Rewrite registers\n",
    "####################################################\n",
    "# Template: [reg name, reg width, description, signed/unsigned]\n",
    "REG_MATRIX = [[\"reg_coord\", INPUT_COORD_WIDTH, 'Stores the coordenates', 'signed'],\n",
    "              [\"reg_MV\", 2*INPUT_MV_WIDTH, 'Stores the input Motion Vectors. MSBs: horizontal, LSBs: vertical', 'signed'],\n",
    "              [\"reg_gen_MV\", OUTPUT_MV_GEN_WIDTH, 'Stores the X and Y components of the MV generator output', 'signed'],\n",
    "              [\"reg_count_block\", math.ceil(math.log2(INPUT_MACROBLOCK_SIZE)), 'Stores the counter to control which block will be processed', 'unsigned'],\n",
    "              [\"reg_input_line\", INPUT_LINE_SIZE*PIXEL_WIDTH, 'Stores the integer input samples of pixels', 'unsigned'],\n",
    "              [\"reg_counter\", 4, 'Stores the counter value to control all the loops', 'unsigned'],\n",
    "              [\"reg_int_out\", OUT_2ND_INTERP_WIDTH, 'Stores the interpolator output line', 'signed'],\n",
    "              [\"reg_internal_buffer\", OUT_1ST_INTERP_WIDTH, 'Stores one sample. It is used to build the transposed buffer.', 'signed'], \n",
    "              ['reg_buf_col_counter', 2, 'Stores the mux_sel_bffer_col', '']\n",
    "              ]"
   ]
  },
  {
   "cell_type": "code",
   "execution_count": 4,
   "metadata": {},
   "outputs": [],
   "source": [
    "###############################################\n",
    "# Register text template\n",
    "###############################################\n",
    "def generate_reg(ind):    \n",
    "    # Modified date\n",
    "    DATE_MODIF = str(datetime.today().strftime('%d/%m/%Y'))\n",
    "    # Register file text\n",
    "    register_verilog = '''/*-----------------------------------------------------------------------------------\n",
    "* File: '''+REG_MATRIX[ind][0]+'''.v\n",
    "* Date generated: 25/03/2023\n",
    "* Date modified: '''+DATE_MODIF+'''\n",
    "* Author: Bruna Suemi Nagai\n",
    "* Description: '''+str(REG_MATRIX[ind][2])+'''\n",
    "*----------------------------------------------------------------------------------- */\n",
    "\n",
    "module '''+REG_MATRIX[ind][0]+''' (\n",
    "    CLK,\n",
    "    RST_ASYNC_N, \n",
    "    WRITE_EN,\n",
    "    DATA_IN,  \n",
    "    DATA_OUT\n",
    ");\n",
    "\n",
    "\n",
    "// ------------------------------------------\n",
    "// IO declaration\n",
    "// ------------------------------------------\n",
    "    input CLK;                              // Clock\n",
    "    input RST_ASYNC_N;\t\t\t\t\t\t// Asynchronous reset\n",
    "    input WRITE_EN;\t\t\t\t\t\t\t// Enables writing\n",
    "    input '''+REG_MATRIX[ind][3]+''' ['''+str(REG_MATRIX[ind][1]-1)+''':0] DATA_IN;\t\t\t// Data in\n",
    "    output reg '''+REG_MATRIX[ind][3]+''' ['''+str(REG_MATRIX[ind][1]-1)+''':0] DATA_OUT;\t    // Data out\n",
    "    \n",
    "\n",
    "// ------------------------------------------\n",
    "// Sequential logic\n",
    "// ------------------------------------------\n",
    "always @(posedge CLK, negedge RST_ASYNC_N) begin\n",
    "if (!RST_ASYNC_N)                        // If rst async is low\n",
    "    begin\n",
    "            DATA_OUT <= '''+str(REG_MATRIX[ind][1])+''''b0;\n",
    "    end\n",
    "    \n",
    "    else if (WRITE_EN) \t\t \t\t\t    // If write enable is high\n",
    "    begin\n",
    "        DATA_OUT <= DATA_IN; \t\t\t    // Write data to the register at the specified address\n",
    "    end \n",
    "end\n",
    "\n",
    "endmodule // '''+REG_MATRIX[ind][0]+'''\n",
    "    '''\n",
    "    # Write the register file\n",
    "    with open('../verilog/registers/'+REG_MATRIX[ind][0]+'.v', 'w') as reg_file:\n",
    "        reg_file.write(register_verilog)\n"
   ]
  },
  {
   "cell_type": "code",
   "execution_count": 5,
   "metadata": {},
   "outputs": [],
   "source": [
    "###############################################\n",
    "# Simulation.do text template\n",
    "###############################################\n",
    "def generate_simu(ind):\n",
    "    SIMU_0 =[]\n",
    "    SIMU_1 = []\n",
    "    SIMU_MAX_POS = []\n",
    "    SIMU_MAX_NEG = []\n",
    "    for a in range(REG_MATRIX[ind][1]):\n",
    "        SIMU_0.append('0')\n",
    "\n",
    "        if a <= REG_MATRIX[ind][1]-2:\n",
    "            SIMU_1.append('0')\n",
    "        else:\n",
    "            SIMU_1.append('1')\n",
    "        \n",
    "        if a == 0:\n",
    "            SIMU_MAX_POS.append('0')\n",
    "            SIMU_MAX_NEG.append('1')\n",
    "        else:\n",
    "            SIMU_MAX_POS.append('1')\n",
    "            SIMU_MAX_NEG.append('0')\n",
    "    SIMU_0_concat = ''.join(SIMU_0)\n",
    "    SIMU_1_concat = ''.join(SIMU_1)\n",
    "    SIMU_MAX_POS_concat = ''.join(SIMU_MAX_POS)\n",
    "    SIMU_MAX_NEG_concat = ''.join(SIMU_MAX_NEG)\n",
    "\n",
    "    simu_do = '''restart -f\n",
    "\n",
    "force -freeze sim:/'''+REG_MATRIX[ind][0]+'''/CLK 1 0, 0 {5 ns} -r {10 ns}\n",
    "force -freeze sim:/'''+REG_MATRIX[ind][0]+'''/RST_ASYNC_N 0 0 ns, 1 5 ns\n",
    "force -freeze sim:/'''+REG_MATRIX[ind][0]+'''/WRITE_EN 0 0 ns, 1 28 ns, 0 32 ns, 1 38 ns, 0 42 ns, 1 48 ns, 0 52 ns\n",
    "force -freeze sim:/'''+REG_MATRIX[ind][0]+'''/DATA_IN '''+SIMU_0_concat+''' 15 ns \n",
    "force -freeze sim:/'''+REG_MATRIX[ind][0]+'''/DATA_IN '''+SIMU_1_concat+''' 25 ns\n",
    "force -freeze sim:/'''+REG_MATRIX[ind][0]+'''/DATA_IN '''+SIMU_MAX_POS_concat+''' 35 ns\n",
    "force -freeze sim:/'''+REG_MATRIX[ind][0]+'''/DATA_IN '''+SIMU_MAX_NEG_concat+''' 45 ns\n",
    "\n",
    "run 60 ns '''\n",
    "    # Write the simulation file\n",
    "    with open('../verilog/registers/'+REG_MATRIX[ind][0][4:]+'_simu.do', 'w') as simu_file:\n",
    "        simu_file.write(simu_do)"
   ]
  },
  {
   "cell_type": "code",
   "execution_count": 7,
   "metadata": {},
   "outputs": [
    {
     "data": {
      "application/vnd.jupyter.widget-view+json": {
       "model_id": "132dfb4e548d49929ca4c24ad2a07916",
       "version_major": 2,
       "version_minor": 0
      },
      "text/plain": [
       "Dropdown(description='Register:', options=('Select a register', 'reg_coord', 'reg_MV', 'reg_gen_MV', 'reg_coun…"
      ]
     },
     "metadata": {},
     "output_type": "display_data"
    },
    {
     "data": {
      "application/vnd.jupyter.widget-view+json": {
       "model_id": "421a6673d1e9404aa0541584869a7b12",
       "version_major": 2,
       "version_minor": 0
      },
      "text/plain": [
       "Button(description='Generate register file', style=ButtonStyle())"
      ]
     },
     "metadata": {},
     "output_type": "display_data"
    }
   ],
   "source": [
    "# Define the list of words to select from\n",
    "reg_names = ['Select a register', 'reg_coord', 'reg_MV', 'reg_gen_MV', 'reg_count_block', \n",
    "             'reg_input_line', 'reg_counter', 'reg_int_out', 'reg_internal_buffer', 'reg_buf_col_counter', 'Generate all']\n",
    "\n",
    "# Define the initial values \n",
    "SELECTED_REG = 'REG_NOOB'\n",
    "INDEX = 0\n",
    "\n",
    "# Create the dropdown widget\n",
    "word_select = widgets.Dropdown(\n",
    "    options=reg_names,\n",
    "    value=reg_names[0],\n",
    "    description='Register:')\n",
    "\n",
    "# Create the button widget\n",
    "button = widgets.Button(description='Generate register file')\n",
    "\n",
    "# Define a function to update the FILE_NAME variable\n",
    "def update_filename(b):\n",
    "    global INDEX\n",
    "    SELECTED_REG = word_select.value\n",
    "    if SELECTED_REG == 'reg_coord':\n",
    "        INDEX = 0\n",
    "    elif SELECTED_REG == 'reg_MV':\n",
    "        INDEX = 1\n",
    "    elif SELECTED_REG == 'reg_gen_MV':\n",
    "        INDEX = 2\n",
    "    elif SELECTED_REG == 'reg_count_block':\n",
    "        INDEX = 3\n",
    "    elif SELECTED_REG == 'reg_input_line':\n",
    "        INDEX = 4\n",
    "    elif SELECTED_REG == 'reg_counter':\n",
    "        INDEX = 5\n",
    "    elif SELECTED_REG == 'reg_int_out':\n",
    "        INDEX = 6\n",
    "    elif SELECTED_REG == 'reg_internal_buffer':\n",
    "        INDEX = 7\n",
    "    elif SELECTED_REG == 'reg_buf_col_counter':\n",
    "        INDEX = 8\n",
    "    elif SELECTED_REG == 'Generate all':\n",
    "        INDEX = 9\n",
    "    else:\n",
    "        INDEX = 10\n",
    "\n",
    "    # Loop for generate all    \n",
    "    if INDEX == 9:\n",
    "        for i in range(INDEX):\n",
    "            generate_reg(i)\n",
    "            generate_simu(i)\n",
    "            print('Register ', REG_MATRIX[i][0], ' generated.')\n",
    "            print('Index =', i)\n",
    "        print('Finished generating all registers :)')\n",
    "    else:\n",
    "        generate_reg(INDEX)\n",
    "        generate_simu(INDEX)\n",
    "        print('Register ', SELECTED_REG, ' generated.')\n",
    "        print('Index =', INDEX)\n",
    "\n",
    "# Attach the function to the button's on-click event\n",
    "button.on_click(update_filename)\n",
    "\n",
    "# Display the widgets\n",
    "display(word_select)\n",
    "display(button)\n"
   ]
  },
  {
   "cell_type": "code",
   "execution_count": null,
   "metadata": {},
   "outputs": [],
   "source": []
  }
 ],
 "metadata": {
  "kernelspec": {
   "display_name": "Python 3",
   "language": "python",
   "name": "python3"
  },
  "language_info": {
   "codemirror_mode": {
    "name": "ipython",
    "version": 3
   },
   "file_extension": ".py",
   "mimetype": "text/x-python",
   "name": "python",
   "nbconvert_exporter": "python",
   "pygments_lexer": "ipython3",
   "version": "3.10.5"
  },
  "orig_nbformat": 4
 },
 "nbformat": 4,
 "nbformat_minor": 2
}
