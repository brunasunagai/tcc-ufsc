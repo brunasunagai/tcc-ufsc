{
 "cells": [
  {
   "attachments": {},
   "cell_type": "markdown",
   "metadata": {},
   "source": [
    "# Clock period calculator for synthesis"
   ]
  },
  {
   "cell_type": "code",
   "execution_count": 9,
   "metadata": {},
   "outputs": [],
   "source": [
    "####################################################\n",
    "# Parameters\n",
    "####################################################\n",
    "# From video frame\n",
    "BLOCK_SIZE = 4                          # 4x4, 8x8 or 16x16 (must be the same as defined in the MV Gen arch)\n",
    "\n",
    "# From architecture\n",
    "INTERP_CYCLES = 29*16                   # Number of cycles needed for the worst case interpolation (diagonal case) (29 cycles for 16 interpolations)\n",
    "MVGEN_CYCLES = 2                        # Number of cycles needed for MV Genetaor\n",
    "NUM_SAMPLES = 256                       # Number of samples generated after full processing (16 results for each one of the 16 interpolations)\n",
    "\n",
    "# From video resolution \n",
    "RESOL_DICT = [[\"HD\", 1280*720],         # Common resolutions\n",
    "              [\"Full HD\", 1920*1080],\n",
    "              [\"4K UHD\", 3840*2160],\n",
    "              [\"8K UHD\", 7680*4320]\n",
    "              ]\n",
    "\n",
    "# Common fps rates \n",
    "FPS = [[24, 'This is the standard frame rate used in film production and is often associated with a cinematic look. It has been widely used for many years and is still prevalent in movies and television shows.'],\n",
    "       [30, 'This frame rate is commonly used in television broadcasts, video recordings, and online streaming platforms. It provides smooth motion and is the standard frame rate for most non-cinematic video content.'],\n",
    "       [60, 'This frame rate has gained popularity in recent years, especially in gaming and sports-related content. It offers even smoother motion and is commonly used in high-action scenes or for capturing fast-paced events.']\n",
    "    ]\n",
    "\n"
   ]
  },
  {
   "cell_type": "code",
   "execution_count": 10,
   "metadata": {},
   "outputs": [
    {
     "data": {
      "text/plain": [
       "['HD @ 24 fps: 22118400 pps --> 2.4837068828485137e-08 seconds per period period',\n",
       " 'HD @ 30 fps: 27648000 pps --> 1.986965506278811e-08 seconds per period period',\n",
       " 'HD @ 60 fps: 55296000 pps --> 9.934827531394054e-09 seconds per period period',\n",
       " 'Full HD @ 24 fps: 49766400 pps --> 1.1038697257104506e-08 seconds per period period',\n",
       " 'Full HD @ 30 fps: 62208000 pps --> 8.830957805683604e-09 seconds per period period',\n",
       " 'Full HD @ 60 fps: 124416000 pps --> 4.415478902841802e-09 seconds per period period',\n",
       " '4K UHD @ 24 fps: 199065600 pps --> 2.7596743142761265e-09 seconds per period period',\n",
       " '4K UHD @ 30 fps: 248832000 pps --> 2.207739451420901e-09 seconds per period period',\n",
       " '4K UHD @ 60 fps: 497664000 pps --> 1.1038697257104505e-09 seconds per period period',\n",
       " '8K UHD @ 24 fps: 796262400 pps --> 6.899185785690316e-10 seconds per period period',\n",
       " '8K UHD @ 30 fps: 995328000 pps --> 5.519348628552252e-10 seconds per period period',\n",
       " '8K UHD @ 60 fps: 1990656000 pps --> 2.759674314276126e-10 seconds per period period']"
      ]
     },
     "execution_count": 10,
     "metadata": {},
     "output_type": "execute_result"
    }
   ],
   "source": [
    "####################################################\n",
    "# Pixels per second calculation\n",
    "####################################################\n",
    "PPS = []\n",
    "INT_MAX_CYCLES = INTERP_CYCLES + MVGEN_CYCLES\n",
    "\n",
    "for resol in range(len(RESOL_DICT)):\n",
    "    for frames in range(len(FPS)):\n",
    "        PERIOD = 1 / ((RESOL_DICT[resol][1]*FPS[frames][0] / NUM_SAMPLES) * INT_MAX_CYCLES)\n",
    "        PPS.append(RESOL_DICT[resol][0]+' @ '+str(FPS[frames][0])+' fps: '+str(RESOL_DICT[resol][1]*FPS[frames][0])+' pps --> '\n",
    "                   +str(PERIOD)+' seconds per period period')\n",
    "\n",
    "PPS\n",
    "\n",
    "# HD, 24 fps: --- pps -> CLK = \n",
    "# pixel   x   X CICLOS    =  CICLOS   .   \n",
    "# segundo    256 pixels      segundo"
   ]
  },
  {
   "cell_type": "code",
   "execution_count": null,
   "metadata": {},
   "outputs": [],
   "source": []
  }
 ],
 "metadata": {
  "kernelspec": {
   "display_name": "Python 3",
   "language": "python",
   "name": "python3"
  },
  "language_info": {
   "codemirror_mode": {
    "name": "ipython",
    "version": 3
   },
   "file_extension": ".py",
   "mimetype": "text/x-python",
   "name": "python",
   "nbconvert_exporter": "python",
   "pygments_lexer": "ipython3",
   "version": "3.10.5"
  },
  "orig_nbformat": 4
 },
 "nbformat": 4,
 "nbformat_minor": 2
}
