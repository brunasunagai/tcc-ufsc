{
 "cells": [
  {
   "attachments": {},
   "cell_type": "markdown",
   "metadata": {},
   "source": [
    "# Clock period calculator for synthesis"
   ]
  },
  {
   "cell_type": "code",
   "execution_count": 9,
   "metadata": {},
   "outputs": [],
   "source": [
    "####################################################\n",
    "# Parameters\n",
    "####################################################\n",
    "# From video frame\n",
    "BLOCK_SIZE = 4                          # 4x4, 8x8 or 16x16 (must be the same as defined in the MV Gen arch)\n",
    "\n",
    "# From architecture\n",
    "INT_MAX_CYCLES = 29*16                   # Number of cycles needed for the worst case interpolation (diagonal case) (29 cycles for 16 interpolations)\n",
    "INT_MIN_CYCLES = 7*16\n",
    "MVGEN_CYCLES = 2                        # Number of cycles needed for MV Genetaor\n",
    "NUM_SAMPLES = 256                       # Number of samples generated after full processing (16 results for each one of the 16 interpolations)\n",
    "\n",
    "# From video resolution \n",
    "RESOL_DICT = [[\"HD\", 1280*720],         # Common resolutions\n",
    "              [\"Full HD\", 1920*1080],\n",
    "              [\"4K UHD\", 3840*2160],\n",
    "              [\"8K UHD\", 7680*4320]\n",
    "              ]\n",
    "\n",
    "# Common fps rates \n",
    "FPS = [[24, 'This is the standard frame rate used in film production and is often associated with a cinematic look. It has been widely used for many years and is still prevalent in movies and television shows.'],\n",
    "       [30, 'This frame rate is commonly used in television broadcasts, video recordings, and online streaming platforms. It provides smooth motion and is the standard frame rate for most non-cinematic video content.'],\n",
    "       [60, 'This frame rate has gained popularity in recent years, especially in gaming and sports-related content. It offers even smoother motion and is commonly used in high-action scenes or for capturing fast-paced events.']\n",
    "    ]\n",
    "\n"
   ]
  },
  {
   "cell_type": "code",
   "execution_count": 10,
   "metadata": {},
   "outputs": [
    {
     "name": "stdout",
     "output_type": "stream",
     "text": [
      "464\n",
      "#############################################\n",
      "Worst case scenario (interpolation in XY)\n",
      "#############################################\n",
      "HD @ 24 fps: 22118400 pps --> 2.4837068828485137e-08 seconds per period (f = 40.2624 MHz)\n",
      "HD @ 30 fps: 27648000 pps --> 1.986965506278811e-08 seconds per period (f = 50.32800000000001 MHz)\n",
      "HD @ 60 fps: 55296000 pps --> 9.934827531394054e-09 seconds per period (f = 100.65600000000002 MHz)\n",
      "Full HD @ 24 fps: 49766400 pps --> 1.1038697257104506e-08 seconds per period (f = 90.5904 MHz)\n",
      "Full HD @ 30 fps: 62208000 pps --> 8.830957805683604e-09 seconds per period (f = 113.238 MHz)\n",
      "Full HD @ 60 fps: 124416000 pps --> 4.415478902841802e-09 seconds per period (f = 226.476 MHz)\n",
      "4K UHD @ 24 fps: 199065600 pps --> 2.7596743142761265e-09 seconds per period (f = 362.3616 MHz)\n",
      "4K UHD @ 30 fps: 248832000 pps --> 2.207739451420901e-09 seconds per period (f = 452.952 MHz)\n",
      "4K UHD @ 60 fps: 497664000 pps --> 1.1038697257104505e-09 seconds per period (f = 905.904 MHz)\n",
      "8K UHD @ 24 fps: 796262400 pps --> 6.899185785690316e-10 seconds per period (f = 1449.4464 MHz)\n",
      "8K UHD @ 30 fps: 995328000 pps --> 5.519348628552252e-10 seconds per period (f = 1811.808 MHz)\n",
      "8K UHD @ 60 fps: 1990656000 pps --> 2.759674314276126e-10 seconds per period (f = 3623.616 MHz)\n",
      "\n",
      "#############################################\n",
      "Best case scenario (no interpolation)\n",
      "#############################################\n",
      "HD @ 24 fps: 22118400 pps --> 1.0152696556205328e-07 seconds per period (f = 9.8496 MHz)\n",
      "HD @ 30 fps: 27648000 pps --> 8.122157244964263e-08 seconds per period (f = 12.312 MHz)\n",
      "HD @ 60 fps: 55296000 pps --> 4.0610786224821315e-08 seconds per period (f = 24.624 MHz)\n",
      "Full HD @ 24 fps: 49766400 pps --> 4.5123095805357014e-08 seconds per period (f = 22.1616 MHz)\n",
      "Full HD @ 30 fps: 62208000 pps --> 3.609847664428561e-08 seconds per period (f = 27.702000000000005 MHz)\n",
      "Full HD @ 60 fps: 124416000 pps --> 1.8049238322142804e-08 seconds per period (f = 55.40400000000001 MHz)\n",
      "4K UHD @ 24 fps: 199065600 pps --> 1.1280773951339254e-08 seconds per period (f = 88.6464 MHz)\n",
      "4K UHD @ 30 fps: 248832000 pps --> 9.024619161071402e-09 seconds per period (f = 110.80800000000002 MHz)\n",
      "4K UHD @ 60 fps: 497664000 pps --> 4.512309580535701e-09 seconds per period (f = 221.61600000000004 MHz)\n",
      "8K UHD @ 24 fps: 796262400 pps --> 2.8201934878348134e-09 seconds per period (f = 354.5856 MHz)\n",
      "8K UHD @ 30 fps: 995328000 pps --> 2.2561547902678505e-09 seconds per period (f = 443.2320000000001 MHz)\n",
      "8K UHD @ 60 fps: 1990656000 pps --> 1.1280773951339253e-09 seconds per period (f = 886.4640000000002 MHz)\n"
     ]
    }
   ],
   "source": [
    "####################################################\n",
    "# Pixels per second calculation\n",
    "####################################################\n",
    "PPS_WORST = []\n",
    "PPS_BEST = []\n",
    "MAX_CYCLES = INT_MAX_CYCLES + MVGEN_CYCLES\n",
    "MIN_CYCLES = INT_MIN_CYCLES + MVGEN_CYCLES\n",
    "\n",
    "for resol in range(len(RESOL_DICT)):\n",
    "    for frames in range(len(FPS)):\n",
    "        PERIOD_WORST = 1 / ((RESOL_DICT[resol][1]*FPS[frames][0] / NUM_SAMPLES) * MAX_CYCLES)\n",
    "        PPS_WORST.append(RESOL_DICT[resol][0]+' @ '+str(FPS[frames][0])+' fps: '+str(RESOL_DICT[resol][1]*FPS[frames][0])+' pps --> '\n",
    "                   +str(PERIOD_WORST)+' seconds per period (f = '+str((1/PERIOD_WORST)/1000000)+' MHz)')\n",
    "        \n",
    "        PERIOD_BEST = 1 / ((RESOL_DICT[resol][1]*FPS[frames][0] / NUM_SAMPLES) * MIN_CYCLES)\n",
    "        PPS_BEST.append(RESOL_DICT[resol][0]+' @ '+str(FPS[frames][0])+' fps: '+str(RESOL_DICT[resol][1]*FPS[frames][0])+' pps --> '\n",
    "                   +str(PERIOD_BEST)+' seconds per period (f = '+str((1/PERIOD_BEST)/1000000)+' MHz)')\n",
    "\n",
    "print('#############################################')\n",
    "print('Worst case scenario (interpolation in XY)')\n",
    "print('#############################################')\n",
    "for LIST_W in PPS_WORST:\n",
    "    print(LIST_W)\n",
    "print('\\n#############################################')\n",
    "print('Best case scenario (no interpolation)')\n",
    "print('#############################################')\n",
    "for LIST_B in PPS_BEST:\n",
    "    print(LIST_B)\n",
    "\n",
    "# HD, 24 fps: --- pps -> CLK = \n",
    "# pixel   x   X CICLOS    =  CICLOS   .   \n",
    "# segundo    256 pixels      segundo"
   ]
  },
  {
   "cell_type": "code",
   "execution_count": null,
   "metadata": {},
   "outputs": [],
   "source": []
  }
 ],
 "metadata": {
  "kernelspec": {
   "display_name": "Python 3",
   "language": "python",
   "name": "python3"
  },
  "language_info": {
   "codemirror_mode": {
    "name": "ipython",
    "version": 3
   },
   "file_extension": ".py",
   "mimetype": "text/x-python",
   "name": "python",
   "nbconvert_exporter": "python",
   "pygments_lexer": "ipython3",
   "version": "3.10.5"
  },
  "orig_nbformat": 4
 },
 "nbformat": 4,
 "nbformat_minor": 2
}
