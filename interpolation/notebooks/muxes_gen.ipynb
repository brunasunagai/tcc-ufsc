{
 "cells": [
  {
   "attachments": {},
   "cell_type": "markdown",
   "metadata": {},
   "source": [
    "# Multiplexes generator"
   ]
  },
  {
   "attachments": {},
   "cell_type": "markdown",
   "metadata": {},
   "source": [
    "### General parameters"
   ]
  },
  {
   "cell_type": "code",
   "execution_count": 1,
   "metadata": {},
   "outputs": [],
   "source": [
    "import math \n",
    "from datetime import datetime \n",
    "from IPython.display import display, Markdown, clear_output\n",
    "import ipywidgets as widgets"
   ]
  },
  {
   "cell_type": "code",
   "execution_count": 2,
   "metadata": {},
   "outputs": [],
   "source": [
    "####################################################\n",
    "# Inputs definitions\n",
    "####################################################\n",
    "INPUT_N = 4                                     # Input size is a INPUT_N x INPUT_N block of 4x4 sub-blocks\n",
    "INPUT_COORD_WIDTH = 8                           # Number of bits as input for each block in an input line\n",
    "INPUT_MACROBLOCK_SIZE = 16                      # Number of pixels in one macroblock (16 = 4x4)\n",
    "PIXEL_WIDTH = 8                                 # Number of bits for each integer pixel from the reference frame\n",
    "\n",
    "\n",
    "####################################################\n",
    "# Interpolator definitions\n",
    "####################################################\n",
    "INPUT_LINE_SIZE = 9                             # Input size for ONE line loaded to the buffer (9 integer pixels)\n",
    "TAPS = 6                                        # Number of taps\n",
    "FILTERS = 15                                    # Number of filters (= number of outputs expected)\n",
    "OUT_1ST_INTERP_WIDTH = 11                       # Width for every 15 interpolation output for FIRST PASS\n",
    "OUT_2ND_INTERP_WIDTH = 14                       # Width for every 15 interpolation output for SECOND PASS\n",
    "\n",
    "\n",
    "####################################################\n",
    "# Motion Vector Generator definitions\n",
    "####################################################\n",
    "INPUT_COORD_WIDTH = 8                           # Input size for the coordinates X and Y\n",
    "INPUT_MV_WIDTH = 8                              # Input size for the block motion vectors (MV0 and MV1)\n",
    "OUTPUT_MV_GEN_WIDTH = 19                        # Output size of the Motion Vector module (4 and 6 parameters are equal)"
   ]
  },
  {
   "cell_type": "code",
   "execution_count": 3,
   "metadata": {},
   "outputs": [],
   "source": [
    "####################################################\n",
    "# Rewrite muxes\n",
    "####################################################\n",
    "# [MUX NAME, NUMBER OF INPUTS, INPUTS BIT WIDTH, DESCRIPTION, SIGNED/UNSIGED]\n",
    "MUX_MATRIX = [['mux_sel_coord', 2, INPUT_COORD_WIDTH, 'Selects between the original coord (0) or the increased coord (1). For X and Y coords.', 'signed'],\n",
    "              ['mux_sel_buffer_in', 2, OUT_2ND_INTERP_WIDTH, 'Selects between interpolation output (0) or external integer samples (1).', 'signed'],\n",
    "              ['mux_sel_buffer_column', 8, OUT_1ST_INTERP_WIDTH*INPUT_LINE_SIZE, 'Selects the column to be read from the transposed buffer.', 'unsigned'],\n",
    "              ['mux_sel_interp_line_in', 2, OUT_1ST_INTERP_WIDTH*INPUT_LINE_SIZE, 'Selects between the column from buffer (0) or external line (1).', 'unsigned'],\n",
    "              ['mux_sel_dimension', 2, int(math.log2(FILTERS+1)), 'Selects between the MV_Y LSB (0) or the MV_X LSB (1).', 'unsigned'],\n",
    "              ['mux_sel_filter', FILTERS+1, OUT_2ND_INTERP_WIDTH, 'Selects between the 15 outputs from interpolation.', 'signed']\n",
    "              ]"
   ]
  },
  {
   "cell_type": "code",
   "execution_count": 4,
   "metadata": {},
   "outputs": [],
   "source": [
    "###############################################\n",
    "# Mux text template\n",
    "###############################################\n",
    "def generate_mux(ind):    \n",
    "    # Modified date\n",
    "    DATE_MODIF = str(datetime.today().strftime('%d/%m/%Y'))\n",
    "\n",
    "    # Selector bit width\n",
    "    SEL_WIDTH = int(math.log2(MUX_MATRIX[ind][1]))\n",
    "\n",
    "    # Loop to generate the input names, sensitivity list and cases\n",
    "    INPUT_NAME = []\n",
    "    SENSIVITY_LIST = []\n",
    "    CASE_LIST = []\n",
    "    for i in range(MUX_MATRIX[ind][1]):\n",
    "        # INPUT_NAME.append('  input ['+str(MUX_MATRIX[ind][2]-1)+':0] DATA_IN_'+str(i)+',')\n",
    "        # SENSIVITY_LIST.append(' or DATA_IN_'+str(i))\n",
    "        if ind != 2 and ind != 5:\n",
    "            INPUT_NAME.append('  input '+MUX_MATRIX[ind][4]+' ['+str(MUX_MATRIX[ind][2]-1)+':0] DATA_IN_'+str(i)+',')\n",
    "            SENSIVITY_LIST.append(' or DATA_IN_'+str(i))\n",
    "            CASE_LIST.append('\\t'+str(SEL_WIDTH)+\"'b\"+str(bin(i)[2:].zfill(SEL_WIDTH))+': DATA_OUT = DATA_IN_'+str(i)+';')\n",
    "        elif ind == 2 and (i == 1 or i == 2 or i == 3 or i == 4):\n",
    "            SENSIVITY_LIST.append(' or DATA_IN_'+str(i))\n",
    "            INPUT_NAME.append('  input '+MUX_MATRIX[ind][4]+' ['+str(MUX_MATRIX[ind][2]-1)+':0] DATA_IN_'+str(i)+',')\n",
    "            CASE_LIST.append('\\t'+str(SEL_WIDTH)+\"'b\"+str(bin(i)[2:].zfill(SEL_WIDTH))+': DATA_OUT = DATA_IN_'+str(i)+';')\n",
    "        elif ind == 2 and i == 0:\n",
    "            CASE_LIST.append('\\tdefault: DATA_OUT = '+str(MUX_MATRIX[ind][2])+\"'b0;\")\n",
    "        elif ind == 5 and i != 15:\n",
    "            INPUT_NAME.append('  input '+MUX_MATRIX[ind][4]+' ['+str(MUX_MATRIX[ind][2]-1)+':0] DATA_IN_'+str(i)+',')\n",
    "            SENSIVITY_LIST.append(' or DATA_IN_'+str(i))\n",
    "            CASE_LIST.append('\\t'+str(SEL_WIDTH)+\"'b\"+str(bin(i)[2:].zfill(SEL_WIDTH))+': DATA_OUT = DATA_IN_'+str(i)+';')\n",
    "        elif ind == 5 and i == 15:\n",
    "            CASE_LIST.append('\\tdefault: DATA_OUT = '+str(MUX_MATRIX[ind][2])+\"'b0;\")\n",
    "\n",
    "    INPUT_NAME_CONCAT = '\\n'.join(INPUT_NAME)\n",
    "    SENSIVITY_LIST_CONCAT = ''.join(SENSIVITY_LIST)\n",
    "    CASE_LIST_CONCAT = '\\n'.join(CASE_LIST)\n",
    "\n",
    "    # Register file text\n",
    "    mux_verilog = '''/*-----------------------------------------------------------------------------------\n",
    "* File: '''+MUX_MATRIX[ind][0]+'''.v\n",
    "* Date generated: 25/03/2023\n",
    "* Date modified: '''+DATE_MODIF+'''\n",
    "* Author: Bruna Suemi Nagai\n",
    "* Description: '''+str(MUX_MATRIX[ind][3])+'''\n",
    "*----------------------------------------------------------------------------------- */\n",
    "\n",
    "module '''+MUX_MATRIX[ind][0]+''' (\n",
    "'''+INPUT_NAME_CONCAT+'''\n",
    "  input ['''+str(SEL_WIDTH-1)+''':0] SELECT,\n",
    "  output reg '''+MUX_MATRIX[ind][4]+''' ['''+str(MUX_MATRIX[ind][2]-1)+''':0] DATA_OUT\n",
    ");\n",
    "    \n",
    "\n",
    "// ------------------------------------------\n",
    "// Sequential logic\n",
    "// ------------------------------------------\n",
    "always @ (SELECT'''+SENSIVITY_LIST_CONCAT+''')\n",
    "  case (SELECT)\n",
    "'''+CASE_LIST_CONCAT+'''\n",
    "  endcase\n",
    "\n",
    "endmodule // '''+MUX_MATRIX[ind][0]+'''\n",
    "    '''\n",
    "\n",
    "    # Write the register file\n",
    "    with open('../verilog/muxes/'+MUX_MATRIX[ind][0]+'.v', 'w') as mux_file:\n",
    "        mux_file.write(mux_verilog)\n"
   ]
  },
  {
   "cell_type": "code",
   "execution_count": 5,
   "metadata": {},
   "outputs": [
    {
     "data": {
      "application/vnd.jupyter.widget-view+json": {
       "model_id": "5e825569215b4c518be64a241e2859aa",
       "version_major": 2,
       "version_minor": 0
      },
      "text/plain": [
       "Dropdown(description='Mux:', options=('Select a mux...', 'mux_sel_coord', 'mux_sel_buffer_in', 'mux_sel_buffer…"
      ]
     },
     "metadata": {},
     "output_type": "display_data"
    },
    {
     "data": {
      "application/vnd.jupyter.widget-view+json": {
       "model_id": "406754dfde074c83b0724e4be7aaa529",
       "version_major": 2,
       "version_minor": 0
      },
      "text/plain": [
       "Button(description='Generate mux file', style=ButtonStyle())"
      ]
     },
     "metadata": {},
     "output_type": "display_data"
    },
    {
     "name": "stdout",
     "output_type": "stream",
     "text": [
      "Mux mux_sel_buffer_in generated.\n",
      "Index = 1\n"
     ]
    }
   ],
   "source": [
    "# Define the list of words to select from\n",
    "mux_names = ['Select a mux...', 'mux_sel_coord', 'mux_sel_buffer_in', 'mux_sel_buffer_column', 'mux_sel_interp_line_in', \n",
    "             'mux_sel_dimension', 'mux_sel_filter', 'Generate all']\n",
    "\n",
    "# Define the initial values \n",
    "SELECTED_MUX = 'MUX_NOOB'\n",
    "MUX_INDEX = 0\n",
    "\n",
    "# Create the dropdown widget\n",
    "word_select = widgets.Dropdown(\n",
    "    options=mux_names,\n",
    "    value=mux_names[0],\n",
    "    description='Mux:')\n",
    "\n",
    "# Create the button widget\n",
    "button = widgets.Button(description='Generate mux file')\n",
    "\n",
    "# Define a function to update the SELECTED_MUX variable\n",
    "def update_mux_name(b):\n",
    "    global MUX_INDEX\n",
    "    SELECTED_MUX = word_select.value\n",
    "    if SELECTED_MUX == 'mux_sel_coord':\n",
    "        MUX_INDEX = 0\n",
    "    elif SELECTED_MUX == 'mux_sel_buffer_in':\n",
    "        MUX_INDEX = 1\n",
    "    elif SELECTED_MUX == 'mux_sel_buffer_column':\n",
    "        MUX_INDEX = 2\n",
    "    elif SELECTED_MUX == 'mux_sel_interp_line_in':\n",
    "        MUX_INDEX = 3\n",
    "    elif SELECTED_MUX == 'mux_sel_dimension':\n",
    "        MUX_INDEX = 4\n",
    "    elif SELECTED_MUX == 'mux_sel_filter':\n",
    "        MUX_INDEX = 5\n",
    "    elif SELECTED_MUX == 'Generate all':\n",
    "        MUX_INDEX = 6\n",
    "    else:\n",
    "        MUX_INDEX = 7\n",
    "\n",
    "    # Loop for generate all    \n",
    "    if MUX_INDEX == 6:\n",
    "        for i in range(MUX_INDEX):\n",
    "            generate_mux(i)\n",
    "            print('Mux ', MUX_MATRIX[i][0], ' generated.')\n",
    "            print('Index =', i)\n",
    "        print('Finished generating all muxes :)')\n",
    "    else:\n",
    "        print('Mux', SELECTED_MUX, 'generated.')\n",
    "        print('Index =', MUX_INDEX)\n",
    "        generate_mux(MUX_INDEX)\n",
    "\n",
    "# Attach the function to the button's on-click event\n",
    "button.on_click(update_mux_name)\n",
    "\n",
    "# Display the widgets\n",
    "display(word_select)\n",
    "display(button)\n"
   ]
  },
  {
   "cell_type": "code",
   "execution_count": null,
   "metadata": {},
   "outputs": [],
   "source": []
  }
 ],
 "metadata": {
  "kernelspec": {
   "display_name": "Python 3",
   "language": "python",
   "name": "python3"
  },
  "language_info": {
   "codemirror_mode": {
    "name": "ipython",
    "version": 3
   },
   "file_extension": ".py",
   "mimetype": "text/x-python",
   "name": "python",
   "nbconvert_exporter": "python",
   "pygments_lexer": "ipython3",
   "version": "3.10.5"
  },
  "orig_nbformat": 4
 },
 "nbformat": 4,
 "nbformat_minor": 2
}
