{
 "cells": [
  {
   "attachments": {},
   "cell_type": "markdown",
   "metadata": {},
   "source": [
    "# Interpolation datapath generator"
   ]
  },
  {
   "attachments": {},
   "cell_type": "markdown",
   "metadata": {},
   "source": [
    "### Parameters"
   ]
  },
  {
   "cell_type": "code",
   "execution_count": 5,
   "metadata": {},
   "outputs": [],
   "source": [
    "import math \n",
    "import numpy as np\n",
    "from datetime import datetime"
   ]
  },
  {
   "cell_type": "code",
   "execution_count": 4,
   "metadata": {},
   "outputs": [],
   "source": [
    "####################################################\n",
    "# Inputs definitions\n",
    "####################################################\n",
    "INPUT_N = 4                                     # Input size is a INPUT_N x INPUT_N block of 4x4 sub-blocks\n",
    "INPUT_COORD_WIDTH = 8                           # Number of bits as input for each block in an input line\n",
    "INPUT_MACROBLOCK_SIZE = 16                      # Number of pixels in one macroblock (16 = 4x4)\n",
    "PIXEL_WIDTH = 8                                 # Number of bits for each integer pixel from the reference frame\n",
    "\n",
    "\n",
    "####################################################\n",
    "# Interpolator definitions\n",
    "####################################################\n",
    "INPUT_LINE_SIZE = 9                             # Input size for ONE line loaded to the buffer (9 integer pixels)\n",
    "TAPS = 6                                        # Number of taps\n",
    "FILTERS = 15                                    # Number of filters (= number of outputs expected)\n",
    "OUT_1ST_INTERP_WIDTH = 11                       # Width for every 15 interpolation output for FIRST PASS\n",
    "OUT_2ND_INTERP_WIDTH = 14                       # Width for every 15 interpolation output for SECOND PASS\n",
    "BUFFER_LINES = 9                                # Number of lines in the transposed buffer\n",
    "BUFFER_COLUMNS = 4                              # Number of columns in the transposed buffer\n",
    "\n",
    "\n",
    "####################################################\n",
    "# Motion Vector Generator definitions\n",
    "####################################################\n",
    "INPUT_COORD_WIDTH = 8                           # Input size for the coordinates X and Y\n",
    "INPUT_MV_WIDTH = 8                              # Input size for the block motion vectors (MV0 and MV1)\n",
    "OUTPUT_MV_GEN_WIDTH = 19                        # Output size of the Motion Vector module (4 and 6 parameters are equal)\n",
    "\n",
    "\n",
    "####################################################\n",
    "# INTERPOLATOR DATAPATH DEFINITIONS\n",
    "####################################################\n",
    "PARALLEL = 1                                    # Number of lines to be processed each time the interpolator runs. \n",
    "                                                #       Obs: 1 line has 9 integer samples\n",
    "INT_FILE_NAME = 'interpolation_datapath'        # Interpolation datapath file name\n",
    "INT_DESCRIPTION = 'Interpolation datapath to process '\n"
   ]
  },
  {
   "attachments": {},
   "cell_type": "markdown",
   "metadata": {},
   "source": [
    "### Intermediate variables calculation"
   ]
  },
  {
   "cell_type": "code",
   "execution_count": null,
   "metadata": {},
   "outputs": [],
   "source": [
    "####################################################\n",
    "# INTERPOLATOR VARIABLES\n",
    "####################################################\n",
    "# Control inputs [signal name, bit width, io type, description]\n",
    "# Obs: io type is relative to this datapath pov\n",
    "INT_CTRL_SIGNALS = [\n",
    "    \n",
    "]"
   ]
  },
  {
   "attachments": {},
   "cell_type": "markdown",
   "metadata": {},
   "source": [
    "### Datapath text"
   ]
  },
  {
   "cell_type": "code",
   "execution_count": null,
   "metadata": {},
   "outputs": [],
   "source": [
    "#########################################\n",
    "# Text writing: Interpolation datapath\n",
    "#########################################\n",
    "# Modified date\n",
    "DATE_MODIF = str(datetime.today().strftime('%d/%m/%Y'))\n",
    "\n",
    "INT_DATAPATH_VERILOG = '''/*------------------------------------------------------------------------------\n",
    " * File: datapath.v\n",
    " * Date generated: 13/03/2023\n",
    " * Date modified: '''+DATE_MODIF+'''\n",
    " * Author: Bruna Suemi Nagai\n",
    " * Description: Combinational datapath.\n",
    " *------------------------------------------------------------------------------ */\n",
    "\n",
    "module datapath (\n",
    "    '''"
   ]
  }
 ],
 "metadata": {
  "kernelspec": {
   "display_name": "Python 3",
   "language": "python",
   "name": "python3"
  },
  "language_info": {
   "codemirror_mode": {
    "name": "ipython",
    "version": 3
   },
   "file_extension": ".py",
   "mimetype": "text/x-python",
   "name": "python",
   "nbconvert_exporter": "python",
   "pygments_lexer": "ipython3",
   "version": "3.10.5"
  },
  "orig_nbformat": 4
 },
 "nbformat": 4,
 "nbformat_minor": 2
}
