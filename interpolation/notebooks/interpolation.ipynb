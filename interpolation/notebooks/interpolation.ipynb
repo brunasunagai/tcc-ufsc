{
 "cells": [
  {
   "attachments": {},
   "cell_type": "markdown",
   "metadata": {},
   "source": [
    "# Interpolation visualizer"
   ]
  },
  {
   "attachments": {},
   "cell_type": "markdown",
   "metadata": {},
   "source": [
    "### Parameters"
   ]
  },
  {
   "cell_type": "code",
   "execution_count": 39,
   "metadata": {},
   "outputs": [],
   "source": [
    "N = 16      # Number of pixels by block\n",
    "FRAC = 4    # Number of fractional pixels for interpolation (eg: 1/4 of resolution)\n",
    "MODE = 0    # Select MC(0) or FME(1):\n",
    "SEARCH = 2  # [Only for MC] Select Horizontal search(0), Vertical search(1) or Full search(2)\n",
    "TAPS = 8    # Number of taps in the filter\n",
    "I = 8       # Input size of the line \n",
    "S = 1       # Stride=1 means that the filter will deslocate 1 by 1 pixel at the time"
   ]
  },
  {
   "attachments": {},
   "cell_type": "markdown",
   "metadata": {},
   "source": [
    "### Filter coefficients"
   ]
  },
  {
   "cell_type": "code",
   "execution_count": null,
   "metadata": {},
   "outputs": [],
   "source": []
  },
  {
   "attachments": {},
   "cell_type": "markdown",
   "metadata": {},
   "source": [
    "### Imports"
   ]
  },
  {
   "cell_type": "code",
   "execution_count": 40,
   "metadata": {},
   "outputs": [],
   "source": [
    "import math\n",
    "import numpy as np\n",
    "from matplotlib import pyplot as plt"
   ]
  },
  {
   "attachments": {},
   "cell_type": "markdown",
   "metadata": {},
   "source": [
    "### Calculated parameters"
   ]
  },
  {
   "cell_type": "code",
   "execution_count": 41,
   "metadata": {},
   "outputs": [
    {
     "name": "stdout",
     "output_type": "stream",
     "text": [
      "Padding =  3\n",
      "Integer =  3.0\n"
     ]
    }
   ],
   "source": [
    "# Calculating padding\n",
    "PADDING = math.ceil((TAPS - 1) / 2) - 1\n",
    "\n",
    "# Calculating one line size (considering a squared-block)\n",
    "LINE = math.sqrt(N)\n",
    "\n",
    "# Ensure that it results in an integer:\n",
    "inteiro = (I - TAPS + 2*PADDING) / (S + 1)\n",
    "\n",
    "print(\"Padding = \", PADDING)\n",
    "print(\"Integer = \", inteiro)"
   ]
  },
  {
   "attachments": {},
   "cell_type": "markdown",
   "metadata": {},
   "source": [
    "### Basic setup"
   ]
  },
  {
   "cell_type": "code",
   "execution_count": 77,
   "metadata": {},
   "outputs": [
    {
     "name": "stdout",
     "output_type": "stream",
     "text": [
      "Matrix size:  19 x 19\n"
     ]
    },
    {
     "data": {
      "image/png": "[encoded data removed]",
      "text/plain": [
       "<Figure size 504x504 with 1 Axes>"
      ]
     },
     "metadata": {
      "needs_background": "light"
     },
     "output_type": "display_data"
    }
   ],
   "source": [
    "# Size of the ploted image \n",
    "plt.rcParams[\"figure.figsize\"]=[7,7] \n",
    "plt.rcParams[\"figure.autolayout\"]=True\n",
    "fig, ax = plt.subplots()\n",
    "\n",
    "# Size of the matrix max_val x max_val\n",
    "max_val = int(LINE + 2*PADDING + (FRAC-1)*(LINE-1))   \n",
    "\n",
    "# MATRIX[HORIZONTAL, VERTICAL]\n",
    "matrix = np.zeros((max_val, max_val), dtype=np.uint8)\n",
    "\n",
    "# The original pixels from the input block\n",
    "for w in range(0,max_val-PADDING,FRAC):\n",
    "    for h in range(0,max_val-PADDING,FRAC):\n",
    "        matrix[PADDING+w, PADDING+h] = 4\n",
    "\n",
    "# Horizontally interpolated pixels (1st pass)\n",
    "for w in range(0,max_val-PADDING,FRAC):             # Loop to run between lines\n",
    "    # for h in range(0,max_val-PADDING,FRAC):       # @bnagai: for padding only in left-superior sides\n",
    "    for h in range(0,max_val-PADDING-FRAC,FRAC):    # Loop to run between columns        \n",
    "        for f in range(0,FRAC-1,1):                 # Loop to print every padding space between integers\n",
    "            matrix[PADDING+w, PADDING+h+1+f] = 3\n",
    "\n",
    "# Vertically interpolated pixels (2nd pass)\n",
    "for w in range(0,max_val-PADDING-FRAC,FRAC):        # Loop to run between lines\n",
    "# for w in range(0,max_val-PADDING-FRAC,FRAC):      # @bnagai: for padding only in left-superior sides\n",
    "    for h in range(0,max_val-PADDING,FRAC):         # Loop to run between columns\n",
    "        for f in range(0,FRAC-1,1):                 # Loop to print every padding space between integers\n",
    "            matrix[PADDING+1+w+f,PADDING+h] = 2\n",
    "\n",
    "# Vertical and dependent interpolated pixels (2nd pass)\n",
    "for w in range(0,max_val-PADDING-FRAC,FRAC):        # Loop to run between lines\n",
    "    for h in range(1,max_val-PADDING-FRAC,1):       # Loop to run between columns\n",
    "        if h%FRAC != 0:                             # Check if it isnt already filled\n",
    "            for f in range(0,FRAC-1,1):             # Loop to print every padding space between integers\n",
    "                matrix[PADDING+1+w+f,PADDING+h] = 1\n",
    "\n",
    "# Define the colors of the pixels \n",
    "ax.matshow(matrix, cmap='Greens')\n",
    "\n",
    "# Write the number of each pixel\n",
    "for i in range(max_val):\n",
    "    for j in range(max_val):\n",
    "        c = matrix[j,i]\n",
    "        ax.text(i, j, str(c), va='center', ha='center')\n",
    "\n",
    "# Print the matriz\n",
    "print('Matrix size: ', max_val, 'x', max_val)\n",
    "plt.show()"
   ]
  },
  {
   "attachments": {},
   "cell_type": "markdown",
   "metadata": {},
   "source": [
    "### Trying interpolation with random values"
   ]
  },
  {
   "attachments": {},
   "cell_type": "markdown",
   "metadata": {},
   "source": [
    "#### Legend"
   ]
  },
  {
   "attachments": {},
   "cell_type": "markdown",
   "metadata": {},
   "source": [
    " 0 = Padding\n",
    " \n",
    " 4 = Original pixels from block \n",
    "\n",
    " 3 = Horizontaly generated pixels in 1st pass\n",
    "\n",
    " 2 = Verticaly generated pixels in 2nd pass\n",
    " \n",
    " 1 = Dependent verticaly generated pixels in 2nd pass"
   ]
  },
  {
   "attachments": {},
   "cell_type": "markdown",
   "metadata": {},
   "source": [
    "supported values are 'Accent', 'Accent_r', 'Blues', 'Blues_r', 'BrBG', 'BrBG_r', 'BuGn', 'BuGn_r', 'BuPu', 'BuPu_r', 'CMRmap', 'CMRmap_r', 'Dark2', 'Dark2_r', 'GnBu', 'GnBu_r', 'Greens', 'Greens_r', 'Greys', 'Greys_r', 'OrRd', 'OrRd_r', 'Oranges', 'Oranges_r', 'PRGn', 'PRGn_r', 'Paired', 'Paired_r', 'Pastel1', 'Pastel1_r', 'Pastel2', 'Pastel2_r', 'PiYG', 'PiYG_r', 'PuBu', 'PuBuGn', 'PuBuGn_r', 'PuBu_r', 'PuOr', 'PuOr_r', 'PuRd', 'PuRd_r', 'Purples', 'Purples_r', 'RdBu', 'RdBu_r', 'RdGy', 'RdGy_r', 'RdPu', 'RdPu_r', 'RdYlBu', 'RdYlBu_r', 'RdYlGn', 'RdYlGn_r', 'Reds', 'Reds_r', 'Set1', 'Set1_r', 'Set2', 'Set2_r', 'Set3', 'Set3_r', 'Spectral', 'Spectral_r', 'Wistia', 'Wistia_r', 'YlGn', 'YlGnBu', 'YlGnBu_r', 'YlGn_r', 'YlOrBr', 'YlOrBr_r', 'YlOrRd', 'YlOrRd_r', 'afmhot', 'afmhot_r', 'autumn', 'autumn_r', 'binary', 'binary_r', 'bone', 'bone_r', 'brg', 'brg_r', 'bwr', 'bwr_r', 'cividis', 'cividis_r', 'cool', 'cool_r', 'coolwarm', 'coolwarm_r', 'copper', 'copper_r', 'cubehelix', 'cubehelix_r', 'flag', 'flag_r', 'gist_earth', 'gist_earth_r', 'gist_gray', 'gist_gray_r', 'gist_heat', 'gist_heat_r', 'gist_ncar', 'gist_ncar_r', 'gist_rainbow', 'gist_rainbow_r', 'gist_stern', 'gist_stern_r', 'gist_yarg', 'gist_yarg_r', 'gnuplot', 'gnuplot2', 'gnuplot2_r', 'gnuplot_r', 'gray', 'gray_r', 'hot', 'hot_r', 'hsv', 'hsv_r', 'inferno', 'inferno_r', 'jet', 'jet_r', 'magma', 'magma_r', 'nipy_spectral', 'nipy_spectral_r', 'ocean', 'ocean_r', 'pink', 'pink_r', 'plasma', 'plasma_r', 'prism', 'prism_r', 'rainbow', 'rainbow_r', 'seismic', \n",
    "'seismic_r', 'spring', 'spring_r', 'summer', 'summer_r', 'tab10', 'tab10_r', 'tab20', 'tab20_r', 'tab20b', 'tab20b_r', 'tab20c', 'tab20c_r', 'terrain', 'terrain_r', 'turbo', 'turbo_r', 'twilight', 'twilight_r', 'twilight_shifted', 'twilight_shifted_r', 'viridis', 'viridis_r', 'winter', 'winter_r'"
   ]
  },
  {
   "attachments": {},
   "cell_type": "markdown",
   "metadata": {},
   "source": [
    "## Motion Compensation (MC)"
   ]
  },
  {
   "attachments": {},
   "cell_type": "markdown",
   "metadata": {},
   "source": [
    "X and Y are the vectors generated for affine transformation.\n",
    "\n",
    "Their format are fixed point ?"
   ]
  },
  {
   "attachments": {},
   "cell_type": "markdown",
   "metadata": {},
   "source": [
    "#### First case: X and Y components are integers"
   ]
  },
  {
   "cell_type": "code",
   "execution_count": 44,
   "metadata": {},
   "outputs": [],
   "source": [
    "# Nothing to do, just foward the input"
   ]
  },
  {
   "attachments": {},
   "cell_type": "markdown",
   "metadata": {},
   "source": [
    "#### Second case: X or Y component is fractional"
   ]
  },
  {
   "cell_type": "code",
   "execution_count": 45,
   "metadata": {},
   "outputs": [],
   "source": [
    "# Second test"
   ]
  },
  {
   "attachments": {},
   "cell_type": "markdown",
   "metadata": {},
   "source": [
    "#### Third case: X and Y components are fractional"
   ]
  },
  {
   "cell_type": "code",
   "execution_count": null,
   "metadata": {},
   "outputs": [],
   "source": []
  },
  {
   "attachments": {},
   "cell_type": "markdown",
   "metadata": {},
   "source": [
    "## Fractional Motion Estimation (FME)"
   ]
  },
  {
   "cell_type": "markdown",
   "metadata": {},
   "source": []
  }
 ],
 "metadata": {
  "kernelspec": {
   "display_name": "Python 3",
   "language": "python",
   "name": "python3"
  },
  "language_info": {
   "codemirror_mode": {
    "name": "ipython",
    "version": 3
   },
   "file_extension": ".py",
   "mimetype": "text/x-python",
   "name": "python",
   "nbconvert_exporter": "python",
   "pygments_lexer": "ipython3",
   "version": "3.10.5"
  },
  "orig_nbformat": 4,
  "vscode": {
   "interpreter": {
    "hash": "4d9c694c8aec39b264fb08e5e28ee8a55a7e14ae91bb73d0b06a9e720b258e83"
   }
  }
 },
 "nbformat": 4,
 "nbformat_minor": 2
}
