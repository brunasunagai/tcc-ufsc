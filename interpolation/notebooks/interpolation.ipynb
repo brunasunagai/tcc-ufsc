{
 "cells": [
  {
   "attachments": {},
   "cell_type": "markdown",
   "metadata": {},
   "source": [
    "# Interpolation visualizer"
   ]
  },
  {
   "attachments": {},
   "cell_type": "markdown",
   "metadata": {},
   "source": [
    "### Parameters"
   ]
  },
  {
   "cell_type": "code",
   "execution_count": 1,
   "metadata": {},
   "outputs": [],
   "source": [
    "N = 16      # Number of pixels by block\n",
    "FRAC = 16   # Number of fractional pixels for interpolation\n",
    "MODE = 0    # Select MC(0) or FME(1):\n",
    "SEARCH = 2  # [Only for MC] Select Horizontal search(0), Vertical search(1) or Full search(2)\n",
    "TAPS = 8    # Number of taps in the filter\n",
    "I = 8       # Input size of the line \n",
    "S = 1       # Stride=1 means that the filter will deslocate 1 by 1 pixel at the time"
   ]
  },
  {
   "attachments": {},
   "cell_type": "markdown",
   "metadata": {},
   "source": [
    "#### Calculated parameters"
   ]
  },
  {
   "cell_type": "code",
   "execution_count": 2,
   "metadata": {},
   "outputs": [],
   "source": [
    "import math"
   ]
  },
  {
   "cell_type": "code",
   "execution_count": 11,
   "metadata": {},
   "outputs": [
    {
     "name": "stdout",
     "output_type": "stream",
     "text": [
      "Padding =  4\n",
      "Integer =  4.0\n"
     ]
    }
   ],
   "source": [
    "# Calculating padding\n",
    "PADDING = math.ceil((TAPS - 1) / 2)\n",
    "\n",
    "# Calculating one line size (considering a squared-block)\n",
    "LINE = math.sqrt(N)\n",
    "\n",
    "# Ensure that it results in an integer:\n",
    "int = (I - TAPS + 2*PADDING) / (S + 1)\n",
    "\n",
    "print(\"Padding = \", PADDING)\n",
    "print(\"Integer = \", int)"
   ]
  },
  {
   "attachments": {},
   "cell_type": "markdown",
   "metadata": {},
   "source": [
    "### Basic setup"
   ]
  },
  {
   "cell_type": "code",
   "execution_count": 4,
   "metadata": {},
   "outputs": [],
   "source": [
    "import numpy as np\n",
    "from matplotlib import pyplot as plt"
   ]
  },
  {
   "cell_type": "code",
   "execution_count": 12,
   "metadata": {},
   "outputs": [
    {
     "ename": "TypeError",
     "evalue": "'float' object cannot be interpreted as an integer",
     "output_type": "error",
     "traceback": [
      "\u001b[1;31m---------------------------------------------------------------------------\u001b[0m",
      "\u001b[1;31mTypeError\u001b[0m                                 Traceback (most recent call last)",
      "\u001b[1;32m~\\AppData\\Local\\Temp/ipykernel_16232/3367694994.py\u001b[0m in \u001b[0;36m<module>\u001b[1;34m\u001b[0m\n\u001b[0;32m      5\u001b[0m \u001b[0mmin_val\u001b[0m \u001b[1;33m=\u001b[0m \u001b[1;36m0\u001b[0m\u001b[1;33m\u001b[0m\u001b[1;33m\u001b[0m\u001b[0m\n\u001b[0;32m      6\u001b[0m \u001b[0mmax_val\u001b[0m \u001b[1;33m=\u001b[0m \u001b[0mLINE\u001b[0m \u001b[1;33m+\u001b[0m \u001b[1;36m2\u001b[0m\u001b[1;33m*\u001b[0m\u001b[0mPADDING\u001b[0m \u001b[1;33m+\u001b[0m \u001b[0mFRAC\u001b[0m\u001b[1;33m*\u001b[0m\u001b[1;33m(\u001b[0m\u001b[0mLINE\u001b[0m\u001b[1;33m/\u001b[0m\u001b[1;36m2\u001b[0m \u001b[1;33m-\u001b[0m \u001b[1;36m1\u001b[0m\u001b[1;33m)\u001b[0m   \u001b[1;31m# Size of the matrix max_val x max_val\u001b[0m\u001b[1;33m\u001b[0m\u001b[1;33m\u001b[0m\u001b[0m\n\u001b[1;32m----> 7\u001b[1;33m \u001b[0mmatrix\u001b[0m \u001b[1;33m=\u001b[0m \u001b[0mnp\u001b[0m\u001b[1;33m.\u001b[0m\u001b[0mzeros\u001b[0m\u001b[1;33m(\u001b[0m\u001b[1;33m(\u001b[0m\u001b[0mmax_val\u001b[0m\u001b[1;33m,\u001b[0m \u001b[0mmax_val\u001b[0m\u001b[1;33m)\u001b[0m\u001b[1;33m,\u001b[0m \u001b[0mdtype\u001b[0m\u001b[1;33m=\u001b[0m\u001b[0mnp\u001b[0m\u001b[1;33m.\u001b[0m\u001b[0muint8\u001b[0m\u001b[1;33m)\u001b[0m\u001b[1;33m\u001b[0m\u001b[1;33m\u001b[0m\u001b[0m\n\u001b[0m\u001b[0;32m      8\u001b[0m \u001b[1;31m# MATRIX[HORIZONTAL, VERTICAL]\u001b[0m\u001b[1;33m\u001b[0m\u001b[1;33m\u001b[0m\u001b[0m\n\u001b[0;32m      9\u001b[0m \u001b[1;33m\u001b[0m\u001b[0m\n",
      "\u001b[1;31mTypeError\u001b[0m: 'float' object cannot be interpreted as an integer"
     ]
    },
    {
     "data": {
      "image/png": "[encoded data removed]",
      "text/plain": [
       "<Figure size 504x504 with 1 Axes>"
      ]
     },
     "metadata": {
      "needs_background": "light"
     },
     "output_type": "display_data"
    }
   ],
   "source": [
    "plt.rcParams[\"figure.figsize\"]=[7,7] # Size of the ploted image \n",
    "plt.rcParams[\"figure.autolayout\"]=True\n",
    "\n",
    "fig, ax = plt.subplots()\n",
    "min_val = 0\n",
    "max_val = LINE + 2*PADDING + FRAC*(LINE/2 - 1)   # Size of the matrix max_val x max_val\n",
    "matrix = np.zeros((max_val, max_val), dtype=np.uint8)\n",
    "# MATRIX[HORIZONTAL, VERTICAL]\n",
    "\n",
    "# The original pixels from the input block\n",
    "matrix[PADDING,PADDING] = 1\n",
    "matrix[max_val-PADDING-1,max_val-PADDING-1] = 1\n",
    "matrix[max_val-PADDING-1, PADDING] = 1\n",
    "matrix[PADDING, max_val-PADDING-1] = 1\n",
    "\n",
    "# Horizontaly interpolated pixels (1st pass)\n",
    "matrix[PADDING, PADDING+1:max_val-PADDING-1] = 2\n",
    "matrix[max_val-PADDING-1, PADDING+1:max_val-PADDING-1] = 2\n",
    "\n",
    "# Verticaly interpolated pixels (2nd pass)\n",
    "matrix[PADDING+1:max_val-PADDING-1,PADDING] = 3\n",
    "matrix[PADDING+1:max_val-PADDING-1,max_val-PADDING-1] = 3\n",
    "\n",
    "# Vertical and dependent interpolated pixels (2nd pass)\n",
    "matrix[PADDING+1:max_val-PADDING-1,PADDING+1:max_val-PADDING-1] = 4\n",
    "\n",
    "ax.matshow(matrix, cmap='OrRd_r')\n",
    "\n",
    "# Write the \n",
    "for i in range(max_val):\n",
    "    for j in range(max_val):\n",
    "        c = matrix[j,i]\n",
    "        ax.text(i, j, str(c), va='center', ha='center')\n",
    "\n",
    "print('Matrix size: ', max_val, 'x', max_val)\n",
    "plt.show()"
   ]
  },
  {
   "attachments": {},
   "cell_type": "markdown",
   "metadata": {},
   "source": [
    " 0 = Padding\n",
    " \n",
    " 1 = Original pixels from block \n",
    "\n",
    " 2 = Horizontaly generated pixels in 1st pass\n",
    "\n",
    " 3 = Verticaly generated pixels in 2nd pass\n",
    " \n",
    " 4 = Dependent verticaly generated pixels in 2nd pass"
   ]
  },
  {
   "cell_type": "code",
   "execution_count": 6,
   "metadata": {},
   "outputs": [],
   "source": [
    "# supported values are 'Accent', 'Accent_r', 'Blues', \n",
    "# 'Blues_r', 'BrBG', 'BrBG_r', 'BuGn', 'BuGn_r', 'BuPu', \n",
    "# 'BuPu_r', 'CMRmap', 'CMRmap_r', 'Dark2', 'Dark2_r', \n",
    "# 'GnBu', 'GnBu_r', 'Greens', 'Greens_r', 'Greys', \n",
    "# 'Greys_r', 'OrRd', 'OrRd_r', 'Oranges', 'Oranges_r', \n",
    "# 'PRGn', 'PRGn_r', 'Paired', 'Paired_r', 'Pastel1', \n",
    "# 'Pastel1_r', 'Pastel2', 'Pastel2_r', 'PiYG', 'PiYG_r', \n",
    "# 'PuBu', 'PuBuGn', 'PuBuGn_r', 'PuBu_r', 'PuOr', 'PuOr_r', \n",
    "# 'PuRd', 'PuRd_r', 'Purples', 'Purples_r', 'RdBu', 'RdBu_r', \n",
    "# 'RdGy', 'RdGy_r', 'RdPu', 'RdPu_r', 'RdYlBu', 'RdYlBu_r', \n",
    "# 'RdYlGn', 'RdYlGn_r', 'Reds', 'Reds_r', 'Set1', 'Set1_r', \n",
    "# 'Set2', 'Set2_r', 'Set3', 'Set3_r', 'Spectral', 'Spectral_r', \n",
    "# 'Wistia', 'Wistia_r', 'YlGn', 'YlGnBu', 'YlGnBu_r', 'YlGn_r', \n",
    "# 'YlOrBr', 'YlOrBr_r', 'YlOrRd', 'YlOrRd_r', 'afmhot', 'afmhot_r', \n",
    "# 'autumn', 'autumn_r', 'binary', 'binary_r', 'bone', 'bone_r', \n",
    "# 'brg', 'brg_r', 'bwr', 'bwr_r', 'cividis', 'cividis_r', 'cool', \n",
    "# 'cool_r', 'coolwarm', 'coolwarm_r', 'copper', 'copper_r', \n",
    "# 'cubehelix', 'cubehelix_r', 'flag', 'flag_r', 'gist_earth', \n",
    "# 'gist_earth_r', 'gist_gray', 'gist_gray_r', 'gist_heat', \n",
    "# 'gist_heat_r', 'gist_ncar', 'gist_ncar_r', 'gist_rainbow', \n",
    "# 'gist_rainbow_r', 'gist_stern', 'gist_stern_r', 'gist_yarg', \n",
    "# 'gist_yarg_r', 'gnuplot', 'gnuplot2', 'gnuplot2_r', 'gnuplot_r', \n",
    "# 'gray', 'gray_r', 'hot', 'hot_r', 'hsv', 'hsv_r', 'inferno', \n",
    "# 'inferno_r', 'jet', 'jet_r', 'magma', 'magma_r', 'nipy_spectral', \n",
    "# 'nipy_spectral_r', 'ocean', 'ocean_r', 'pink', 'pink_r', 'plasma', \n",
    "# 'plasma_r', 'prism', 'prism_r', 'rainbow', 'rainbow_r', 'seismic', \n",
    "# 'seismic_r', 'spring', 'spring_r', 'summer', 'summer_r', 'tab10', \n",
    "# 'tab10_r', 'tab20', 'tab20_r', 'tab20b', 'tab20b_r', 'tab20c', \n",
    "# 'tab20c_r', 'terrain', 'terrain_r', 'turbo', 'turbo_r', 'twilight', \n",
    "# 'twilight_r', 'twilight_shifted', 'twilight_shifted_r', 'viridis', \n",
    "# 'viridis_r', 'winter', 'winter_r'"
   ]
  },
  {
   "attachments": {},
   "cell_type": "markdown",
   "metadata": {},
   "source": [
    "## Motion Compensation (MC)"
   ]
  },
  {
   "attachments": {},
   "cell_type": "markdown",
   "metadata": {},
   "source": [
    "X and Y are the vectors generated for affine transformation.\n",
    "\n",
    "Their format are fixed point ?"
   ]
  },
  {
   "attachments": {},
   "cell_type": "markdown",
   "metadata": {},
   "source": [
    "#### First case: X and Y components are integers"
   ]
  },
  {
   "cell_type": "code",
   "execution_count": 7,
   "metadata": {},
   "outputs": [],
   "source": [
    "# Nothing to do, just foward the input"
   ]
  },
  {
   "attachments": {},
   "cell_type": "markdown",
   "metadata": {},
   "source": [
    "#### Second case: X or Y component is fractional"
   ]
  },
  {
   "cell_type": "code",
   "execution_count": 8,
   "metadata": {},
   "outputs": [],
   "source": [
    "# Second test"
   ]
  },
  {
   "attachments": {},
   "cell_type": "markdown",
   "metadata": {},
   "source": [
    "#### Third case: X and Y components are fractional"
   ]
  },
  {
   "cell_type": "code",
   "execution_count": null,
   "metadata": {},
   "outputs": [],
   "source": []
  },
  {
   "attachments": {},
   "cell_type": "markdown",
   "metadata": {},
   "source": [
    "## Fractional Motion Estimation (FME)"
   ]
  },
  {
   "cell_type": "markdown",
   "metadata": {},
   "source": []
  }
 ],
 "metadata": {
  "kernelspec": {
   "display_name": "Python 3",
   "language": "python",
   "name": "python3"
  },
  "language_info": {
   "codemirror_mode": {
    "name": "ipython",
    "version": 3
   },
   "file_extension": ".py",
   "mimetype": "text/x-python",
   "name": "python",
   "nbconvert_exporter": "python",
   "pygments_lexer": "ipython3",
   "version": "3.10.5"
  },
  "orig_nbformat": 4,
  "vscode": {
   "interpreter": {
    "hash": "4d9c694c8aec39b264fb08e5e28ee8a55a7e14ae91bb73d0b06a9e720b258e83"
   }
  }
 },
 "nbformat": 4,
 "nbformat_minor": 2
}
