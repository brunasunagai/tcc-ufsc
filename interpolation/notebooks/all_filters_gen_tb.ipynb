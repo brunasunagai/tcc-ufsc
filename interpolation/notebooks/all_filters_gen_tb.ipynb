{
 "cells": [
  {
   "attachments": {},
   "cell_type": "markdown",
   "metadata": {},
   "source": [
    "# All Filters Testbench Generator"
   ]
  },
  {
   "attachments": {},
   "cell_type": "markdown",
   "metadata": {},
   "source": [
    "### Parameters"
   ]
  },
  {
   "cell_type": "code",
   "execution_count": 5,
   "metadata": {},
   "outputs": [],
   "source": [
    "TAPS = 6                                # Number of taps in the filter            \n",
    "IN_BIT_WIDTH = 8                        # Number of bits per sample\n",
    "FILE_TO_BE_TESTED = 'all_filters'       # Name of the Verilog file to be tested      \n",
    "INPUT_NAME = 'X'                        # Name of the input variable name\n",
    "\n",
    "coefficients = [\n",
    "                    [ 1,  -3,  63,   4,  -2, 1],\n",
    "                    [ 1,  -5,  62,   8,  -3, 1],\n",
    "                    [ 2,  -8,  60,  13,  -4, 1],\n",
    "\n",
    "                    [ 3, -10,  58,  17,  -5, 1],\n",
    "                    [ 3, -11,  52,  26,  -8, 2],\n",
    "                    [ 2,  -9,  47,  31, -10, 3],\n",
    "                    [ 3, -11,  45,  34, -10, 3],\n",
    "\n",
    "                    [ 3, -11,  40,  40, -11, 3],\n",
    "                    [ 3, -10,  34,  45, -11, 3],\n",
    "                    [ 3, -10,  31,  47,  -9, 2],\n",
    "                    [ 2,  -8,  26,  52, -11, 3],\n",
    "\n",
    "                    [ 1,  -5,  17,  58, -10, 3],\n",
    "                    [ 1,  -4,  13,  60,  -8, 2],\n",
    "                    [ 1,  -3,   8,  62,  -5, 1],\n",
    "                    [ 1,  -2,   4,  63,  -3, 1]\n",
    "                    ]"
   ]
  },
  {
   "cell_type": "code",
   "execution_count": 2,
   "metadata": {},
   "outputs": [],
   "source": [
    "import math\n",
    "import numpy as np"
   ]
  },
  {
   "attachments": {},
   "cell_type": "markdown",
   "metadata": {},
   "source": [
    "### For Modelsim Altera (hehe)"
   ]
  },
  {
   "attachments": {},
   "cell_type": "markdown",
   "metadata": {},
   "source": [
    "#### Do file"
   ]
  },
  {
   "cell_type": "code",
   "execution_count": null,
   "metadata": {},
   "outputs": [],
   "source": [
    "# force -freeze sim:/t5_affine/X 00000000 0 ns, 00000001 10 ns, 11111111 20 ns, 01111111 30 ns, 10000000 40 ns\n",
    "# Numbers as input: 0, 1, -1, 127, 128\n",
    "x = [00000000, 00000001, 11111111, 01111111, 10000000]\n",
    "\n",
    "# To write the binary number\n",
    "binary = ''\n",
    "\n",
    "write_x = ['force -freeze sim:/'+FILE_TO_BE_TESTED+'/'+INPUT_NAME+' ']\n",
    "\n",
    "for i in range(0,len(x)):\n",
    "    for t in range(0,TAPS):\n",
    "        binary = \n",
    "    write_x.append()"
   ]
  },
  {
   "attachments": {},
   "cell_type": "markdown",
   "metadata": {},
   "source": [
    "#### Expected output"
   ]
  },
  {
   "attachments": {},
   "cell_type": "markdown",
   "metadata": {},
   "source": [
    "Y1 = "
   ]
  },
  {
   "cell_type": "code",
   "execution_count": null,
   "metadata": {},
   "outputs": [],
   "source": []
  }
 ],
 "metadata": {
  "kernelspec": {
   "display_name": "Python 3",
   "language": "python",
   "name": "python3"
  },
  "language_info": {
   "codemirror_mode": {
    "name": "ipython",
    "version": 3
   },
   "file_extension": ".py",
   "mimetype": "text/x-python",
   "name": "python",
   "nbconvert_exporter": "python",
   "pygments_lexer": "ipython3",
   "version": "3.10.5"
  },
  "orig_nbformat": 4,
  "vscode": {
   "interpreter": {
    "hash": "4d9c694c8aec39b264fb08e5e28ee8a55a7e14ae91bb73d0b06a9e720b258e83"
   }
  }
 },
 "nbformat": 4,
 "nbformat_minor": 2
}
