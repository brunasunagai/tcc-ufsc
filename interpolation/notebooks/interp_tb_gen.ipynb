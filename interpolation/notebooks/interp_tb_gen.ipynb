{
 "cells": [
  {
   "cell_type": "markdown",
   "metadata": {},
   "source": [
    "Gera o arquivo de valores teste e resultados. "
   ]
  },
  {
   "cell_type": "markdown",
   "metadata": {},
   "source": [
    "### Parâmetros e inicialização"
   ]
  },
  {
   "cell_type": "code",
   "execution_count": 1,
   "metadata": {},
   "outputs": [],
   "source": [
    "import numpy as np\n",
    "from random import randint"
   ]
  },
  {
   "cell_type": "code",
   "execution_count": 2,
   "metadata": {},
   "outputs": [],
   "source": [
    "affine_coefs = [[0,1,-3,63,4,-2,1,0],\n",
    "                [-1,2,-5,62,8,-3,1,0],\n",
    "                [-1,3,-8,60,13,-4,1,0],\n",
    "                [-1,4,-10,58,17,-5,1,0],\n",
    "                [-1,4,-11,52,26,-8,3,-1],\n",
    "                [-1,3,-9,47,31,-10,4,-1],\n",
    "                [-1,4,-11,45,34,-10,4,-1],\n",
    "                [-1,4,-11,40,40,-11,4,-1],\n",
    "                [-1,4,-10,34,45,-11,4,-1],\n",
    "                [-1,4,-10,31,47,-9,3,-1],\n",
    "                [-1,3,-8,26,52,-11,4,-1],\n",
    "                [0,1,-5,17,58,-10,4,-1],\n",
    "                [0,1,-4,13,60,-8,3,-1],\n",
    "                [0,1,-3,8,62,-5,2,-1],\n",
    "                [0,1,-2,4,63,-3,1,0]]\n",
    "\n",
    "new_affine_coefs = [\n",
    "                    [ 0,   0,  64,   0,   0, 0, 0, 0 ],\n",
    "                    [ 1,  -3,  63,   4,  -2, 1, 0, 0 ],\n",
    "                    [ 1,  -5,  62,   8,  -3, 1, 0, 0 ],\n",
    "                    [ 2,  -8,  60,  13,  -4, 1, 0, 0 ],\n",
    "\n",
    "                    [ 3, -10,  58,  17,  -5, 1, 0, 0 ],\n",
    "                    [ 3, -11,  52,  26,  -8, 2, 0, 0 ],\n",
    "                    [ 2,  -9,  47,  31, -10, 3, 0, 0 ],\n",
    "                    [ 3, -11,  45,  34, -10, 3, 0, 0 ],\n",
    "\n",
    "                    [ 3, -11,  40,  40, -11, 3, 0, 0 ],\n",
    "                    [ 3, -10,  34,  45, -11, 3, 0, 0 ],\n",
    "                    [ 3, -10,  31,  47,  -9, 2, 0, 0 ],\n",
    "                    [ 2,  -8,  26,  52, -11, 3, 0, 0 ],\n",
    "\n",
    "                    [ 1,  -5,  17,  58, -10, 3, 0, 0 ],\n",
    "                    [ 1,  -4,  13,  60,  -8, 2, 0, 0 ],\n",
    "                    [ 1,  -3,   8,  62,  -5, 1, 0, 0 ],\n",
    "                    [ 1,  -2,   4,  63,  -3, 1, 0, 0 ]\n",
    "                    ];"
   ]
  },
  {
   "cell_type": "code",
   "execution_count": 3,
   "metadata": {},
   "outputs": [],
   "source": [
    "block_width = 4\n",
    "block_height = 4\n",
    "pixel_width = 8\n",
    "padding_value = 1\n",
    "\n",
    "mva = 0b01100001        \n",
    "mvb = 0b10000010\n"
   ]
  },
  {
   "cell_type": "markdown",
   "metadata": {},
   "source": [
    "### Valores intermediários"
   ]
  },
  {
   "cell_type": "code",
   "execution_count": 4,
   "metadata": {},
   "outputs": [
    {
     "name": "stdout",
     "output_type": "stream",
     "text": [
      "12\n"
     ]
    }
   ],
   "source": [
    "padding_width = len(affine_coefs[0])\n",
    "input_width = block_width + padding_width\n",
    "input_height = block_height + padding_width\n",
    "\n",
    "print(input_height)"
   ]
  },
  {
   "cell_type": "markdown",
   "metadata": {},
   "source": [
    "#### Todos valores possíveis para input"
   ]
  },
  {
   "cell_type": "code",
   "execution_count": 6,
   "metadata": {},
   "outputs": [
    {
     "name": "stdout",
     "output_type": "stream",
     "text": [
      "[['[:08b]', '[:08b]', '[:08b]', '[:08b]'], ['[:08b]', '[:08b]', '[:08b]', '[:08b]'], ['[:08b]', '[:08b]', '[:08b]', '[:08b]'], ['[:08b]', '[:08b]', '[:08b]', '[:08b]'], ['[:08b]', '[:08b]', '[:08b]', '[:08b]'], ['[:08b]', '[:08b]', '[:08b]', '[:08b]'], ['[:08b]', '[:08b]', '[:08b]', '[:08b]'], ['[:08b]', '[:08b]', '[:08b]', '[:08b]'], ['[:08b]', '[:08b]', '[:08b]', '[:08b]'], ['[:08b]', '[:08b]', '[:08b]', '[:08b]'], ['[:08b]', '[:08b]', '[:08b]', '[:08b]'], ['[:08b]', '[:08b]', '[:08b]', '[:08b]'], ['[:08b]', '[:08b]', '[:08b]', '[:08b]'], ['[:08b]', '[:08b]', '[:08b]', '[:08b]'], ['[:08b]', '[:08b]', '[:08b]', '[:08b]'], ['[:08b]', '[:08b]', '[:08b]', '[:08b]'], ['[:08b]', '[:08b]', '[:08b]', '[:08b]'], ['[:08b]', '[:08b]', '[:08b]', '[:08b]'], ['[:08b]', '[:08b]', '[:08b]', '[:08b]'], ['[:08b]', '[:08b]', '[:08b]', '[:08b]'], ['[:08b]', '[:08b]', '[:08b]', '[:08b]'], ['[:08b]', '[:08b]', '[:08b]', '[:08b]'], ['[:08b]', '[:08b]', '[:08b]', '[:08b]'], ['[:08b]', '[:08b]', '[:08b]', '[:08b]'], ['[:08b]', '[:08b]', '[:08b]', '[:08b]'], ['[:08b]', '[:08b]', '[:08b]', '[:08b]'], ['[:08b]', '[:08b]', '[:08b]', '[:08b]'], ['[:08b]', '[:08b]', '[:08b]', '[:08b]'], ['[:08b]', '[:08b]', '[:08b]', '[:08b]'], ['[:08b]', '[:08b]', '[:08b]', '[:08b]'], ['[:08b]', '[:08b]', '[:08b]', '[:08b]'], ['[:08b]', '[:08b]', '[:08b]', '[:08b]'], ['[:08b]', '[:08b]', '[:08b]', '[:08b]'], ['[:08b]', '[:08b]', '[:08b]', '[:08b]'], ['[:08b]', '[:08b]', '[:08b]', '[:08b]'], ['[:08b]', '[:08b]', '[:08b]', '[:08b]'], ['[:08b]', '[:08b]', '[:08b]', '[:08b]'], ['[:08b]', '[:08b]', '[:08b]', '[:08b]'], ['[:08b]', '[:08b]', '[:08b]', '[:08b]'], ['[:08b]', '[:08b]', '[:08b]', '[:08b]'], ['[:08b]', '[:08b]', '[:08b]', '[:08b]'], ['[:08b]', '[:08b]', '[:08b]', '[:08b]'], ['[:08b]', '[:08b]', '[:08b]', '[:08b]'], ['[:08b]', '[:08b]', '[:08b]', '[:08b]'], ['[:08b]', '[:08b]', '[:08b]', '[:08b]'], ['[:08b]', '[:08b]', '[:08b]', '[:08b]'], ['[:08b]', '[:08b]', '[:08b]', '[:08b]'], ['[:08b]', '[:08b]', '[:08b]', '[:08b]'], ['[:08b]', '[:08b]', '[:08b]', '[:08b]'], ['[:08b]', '[:08b]', '[:08b]', '[:08b]']]\n"
     ]
    }
   ],
   "source": [
    "line = []\n",
    "padd = []\n",
    "pre = '[:0' + str(pixel_width) + 'b]'\n",
    "padding_value_bin = pre.format(padding_value)\n",
    "\n",
    "for p in range(int(padding_width/2)):\n",
    "    padd.append(padding_value_bin)\n",
    "\n",
    "for i in range(10):\n",
    "    line.append(padd)\n",
    "    for j in range(block_width):\n",
    "        line.append(padd)    \n",
    "\n",
    "print(line)"
   ]
  },
  {
   "cell_type": "code",
   "execution_count": null,
   "metadata": {},
   "outputs": [],
   "source": []
  },
  {
   "cell_type": "markdown",
   "metadata": {},
   "source": [
    "### Textos finais"
   ]
  },
  {
   "cell_type": "code",
   "execution_count": null,
   "metadata": {},
   "outputs": [],
   "source": []
  },
  {
   "cell_type": "markdown",
   "metadata": {},
   "source": [
    "### Gerador de arquivos"
   ]
  },
  {
   "cell_type": "code",
   "execution_count": null,
   "metadata": {},
   "outputs": [],
   "source": []
  }
 ],
 "metadata": {
  "kernelspec": {
   "display_name": "Python 3.10.5 64-bit",
   "language": "python",
   "name": "python3"
  },
  "language_info": {
   "codemirror_mode": {
    "name": "ipython",
    "version": 3
   },
   "file_extension": ".py",
   "mimetype": "text/x-python",
   "name": "python",
   "nbconvert_exporter": "python",
   "pygments_lexer": "ipython3",
   "version": "3.10.5"
  },
  "orig_nbformat": 4,
  "vscode": {
   "interpreter": {
    "hash": "4d9c694c8aec39b264fb08e5e28ee8a55a7e14ae91bb73d0b06a9e720b258e83"
   }
  }
 },
 "nbformat": 4,
 "nbformat_minor": 2
}
