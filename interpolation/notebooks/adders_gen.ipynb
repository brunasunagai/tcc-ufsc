{
 "cells": [
  {
   "attachments": {},
   "cell_type": "markdown",
   "metadata": {},
   "source": [
    "# Adders generator"
   ]
  },
  {
   "cell_type": "code",
   "execution_count": 16,
   "metadata": {},
   "outputs": [],
   "source": [
    "import math \n",
    "from datetime import datetime \n",
    "from IPython.display import display, Markdown, clear_output\n",
    "import ipywidgets as widgets"
   ]
  },
  {
   "cell_type": "code",
   "execution_count": 17,
   "metadata": {},
   "outputs": [],
   "source": [
    "####################################################\n",
    "# Inputs definitions\n",
    "####################################################\n",
    "INPUT_N = 4                                     # Input size is a INPUT_N x INPUT_N block of 4x4 sub-blocks\n",
    "INPUT_COORD_WIDTH = 8                           # Number of bits as input for each block in an input line\n",
    "INPUT_MACROBLOCK_SIZE = 16                      # Number of pixels in one macroblock (16 = 4x4)\n",
    "PIXEL_WIDTH = 8                                 # Number of bits for each integer pixel from the reference frame\n",
    "\n",
    "\n",
    "####################################################\n",
    "# Interpolator definitions\n",
    "####################################################\n",
    "INPUT_LINE_SIZE = 9                             # Input size for ONE line loaded to the buffer (9 integer pixels)\n",
    "TAPS = 6                                        # Number of taps\n",
    "FILTERS = 15                                    # Number of filters (= number of outputs expected)\n",
    "OUT_1ST_INTERP_WIDTH = 11                       # Width for every 15 interpolation output for FIRST PASS\n",
    "OUT_2ND_INTERP_WIDTH = 14                       # Width for every 15 interpolation output for SECOND PASS\n",
    "\n",
    "\n",
    "####################################################\n",
    "# Motion Vector Generator definitions\n",
    "####################################################\n",
    "INPUT_COORD_WIDTH = 8                           # Input size for the coordinates X and Y\n",
    "INPUT_MV_WIDTH = 8                              # Input size for the block motion vectors (MV0 and MV1)\n",
    "OUTPUT_MV_GEN_WIDTH = 19                        # Output size of the Motion Vector module (4 and 6 parameters are equal)"
   ]
  },
  {
   "cell_type": "code",
   "execution_count": 18,
   "metadata": {},
   "outputs": [],
   "source": [
    "####################################################\n",
    "# Rewrite adders\n",
    "####################################################\n",
    "# [ADDER NAME, INPUT BIT WIDTH, DESCRIPTION, SIGNED/UNSIGNED]\n",
    "ADDER_MATRIX = [['add_coords', INPUT_COORD_WIDTH, 'Adds the original coord value plus 1. Works for X and Y coords.', 'signed'],\n",
    "              ['add_count_block', int(math.log2(INPUT_MACROBLOCK_SIZE)), 'Adder to control which sample will be processed.', 'unsigned'],\n",
    "              ['add_counter', 4, 'Adder to control the loops. It must count until 13. And its result also selects the buffer column to be read.', 'unsigned']\n",
    "              ]"
   ]
  },
  {
   "cell_type": "code",
   "execution_count": 19,
   "metadata": {},
   "outputs": [],
   "source": [
    "###############################################\n",
    "# Adder text template\n",
    "###############################################\n",
    "def generate_adder(ind):    \n",
    "    # Modified date\n",
    "    DATE_MODIF = str(datetime.today().strftime('%d/%m/%Y'))\n",
    "\n",
    "    # Adder file text\n",
    "    adder_verilog = '''/*-----------------------------------------------------------------------------------\n",
    "* File: '''+ADDER_MATRIX[ind][0]+'''.v\n",
    "* Date generated: 25/03/2023\n",
    "* Date modified: '''+DATE_MODIF+'''\n",
    "* Author: Bruna Suemi Nagai\n",
    "* Description: '''+str(ADDER_MATRIX[ind][2])+'''\n",
    "*----------------------------------------------------------------------------------- */\n",
    "\n",
    "module '''+ADDER_MATRIX[ind][0]+''' (\n",
    "  input '''+ADDER_MATRIX[ind][3]+''' ['''+str(ADDER_MATRIX[ind][1]-1)+''':0] A,\n",
    "  input '''+ADDER_MATRIX[ind][3]+''' ['''+str(ADDER_MATRIX[ind][1]-1)+''':0] B,\n",
    "  output reg '''+ADDER_MATRIX[ind][3]+''' ['''+str(ADDER_MATRIX[ind][1]-1)+''':0] C\n",
    ");\n",
    "    \n",
    "\n",
    "// ------------------------------------------\n",
    "// Combinational logic\n",
    "// ------------------------------------------\n",
    "always @ (A or B) begin\n",
    "  C = A + B;\n",
    "end\n",
    "endmodule // '''+ADDER_MATRIX[ind][0]+'''\n",
    "    '''\n",
    "\n",
    "    # Write the adder file\n",
    "    with open('../verilog/adders/'+ADDER_MATRIX[ind][0]+'.v', 'w') as adder_file:\n",
    "        adder_file.write(adder_verilog)\n"
   ]
  },
  {
   "cell_type": "code",
   "execution_count": 20,
   "metadata": {},
   "outputs": [
    {
     "data": {
      "application/vnd.jupyter.widget-view+json": {
       "model_id": "25cc166a2ac94f7aac7d7d3257dbac35",
       "version_major": 2,
       "version_minor": 0
      },
      "text/plain": [
       "Dropdown(description='Adder:', options=('Select an adder...', 'add_coords', 'add_count_block', 'add_counter', …"
      ]
     },
     "metadata": {},
     "output_type": "display_data"
    },
    {
     "data": {
      "application/vnd.jupyter.widget-view+json": {
       "model_id": "6bdd0aded158464690ab12c8a0f10d18",
       "version_major": 2,
       "version_minor": 0
      },
      "text/plain": [
       "Button(description='Generate adder file', style=ButtonStyle())"
      ]
     },
     "metadata": {},
     "output_type": "display_data"
    },
    {
     "name": "stdout",
     "output_type": "stream",
     "text": [
      "Adder add_coords generated.\n",
      "Index = 0\n"
     ]
    }
   ],
   "source": [
    "# Define the list of words to select from\n",
    "adder_names = ['Select an adder...', 'add_coords', 'add_count_block', 'add_counter', 'Generate all']\n",
    "\n",
    "# Define the initial values \n",
    "SELECTED_ADDER = 'ADDER_NOOB'\n",
    "ADDER_INDEX = 0\n",
    "\n",
    "# Create the dropdown widget\n",
    "word_select = widgets.Dropdown(\n",
    "    options=adder_names,\n",
    "    value=adder_names[0],\n",
    "    description='Adder:')\n",
    "\n",
    "# Create the button widget\n",
    "button = widgets.Button(description='Generate adder file')\n",
    "\n",
    "# Define a function to update the SELECTED_MUX variable\n",
    "def update_adder_name(b):\n",
    "    global ADDER_INDEX\n",
    "    SELECTED_ADDER = word_select.value\n",
    "    if SELECTED_ADDER == 'add_coords':\n",
    "        ADDER_INDEX = 0\n",
    "    elif SELECTED_ADDER == 'add_count_block':\n",
    "        ADDER_INDEX = 1\n",
    "    elif SELECTED_ADDER == 'add_counter':\n",
    "        ADDER_INDEX = 2\n",
    "    elif SELECTED_ADDER == 'Generate all':\n",
    "        ADDER_INDEX = 3\n",
    "    else:\n",
    "        ADDER_INDEX = 4\n",
    "\n",
    "    # Loop for generate all    \n",
    "    if ADDER_INDEX == 3:\n",
    "        for i in range(ADDER_INDEX):\n",
    "            generate_adder(i)\n",
    "            generate_adder(i)\n",
    "            print('Register ', ADDER_MATRIX[i][0], ' generated.')\n",
    "            print('Index =', i)\n",
    "        print('Finished generating all adders :)')\n",
    "    else:\n",
    "        print('Adder', SELECTED_ADDER, 'generated.')\n",
    "        print('Index =', ADDER_INDEX)\n",
    "        generate_adder(ADDER_INDEX)\n",
    "\n",
    "# Attach the function to the button's on-click event\n",
    "button.on_click(update_adder_name)\n",
    "\n",
    "# Display the widgets\n",
    "display(word_select)\n",
    "display(button)\n"
   ]
  },
  {
   "cell_type": "code",
   "execution_count": null,
   "metadata": {},
   "outputs": [],
   "source": []
  }
 ],
 "metadata": {
  "kernelspec": {
   "display_name": "Python 3",
   "language": "python",
   "name": "python3"
  },
  "language_info": {
   "codemirror_mode": {
    "name": "ipython",
    "version": 3
   },
   "file_extension": ".py",
   "mimetype": "text/x-python",
   "name": "python",
   "nbconvert_exporter": "python",
   "pygments_lexer": "ipython3",
   "version": "3.10.5"
  },
  "orig_nbformat": 4
 },
 "nbformat": 4,
 "nbformat_minor": 2
}
