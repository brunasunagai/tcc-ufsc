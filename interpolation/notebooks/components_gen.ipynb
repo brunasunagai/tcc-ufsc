{
 "cells": [
  {
   "attachments": {},
   "cell_type": "markdown",
   "metadata": {},
   "source": [
    "# Components generator"
   ]
  },
  {
   "attachments": {},
   "cell_type": "markdown",
   "metadata": {},
   "source": [
    "### Parameters"
   ]
  },
  {
   "cell_type": "code",
   "execution_count": 2,
   "metadata": {},
   "outputs": [],
   "source": [
    "import math \n",
    "import numpy as np"
   ]
  },
  {
   "cell_type": "code",
   "execution_count": 3,
   "metadata": {},
   "outputs": [],
   "source": [
    "#########################################\n",
    "# Setup parameters\n",
    "#########################################\n",
    "\n",
    "N = 4                   # Input size (N x N)\n",
    "TAPS = 6                # Number of taps\n",
    "FILTERS = 15            # Number of filters (= number of outputs expected)\n",
    "# OUTPUT_WIDTH = [11, 11, 11, 11, 11, 11, 11, 11, 11, 11, 11, 11, 11, 11, 11]         # Bitwidth for each output from interpolator\n",
    "OUTPUT_WIDTH = 11       # One size for every output, as it is for my case"
   ]
  },
  {
   "attachments": {},
   "cell_type": "markdown",
   "metadata": {},
   "source": [
    "### Register"
   ]
  },
  {
   "cell_type": "code",
   "execution_count": 4,
   "metadata": {},
   "outputs": [],
   "source": [
    "#########################################\n",
    "# Variables calulation: Register\n",
    "#########################################\n",
    "\n",
    "number_of_regs = N + TAPS - 1\n",
    "one_reg_size = FILTERS * OUTPUT_WIDTH"
   ]
  },
  {
   "cell_type": "code",
   "execution_count": 5,
   "metadata": {},
   "outputs": [
    {
     "name": "stdout",
     "output_type": "stream",
     "text": [
      "/*------------------------------------------------------------------------------\n",
      " * File: reg_buffer_165.v\n",
      " * Date generated: 13/03/2023\n",
      " * Date modified: 21/03/2023\n",
      " * Author: Bruna Suemi Nagai\n",
      " * Description: Module of one register as part of the buffer.\n",
      " *------------------------------------------------------------------------------ */\n",
      "\n",
      "module reg_buffer_165(\n",
      "    input clk,\n",
      "    input reset,\n",
      "    input enable,\n",
      "    input [164:0] data_in,\n",
      "    output reg [164:0] data_out\n",
      ");\n",
      "\n",
      "always @(posedge clk, negedge reset) begin\n",
      "    if (!reset) begin\n",
      "        data_out <= 165'b0;\n",
      "    end else if (enable) begin\n",
      "        data_out <= data_in;\n",
      "    end\n",
      "end\n",
      "\n",
      "endmodule\n",
      "\n"
     ]
    }
   ],
   "source": [
    "#########################################\n",
    "# Text writing: One register\n",
    "#########################################\n",
    "\n",
    "register_text = '''/*------------------------------------------------------------------------------\n",
    " * File: reg_buffer_'''+str(one_reg_size)+'''.v\n",
    " * Date generated: 13/03/2023\n",
    " * Date modified: 21/03/2023\n",
    " * Author: Bruna Suemi Nagai\n",
    " * Description: Module of one register as part of the buffer.\n",
    " *------------------------------------------------------------------------------ */\n",
    "\n",
    "module reg_buffer_'''+str(one_reg_size)+'''(\n",
    "    input clk,\n",
    "    input reset,\n",
    "    input enable,\n",
    "    input ['''+str(one_reg_size-1)+''':0] data_in,\n",
    "    output reg ['''+str(one_reg_size-1)+''':0] data_out\n",
    ");\n",
    "\n",
    "always @(posedge clk, negedge reset) begin\n",
    "    if (!reset) begin\n",
    "        data_out <= '''+str(one_reg_size)+''''b0;\n",
    "    end else if (enable) begin\n",
    "        data_out <= data_in;\n",
    "    end\n",
    "end\n",
    "\n",
    "endmodule\n",
    "'''\n",
    "\n",
    "print(register_text)"
   ]
  },
  {
   "attachments": {},
   "cell_type": "markdown",
   "metadata": {},
   "source": []
  },
  {
   "cell_type": "code",
   "execution_count": null,
   "metadata": {},
   "outputs": [],
   "source": []
  }
 ],
 "metadata": {
  "kernelspec": {
   "display_name": "Python 3",
   "language": "python",
   "name": "python3"
  },
  "language_info": {
   "codemirror_mode": {
    "name": "ipython",
    "version": 3
   },
   "file_extension": ".py",
   "mimetype": "text/x-python",
   "name": "python",
   "nbconvert_exporter": "python",
   "pygments_lexer": "ipython3",
   "version": "3.10.5"
  },
  "orig_nbformat": 4,
  "vscode": {
   "interpreter": {
    "hash": "4d9c694c8aec39b264fb08e5e28ee8a55a7e14ae91bb73d0b06a9e720b258e83"
   }
  }
 },
 "nbformat": 4,
 "nbformat_minor": 2
}
