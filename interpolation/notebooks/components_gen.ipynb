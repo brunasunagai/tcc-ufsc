{
 "cells": [
  {
   "attachments": {},
   "cell_type": "markdown",
   "metadata": {},
   "source": [
    "# Components generator"
   ]
  },
  {
   "attachments": {},
   "cell_type": "markdown",
   "metadata": {},
   "source": [
    "### Parameters"
   ]
  },
  {
   "cell_type": "code",
   "execution_count": 1,
   "metadata": {},
   "outputs": [],
   "source": [
    "import math \n",
    "from datetime import date\n",
    "from IPython.display import display, Markdown, clear_output\n",
    "import ipywidgets as widgets"
   ]
  },
  {
   "cell_type": "code",
   "execution_count": 12,
   "metadata": {},
   "outputs": [
    {
     "data": {
      "application/vnd.jupyter.widget-view+json": {
       "model_id": "e09374c1484d492287996f8c8134d6a7",
       "version_major": 2,
       "version_minor": 0
      },
      "text/plain": [
       "Dropdown(description='Select a register:', options=('line', 'MVx', 'MVy', ''), value='line')"
      ]
     },
     "metadata": {},
     "output_type": "display_data"
    },
    {
     "data": {
      "application/vnd.jupyter.widget-view+json": {
       "model_id": "d8f8f18e0c17412b8444ec83cb05a094",
       "version_major": 2,
       "version_minor": 0
      },
      "text/plain": [
       "Button(description='Generate register file', style=ButtonStyle())"
      ]
     },
     "metadata": {},
     "output_type": "display_data"
    },
    {
     "name": "stdout",
     "output_type": "stream",
     "text": [
      "Register  reg_MVx  generated.\n"
     ]
    }
   ],
   "source": [
    "# Define the list of words to select from\n",
    "words = ['line', 'MVx', 'MVy', '']\n",
    "\n",
    "# Define the initial value of FILE_NAME\n",
    "REG_NAME = 'reg_line'\n",
    "\n",
    "# Create the dropdown widget\n",
    "word_select = widgets.Dropdown(\n",
    "    options=words,\n",
    "    value=words[0],\n",
    "    description='Select a register:'\n",
    ")\n",
    "\n",
    "# Create the button widget\n",
    "button = widgets.Button(description='Generate register file')\n",
    "\n",
    "# Define a function to update the FILE_NAME variable\n",
    "def update_filename(b):\n",
    "    global REG_NAME\n",
    "    REG_NAME = 'reg_{}'.format(word_select.value)\n",
    "    print('Register ', REG_NAME, ' generated.')\n",
    "\n",
    "# Attach the function to the button's on-click event\n",
    "button.on_click(update_filename)\n",
    "\n",
    "# Display the widgets\n",
    "display(word_select)\n",
    "display(button)\n"
   ]
  },
  {
   "cell_type": "code",
   "execution_count": 14,
   "metadata": {},
   "outputs": [
    {
     "data": {
      "text/plain": [
       "'reg_MVx'"
      ]
     },
     "execution_count": 14,
     "metadata": {},
     "output_type": "execute_result"
    }
   ],
   "source": [
    "REG_NAME"
   ]
  },
  {
   "cell_type": "code",
   "execution_count": 4,
   "metadata": {},
   "outputs": [
    {
     "data": {
      "application/vnd.jupyter.widget-view+json": {
       "model_id": "128ec286a9a4401b980f1ac6d991c17b",
       "version_major": 2,
       "version_minor": 0
      },
      "text/plain": [
       "VBox(children=(Button(description='My Button', style=ButtonStyle()), Output()))"
      ]
     },
     "metadata": {},
     "output_type": "display_data"
    }
   ],
   "source": [
    "button = widgets.Button(description='My Button')\n",
    "out = widgets.Output()\n",
    "def on_button_clicked(_):\n",
    "      # \"linking function with output\"\n",
    "      with out:\n",
    "          # what happens when we press the button\n",
    "          clear_output()\n",
    "          print('Something happens!')\n",
    "# linking button and function together using a button's method\n",
    "button.on_click(on_button_clicked)\n",
    "# displaying button and its output together\n",
    "widgets.VBox([button,out])"
   ]
  },
  {
   "cell_type": "code",
   "execution_count": 5,
   "metadata": {},
   "outputs": [
    {
     "data": {
      "application/vnd.jupyter.widget-view+json": {
       "model_id": "d8503be82daa4fa5acca0640396c4316",
       "version_major": 2,
       "version_minor": 0
      },
      "text/plain": [
       "VBox(children=(Dropdown(options=('In', 'Out', 'exit', 'quit', 'math', 'date', 'display', 'Markdown', 'widgets'…"
      ]
     },
     "metadata": {},
     "output_type": "display_data"
    }
   ],
   "source": [
    "# some options\n",
    "a, b = 1, 5\n",
    "# selecting global variables without underscores\n",
    "global_variables = list(globals().keys())\n",
    "funcs = []\n",
    "for i in global_variables:\n",
    "    if '_' not in i:\n",
    "        funcs.append(i)\n",
    " \n",
    "# creating menu with them   \n",
    "global_vars = widgets.Dropdown(\n",
    "    options=funcs)\n",
    "\n",
    "# button, output, function and linkage\n",
    "butt = widgets.Button(description='Print Variable')\n",
    "outt = widgets.Output()\n",
    "def on_butt_clicked(b):\n",
    "    with outt:\n",
    "        clear_output()\n",
    "        print(type(globals()[global_vars.value]))\n",
    "        print(globals()[global_vars.value])\n",
    "        \n",
    "butt.on_click(on_butt_clicked)\n",
    "# display\n",
    "widgets.VBox([global_vars,butt,outt])"
   ]
  },
  {
   "cell_type": "code",
   "execution_count": 6,
   "metadata": {},
   "outputs": [],
   "source": [
    "#########################################\n",
    "# Setup parameters\n",
    "#########################################\n",
    "\n",
    "N = 4                   # Input size (N x N)\n",
    "TAPS = 6                # Number of taps\n",
    "IN_BIT_WIDTH = 8        # Number of bits as input for each block in an input line\n",
    "FILTERS = 15            # Number of filters (= number of outputs expected)\n",
    "# OUTPUT_WIDTH = [11, 11, 11, 11, 11, 11, 11, 11, 11, 11, 11, 11, 11, 11, 11]         # Bitwidth for each output from interpolator\n",
    "OUTPUT_WIDTH = 11       # One size for every output, as it is for my case\n",
    "\n",
    "\n",
    "#########################################\n",
    "# Enables writing new files\n",
    "#########################################\n",
    "WRITE_REG_BANK_FILE = True\n",
    "WRITE_MUX_FILE = True\n",
    "WRITE_REG_LINE_FILE = True"
   ]
  },
  {
   "attachments": {},
   "cell_type": "markdown",
   "metadata": {},
   "source": [
    "### Register bank as buffer"
   ]
  },
  {
   "cell_type": "code",
   "execution_count": 7,
   "metadata": {},
   "outputs": [],
   "source": [
    "######################################################\n",
    "# Variables calulation: Register bank as buffer\n",
    "######################################################\n",
    "\n",
    "NUM_OF_REGS = N + TAPS - 1\n",
    "SEL_REG_WIDHT = str(math.ceil(math.log2(NUM_OF_REGS))-1)\n",
    "EACH_OUT_WIDTH = str(FILTERS*OUTPUT_WIDTH-1)\n",
    "\n",
    "# Loop to generate all possible resets values\n",
    "RST_REG_BANK = []\n",
    "for i in range(NUM_OF_REGS):\n",
    "    RST_REG_BANK.append('REG_BANK['+str(i)+'] <= '+str(int(EACH_OUT_WIDTH)+1)+\"'b0;\")\n",
    "RST_REG_BANK_CONCAT = '\\n\\t\\t\\t'.join(RST_REG_BANK)\n",
    "\n",
    "# print(rst_reg_bank_concat)\n"
   ]
  },
  {
   "cell_type": "code",
   "execution_count": 8,
   "metadata": {},
   "outputs": [],
   "source": [
    "###############################################\n",
    "# Text writing: Register bank as buffer\n",
    "###############################################\n",
    "\n",
    "register_bank_text = '''/*------------------------------------------------------------------------------\n",
    " * File: reg_bank_buffer.v\n",
    " * Date generated: 2023-03-13\n",
    " * Date modified: '''+str(date.today())+'''\n",
    " * Author: Bruna Suemi Nagai\n",
    " * Description: A buffer to store each cycle output for the 2nd pass.\n",
    " *------------------------------------------------------------------------------ */\n",
    "\n",
    "module reg_bank_buffer(\n",
    "    CLK,\n",
    "    RST_ASYNC_N,\n",
    "    ADDR_SEL, \n",
    "    DATA_IN, \n",
    "    WRITE_EN, \n",
    "    READ_EN, \n",
    "    DATA_OUT\n",
    ");\n",
    "\n",
    "\n",
    "// ------------------------------------------\n",
    "// IO declaration\n",
    "// ------------------------------------------\n",
    "\tinput CLK;                              // Clock\n",
    "\tinput RST_ASYNC_N;\t\t\t\t\t\t// Asynchronous reset\n",
    "    input ['''+SEL_REG_WIDHT+''':0] ADDR_SEL;\t\t\t\t\t// 4 bits to select between N+T-1=9 different registers\n",
    "    input signed ['''+EACH_OUT_WIDTH+''':0] DATA_IN;\t\t\t// Data to be written \n",
    "    input WRITE_EN;\t\t\t\t\t\t\t// Enables writing\n",
    "\tinput READ_EN;\t\t\t\t\t\t\t// Enables reading\n",
    "    output signed ['''+EACH_OUT_WIDTH+''':0] DATA_OUT;\t\t    // Data read output\n",
    "    \n",
    "    \n",
    "// ------------------------------------------\n",
    "// Signals definitions\n",
    "// ------------------------------------------\n",
    "reg signed ['''+EACH_OUT_WIDTH+''':0] REG_BANK ['''+str(NUM_OF_REGS-1)+''':0];               \t// Register bank with 9 registers of 8 bits each\n",
    "reg signed ['''+EACH_OUT_WIDTH+''':0] REG_BANK_OUT; \t\t\t\t\t// Register for intermediate output data\n",
    "\n",
    "assign DATA_OUT = REG_BANK_OUT;\t\t\t\t// Intermediate output data to definetly output\n",
    "\n",
    "\n",
    "// ------------------------------------------\n",
    "// Sequential logic\n",
    "// ------------------------------------------\n",
    "always @(posedge CLK, negedge RST_ASYNC_N) begin\n",
    "   if (!RST_ASYNC_N)\n",
    "\tbegin\n",
    "            '''+RST_REG_BANK_CONCAT+'''\n",
    "\tend\n",
    "\t\n",
    "   else if (WRITE_EN) \t\t \t\t\t\t\t// If write enable is high\n",
    "\tbegin\n",
    "\t\tREG_BANK[ADDR_SEL] <= DATA_IN; \t\t\t// Write data to the register at the specified address\n",
    "\tend \n",
    "\t\n",
    "\telse if (READ_EN)\n",
    "\tbegin\n",
    "\t\tREG_BANK_OUT <= REG_BANK[ADDR_SEL]; \t// Output data from the register at the specified address\n",
    "\tend\n",
    "end\n",
    "\n",
    "endmodule\n",
    "\n",
    "'''\n",
    "# print(register_bank_text)\n",
    "\n",
    "if WRITE_REG_BANK_FILE:\n",
    "    with open('reg_bank_buffer.v', 'w') as reg_bank_file:\n",
    "        reg_bank_file.write(register_bank_text)"
   ]
  },
  {
   "attachments": {},
   "cell_type": "markdown",
   "metadata": {},
   "source": [
    "### Multiplexer"
   ]
  },
  {
   "cell_type": "code",
   "execution_count": 9,
   "metadata": {},
   "outputs": [],
   "source": [
    "#########################################\n",
    "# Variables setup: Mux generic \n",
    "#########################################\n",
    "NUM_MUX_INPUTS = 2                      # Number of inputs \n",
    "NUM_MUX_OUTPUTS = 1                     # Number of outputs\n",
    "\n",
    "\n",
    "#########################################\n",
    "# Variables calulation\n",
    "#########################################\n",
    "SEL_MUX_WIDTH = math.ceil(math.log2(NUM_MUX_INPUTS))\n",
    "EACH_OUT_WIDTH_MUX = FILTERS*OUTPUT_WIDTH\n",
    "\n",
    "\n",
    "#########################################\n",
    "# Loop to generate inputs declaration\n",
    "#########################################\n",
    "IN_MUX = []\n",
    "IN_MUX_DECLARATION = []\n",
    "for i in range(NUM_MUX_INPUTS):\n",
    "    IN_MUX.append('IN'+str(i))\n",
    "    IN_MUX_DECLARATION.append('input signed ['+str(EACH_OUT_WIDTH_MUX-1)+':0] IN'+str(i)+';')\n",
    "IN_MUX_CONCAT = ',\\n\\t'.join(IN_MUX)\n",
    "IN_MUX_ALWAYS_CONCAT = ' or '.join(IN_MUX)\n",
    "IN_MUX_DECLARATION_CONCAT = '\\n\\t'.join(IN_MUX_DECLARATION)\n",
    "\n",
    "\n",
    "#########################################\n",
    "# Generating SEL declaration \n",
    "#########################################\n",
    "if SEL_MUX_WIDTH > 1:\n",
    "    SEL_DECLARATION = 'input unsigned ['+str(SEL_MUX_WIDTH-1)+':0] SEL;'\n",
    "else:\n",
    "    SEL_DECLARATION = 'input SEL;'\n",
    "\n",
    "\n",
    "#########################################\n",
    "# Loop to generate case\n",
    "#########################################\n",
    "FORMAT_OPTION = '#0'+str(SEL_MUX_WIDTH+2)+'b'\n",
    "CASE_GENERATOR = []\n",
    "for i in range(NUM_MUX_INPUTS):\n",
    "    BINARY = str(format(i, FORMAT_OPTION))\n",
    "    CASE_GENERATOR.append(str(SEL_MUX_WIDTH)+\"'b\"+BINARY[2:]+': OUT = IN'+str(i)+';')\n",
    "CASE_GENERATOR_CONCAT = '\\n\\t\\t'.join(CASE_GENERATOR)\n",
    "# CASE_DEFAULT = str(EACH_OUT_WIDTH_MUX)+\"'b\"+format(0, '#0'+str(EACH_OUT_WIDTH_MUX+2)+'b')[2:]\n",
    "\n",
    "# print(CASE_DEFAULT)\n",
    "# print(CASE_GENERATOR_CONCAT)\n",
    "# print(IN_MUX_CONCAT)\n",
    "# print(IN_MUX_ALWAYS_CONCAT)\n",
    "# print(IN_MUX_DECLARATION_CONCAT)\n",
    "# print(SEL_DECLARATION)"
   ]
  },
  {
   "cell_type": "code",
   "execution_count": 10,
   "metadata": {},
   "outputs": [],
   "source": [
    "###############################################\n",
    "# Text writing: Mux generic\n",
    "###############################################\n",
    "\n",
    "mux_21_text = '''/*------------------------------------------------------------------------------\n",
    " * File: mux_'''+str(NUM_MUX_INPUTS)+str(NUM_MUX_OUTPUTS)+'''.v\n",
    " * Date generated: 2023-03-27\n",
    " * Date modified: '''+str(date.today())+'''\n",
    " * Author: Bruna Suemi Nagai\n",
    " * Description: Multiplexer '''+str(NUM_MUX_INPUTS)+':'+str(NUM_MUX_OUTPUTS)+'''\n",
    " *------------------------------------------------------------------------------ */\n",
    "\n",
    "module mux_'''+str(NUM_MUX_INPUTS)+str(NUM_MUX_OUTPUTS)+'''(\n",
    "\t'''+IN_MUX_CONCAT+''',\n",
    "\tSEL, \n",
    "\tOUT\n",
    ");\n",
    "\n",
    "\n",
    "// ------------------------------------------\n",
    "// IO declaration\n",
    "// ------------------------------------------\n",
    "\t'''+IN_MUX_DECLARATION_CONCAT+''' \n",
    "\t'''+SEL_DECLARATION+''' \n",
    "\toutput reg signed ['''+str(EACH_OUT_WIDTH_MUX-1)+''':0] OUT;\n",
    "\t\n",
    "\t\n",
    "// ------------------------------------------\n",
    "// Logic\n",
    "// ------------------------------------------\n",
    "\talways @ (SEL or '''+IN_MUX_ALWAYS_CONCAT+''')\n",
    "\tbegin\n",
    "  \tcase(SEL)\n",
    "\t\t'''+CASE_GENERATOR_CONCAT+'''\n",
    "    \tdefault: OUT = '''+str(EACH_OUT_WIDTH_MUX)+''''b0;\n",
    "  \tendcase\n",
    "end\n",
    "endmodule\n",
    "'''\n",
    "# print(mux_21_text)\n",
    "if WRITE_MUX_FILE:\n",
    "    with open('mux_'+str(NUM_MUX_INPUTS)+str(NUM_MUX_OUTPUTS)+'.v', 'w') as mux_file:\n",
    "        mux_file.write(mux_21_text)"
   ]
  },
  {
   "attachments": {},
   "cell_type": "markdown",
   "metadata": {},
   "source": [
    "### All Registers "
   ]
  },
  {
   "cell_type": "code",
   "execution_count": 11,
   "metadata": {},
   "outputs": [
    {
     "ename": "SyntaxError",
     "evalue": "invalid syntax (Temp/ipykernel_12188/133474621.py, line 9)",
     "output_type": "error",
     "traceback": [
      "\u001b[1;36m  File \u001b[1;32m\"C:\\Users\\Isaque\\AppData\\Local\\Temp/ipykernel_12188/133474621.py\"\u001b[1;36m, line \u001b[1;32m9\u001b[0m\n\u001b[1;33m    if\u001b[0m\n\u001b[1;37m       ^\u001b[0m\n\u001b[1;31mSyntaxError\u001b[0m\u001b[1;31m:\u001b[0m invalid syntax\n"
     ]
    }
   ],
   "source": [
    "#########################################\n",
    "# Variables setup: Registers  \n",
    "#########################################\n",
    "REG_TYPE = 'line'\n",
    "\n",
    "#########################################\n",
    "# Variables calculations\n",
    "#########################################\n",
    "if \n",
    "DATA_IN_WIDTH = (N+TAPS-1)*IN_BIT_WIDTH                 # Bit width for the total input line"
   ]
  },
  {
   "cell_type": "code",
   "execution_count": null,
   "metadata": {},
   "outputs": [
    {
     "ename": "",
     "evalue": "",
     "output_type": "error",
     "traceback": [
      "\u001b[1;31mFailed to start the Kernel. \n",
      "\u001b[1;31mUnable to start Kernel 'Python 3.10.5' due to connection timeout. \n",
      "\u001b[1;31mView Jupyter <a href='command:jupyter.viewOutput'>log</a> for further details."
     ]
    }
   ],
   "source": [
    "###############################################\n",
    "# Text writing: Mux generic\n",
    "###############################################\n",
    "reg_line_text = '''/*-----------------------------------------------------------------------------------\n",
    " * File: reg_line.v\n",
    " * Date generated: 2023-03-25\n",
    " * Date modified: '''+str(date.today())+'''\n",
    " * Author: Bruna Suemi Nagai\n",
    " * Description: A register to store the input line of padding + intergers from ref block.\n",
    " *----------------------------------------------------------------------------------- */\n",
    "\n",
    "module reg_line(\n",
    "    CLK,\n",
    "    RST_ASYNC_N, \n",
    "    WRITE_EN,\n",
    "    DATA_IN,  \n",
    "    DATA_OUT\n",
    ");\n",
    "\n",
    "\n",
    "// ------------------------------------------\n",
    "// IO declaration\n",
    "// ------------------------------------------\n",
    "\tinput CLK;                              // Clock\n",
    "\tinput RST_ASYNC_N;\t\t\t\t\t\t// Asynchronous reset\n",
    "    input WRITE_EN;\t\t\t\t\t\t\t// Enables writing\n",
    "    input signed ['''+str(DATA_IN_WIDTH-1)+''':0] DATA_IN;\t\t\t// Data to be written \n",
    "    output reg signed ['''+str(DATA_IN_WIDTH-1)+''':0] DATA_OUT;\t    // Data read output\n",
    "    \n",
    "\n",
    "// ------------------------------------------\n",
    "// Sequential logic\n",
    "// ------------------------------------------\n",
    "always @(posedge CLK, negedge RST_ASYNC_N) begin\n",
    "   if (!RST_ASYNC_N)                        // If rst async is low\n",
    "\tbegin\n",
    "            DATA_OUT <= '''+str(DATA_IN_WIDTH)+''''b0;\n",
    "\tend\n",
    "\t\n",
    "   \telse if (WRITE_EN) \t\t \t\t\t    // If write enable is high\n",
    "\tbegin\n",
    "\t\tDATA_OUT <= DATA_IN; \t\t\t    // Write data to the register at the specified address\n",
    "\tend \n",
    "end\n",
    "\n",
    "endmodule\n",
    "\n",
    "'''\n",
    "# print(reg_line_text)\n",
    "\n",
    "if WRITE_REG_LINE_FILE:\n",
    "    with open('reg_line.v', 'w') as reg_line_file:\n",
    "        reg_line_file.write(reg_line_text)"
   ]
  },
  {
   "cell_type": "code",
   "execution_count": null,
   "metadata": {},
   "outputs": [
    {
     "ename": "",
     "evalue": "",
     "output_type": "error",
     "traceback": [
      "\u001b[1;31mFailed to start the Kernel. \n",
      "\u001b[1;31mUnable to start Kernel 'Python 3.10.5' due to connection timeout. \n",
      "\u001b[1;31mView Jupyter <a href='command:jupyter.viewOutput'>log</a> for further details."
     ]
    }
   ],
   "source": []
  }
 ],
 "metadata": {
  "kernelspec": {
   "display_name": "Python 3",
   "language": "python",
   "name": "python3"
  },
  "language_info": {
   "codemirror_mode": {
    "name": "ipython",
    "version": 3
   },
   "file_extension": ".py",
   "mimetype": "text/x-python",
   "name": "python",
   "nbconvert_exporter": "python",
   "pygments_lexer": "ipython3",
   "version": "3.10.5"
  },
  "orig_nbformat": 4,
  "vscode": {
   "interpreter": {
    "hash": "4d9c694c8aec39b264fb08e5e28ee8a55a7e14ae91bb73d0b06a9e720b258e83"
   }
  }
 },
 "nbformat": 4,
 "nbformat_minor": 2
}
