{
 "cells": [
  {
   "attachments": {},
   "cell_type": "markdown",
   "metadata": {},
   "source": [
    "# All filters generator"
   ]
  },
  {
   "attachments": {},
   "cell_type": "markdown",
   "metadata": {},
   "source": [
    "### Parameters"
   ]
  },
  {
   "cell_type": "code",
   "execution_count": 2,
   "metadata": {},
   "outputs": [],
   "source": [
    "coefficients = [\n",
    "                    [ 1,  -3,  63,   4,  -2, 1],\n",
    "                    [ 1,  -5,  62,   8,  -3, 1],\n",
    "                    [ 2,  -8,  60,  13,  -4, 1],\n",
    "\n",
    "                    [ 3, -10,  58,  17,  -5, 1],\n",
    "                    [ 3, -11,  52,  26,  -8, 2],\n",
    "                    [ 2,  -9,  47,  31, -10, 3],\n",
    "                    [ 3, -11,  45,  34, -10, 3],\n",
    "\n",
    "                    [ 3, -11,  40,  40, -11, 3],\n",
    "                    [ 3, -10,  34,  45, -11, 3],\n",
    "                    [ 3, -10,  31,  47,  -9, 2],\n",
    "                    [ 2,  -8,  26,  52, -11, 3],\n",
    "\n",
    "                    [ 1,  -5,  17,  58, -10, 3],\n",
    "                    [ 1,  -4,  13,  60,  -8, 2],\n",
    "                    [ 1,  -3,   8,  62,  -5, 1],\n",
    "                    [ 1,  -2,   4,  63,  -3, 1]\n",
    "                    ]"
   ]
  },
  {
   "cell_type": "code",
   "execution_count": 3,
   "metadata": {},
   "outputs": [],
   "source": [
    "# N = 16              # Number of pixels by block\n",
    "FRAC = 15           # Number of fractional pixels for interpolation (eg: 1/4 of resolution)\n",
    "# MODE = 0            # Select MC(0) or FME(1):\n",
    "# SEARCH = 2          # [Only for MC] Select Horizontal search(0), Vertical search(1) or Full search(2)\n",
    "TAPS = 8            # Number of taps in the filter\n",
    "# I = 8               # Input size of the line \n",
    "# S = 1               # Stride=1 means that the filter will deslocate 1 by 1 pixel at the time\n",
    "\n",
    "PADDING = 2         # How much padding to add in each four sides\n",
    "\n",
    "IN_NUM = 6          # 1 line of 6 samples (6-tap)\n",
    "IN_BIT_WIDTH = 8    # Number of bits per sample\n",
    "\n",
    "OUT_NUM = 15        # There are 15 filters used to generate 1/16 precision"
   ]
  },
  {
   "cell_type": "code",
   "execution_count": 4,
   "metadata": {},
   "outputs": [],
   "source": [
    "import math\n",
    "import numpy as np\n",
    "from matplotlib import pyplot as plt"
   ]
  },
  {
   "attachments": {},
   "cell_type": "markdown",
   "metadata": {},
   "source": [
    "### Variables calculation"
   ]
  },
  {
   "attachments": {},
   "cell_type": "markdown",
   "metadata": {},
   "source": [
    "#### Input and outputs"
   ]
  },
  {
   "cell_type": "code",
   "execution_count": 5,
   "metadata": {},
   "outputs": [],
   "source": [
    "# Input size\n",
    "in_width = IN_NUM * IN_BIT_WIDTH\n",
    "\n",
    "# Input text\n",
    "in_text = \"\\tinput signed [\"+str(in_width-1)+\":0] X;\"\n",
    "\n",
    "# Output ports\n",
    "out_names = []\n",
    "for i in range(1,OUT_NUM+1):\n",
    "    if i != OUT_NUM:\n",
    "        out_names.append('\\tY'+str(i)+',')\n",
    "    else:\n",
    "        out_names.append('\\tY'+str(i))\n",
    "out_names_concat = '\\n'.join(out_names)\n",
    "\n",
    "# Output port sizes\n",
    "out_port_sizes = []\n",
    "for i in range(0,OUT_NUM):\n",
    "    out_port_sizes.append(18)\n",
    "\n",
    "# Output port modes\n",
    "out_port = []\n",
    "for i in range(1,OUT_NUM+1):\n",
    "    out_port.append('\\toutput signed ['+str(out_port_sizes[i-1])+':0] Y'+str(i)+';')\n",
    "out_port_concat = '\\n'.join(out_port)\n"
   ]
  },
  {
   "attachments": {},
   "cell_type": "markdown",
   "metadata": {},
   "source": [
    "#### Wires"
   ]
  },
  {
   "cell_type": "code",
   "execution_count": 6,
   "metadata": {},
   "outputs": [],
   "source": [
    "# Wires"
   ]
  },
  {
   "attachments": {},
   "cell_type": "markdown",
   "metadata": {},
   "source": [
    "#### Coefficients sizes"
   ]
  },
  {
   "cell_type": "code",
   "execution_count": 51,
   "metadata": {},
   "outputs": [],
   "source": [
    "# Pre calculated in Google Sheets [TCC] Affine interpolation of a 4x4\n",
    "coefs_sizes = [\n",
    "                [8,\t10,\t14, 10,\t10,\t8],\n",
    "                [8,\t11,\t14,\t11,\t10,\t8],\n",
    "                [9,\t12,\t14,\t12,\t11,\t8],\n",
    "                [10, 12, 14, 13, 11,8],\n",
    "                [10, 12, 14, 13, 12,9],\n",
    "                [9,\t12, 14,\t13,\t12,\t10],\n",
    "                [10, 12, 14, 14, 12, 10],\n",
    "                [10, 12, 14, 14, 12, 10],\n",
    "                [10, 12, 14, 14, 12, 10],\n",
    "                [10, 12, 13, 14, 12, 9],\n",
    "                [9,\t12,\t13,\t14,\t12,\t10],\n",
    "                [8,\t11,\t13,\t14,\t12,\t10],\n",
    "                [8,\t11,\t12,\t14,\t12,\t9],\n",
    "                [8,\t10,\t11,\t14,\t11,\t8],\n",
    "                [8,\t10,\t10,\t14,\t10,\t8]]\n",
    "\n"
   ]
  },
  {
   "cell_type": "code",
   "execution_count": 52,
   "metadata": {},
   "outputs": [],
   "source": [
    "# coefs_sizes = [[0 for x in range(TAPS-2)] for y in range(FRAC)] \n",
    "# max_input = -(2**(IN_BIT_WIDTH-1))\n",
    "\n",
    "# for j in range(0,TAPS-2):\n",
    "#     for i in range(0,FRAC):\n",
    "#         coef = coefficients[i][j]\n",
    "#         print(coef)\n",
    "#         if (coef<0 and (math.log(abs(coef),2))%1==0):\n",
    "#             # a = 1\n",
    "#             coefs_sizes[i][j] = math.ceil(math.log(abs(max_input*coef),2))+1\n",
    "#         else:\n",
    "#             coefs_sizes[i][j] = math.ceil(math.log(abs(max_input*coef),2))+2\n",
    "\n",
    "# # CEILING(LOG(ABS($E$19*F2),2))+1\n",
    "# coefs_sizes"
   ]
  },
  {
   "attachments": {},
   "cell_type": "markdown",
   "metadata": {},
   "source": [
    "#### Filter outputs names"
   ]
  },
  {
   "cell_type": "code",
   "execution_count": 57,
   "metadata": {},
   "outputs": [
    {
     "name": "stdout",
     "output_type": "stream",
     "text": [
      "\treg signed [7:0] \t(r_t0_f1_1);\n",
      "\treg signed [7:0] \t(r_t0_f2_1);\n",
      "\treg signed [8:0] \t(r_t0_f3_2);\n",
      "\treg signed [9:0] \t(r_t0_f4_3);\n",
      "\treg signed [9:0] \t(r_t0_f5_3);\n",
      "\treg signed [8:0] \t(r_t0_f6_2);\n",
      "\treg signed [9:0] \t(r_t0_f7_3);\n",
      "\treg signed [9:0] \t(r_t0_f8_3);\n",
      "\treg signed [9:0] \t(r_t0_f9_3);\n",
      "\treg signed [9:0] \t(r_t0_f10_3);\n",
      "\treg signed [8:0] \t(r_t0_f11_2);\n",
      "\treg signed [7:0] \t(r_t0_f12_1);\n",
      "\treg signed [7:0] \t(r_t0_f13_1);\n",
      "\treg signed [7:0] \t(r_t0_f14_1);\n",
      "\treg signed [7:0] \t(r_t0_f15_1);\n",
      "\treg signed [9:0] \t(r_t1_f1_3neg);\n",
      "\treg signed [10:0] \t(r_t1_f2_5neg);\n",
      "\treg signed [11:0] \t(r_t1_f3_8neg);\n",
      "\treg signed [11:0] \t(r_t1_f4_10neg);\n",
      "\treg signed [11:0] \t(r_t1_f5_11neg);\n",
      "\treg signed [11:0] \t(r_t1_f6_9neg);\n",
      "\treg signed [11:0] \t(r_t1_f7_11neg);\n",
      "\treg signed [11:0] \t(r_t1_f8_11neg);\n",
      "\treg signed [11:0] \t(r_t1_f9_10neg);\n",
      "\treg signed [11:0] \t(r_t1_f10_10neg);\n",
      "\treg signed [11:0] \t(r_t1_f11_8neg);\n",
      "\treg signed [10:0] \t(r_t1_f12_5neg);\n",
      "\treg signed [10:0] \t(r_t1_f13_4neg);\n",
      "\treg signed [9:0] \t(r_t1_f14_3neg);\n",
      "\treg signed [9:0] \t(r_t1_f15_2neg);\n",
      "\treg signed [13:0] \t(r_t2_f1_63);\n",
      "\treg signed [13:0] \t(r_t2_f2_62);\n",
      "\treg signed [13:0] \t(r_t2_f3_60);\n",
      "\treg signed [13:0] \t(r_t2_f4_58);\n",
      "\treg signed [13:0] \t(r_t2_f5_52);\n",
      "\treg signed [13:0] \t(r_t2_f6_47);\n",
      "\treg signed [13:0] \t(r_t2_f7_45);\n",
      "\treg signed [13:0] \t(r_t2_f8_40);\n",
      "\treg signed [13:0] \t(r_t2_f9_34);\n",
      "\treg signed [12:0] \t(r_t2_f10_31);\n",
      "\treg signed [12:0] \t(r_t2_f11_26);\n",
      "\treg signed [12:0] \t(r_t2_f12_17);\n",
      "\treg signed [11:0] \t(r_t2_f13_13);\n",
      "\treg signed [10:0] \t(r_t2_f14_8);\n",
      "\treg signed [9:0] \t(r_t2_f15_4);\n",
      "\treg signed [9:0] \t(r_t3_f1_4);\n",
      "\treg signed [10:0] \t(r_t3_f2_8);\n",
      "\treg signed [11:0] \t(r_t3_f3_13);\n",
      "\treg signed [12:0] \t(r_t3_f4_17);\n",
      "\treg signed [12:0] \t(r_t3_f5_26);\n",
      "\treg signed [12:0] \t(r_t3_f6_31);\n",
      "\treg signed [13:0] \t(r_t3_f7_34);\n",
      "\treg signed [13:0] \t(r_t3_f8_40);\n",
      "\treg signed [13:0] \t(r_t3_f9_45);\n",
      "\treg signed [13:0] \t(r_t3_f10_47);\n",
      "\treg signed [13:0] \t(r_t3_f11_52);\n",
      "\treg signed [13:0] \t(r_t3_f12_58);\n",
      "\treg signed [13:0] \t(r_t3_f13_60);\n",
      "\treg signed [13:0] \t(r_t3_f14_62);\n",
      "\treg signed [13:0] \t(r_t3_f15_63);\n",
      "\treg signed [9:0] \t(r_t4_f1_2neg);\n",
      "\treg signed [9:0] \t(r_t4_f2_3neg);\n",
      "\treg signed [10:0] \t(r_t4_f3_4neg);\n",
      "\treg signed [10:0] \t(r_t4_f4_5neg);\n",
      "\treg signed [11:0] \t(r_t4_f5_8neg);\n",
      "\treg signed [11:0] \t(r_t4_f6_10neg);\n",
      "\treg signed [11:0] \t(r_t4_f7_10neg);\n",
      "\treg signed [11:0] \t(r_t4_f8_11neg);\n",
      "\treg signed [11:0] \t(r_t4_f9_11neg);\n",
      "\treg signed [11:0] \t(r_t4_f10_9neg);\n",
      "\treg signed [11:0] \t(r_t4_f11_11neg);\n",
      "\treg signed [11:0] \t(r_t4_f12_10neg);\n",
      "\treg signed [11:0] \t(r_t4_f13_8neg);\n",
      "\treg signed [10:0] \t(r_t4_f14_5neg);\n",
      "\treg signed [9:0] \t(r_t4_f15_3neg);\n",
      "\treg signed [7:0] \t(r_t5_f1_1);\n",
      "\treg signed [7:0] \t(r_t5_f2_1);\n",
      "\treg signed [7:0] \t(r_t5_f3_1);\n",
      "\treg signed [7:0] \t(r_t5_f4_1);\n",
      "\treg signed [8:0] \t(r_t5_f5_2);\n",
      "\treg signed [9:0] \t(r_t5_f6_3);\n",
      "\treg signed [9:0] \t(r_t5_f7_3);\n",
      "\treg signed [9:0] \t(r_t5_f8_3);\n",
      "\treg signed [9:0] \t(r_t5_f9_3);\n",
      "\treg signed [8:0] \t(r_t5_f10_2);\n",
      "\treg signed [9:0] \t(r_t5_f11_3);\n",
      "\treg signed [9:0] \t(r_t5_f12_3);\n",
      "\treg signed [8:0] \t(r_t5_f13_2);\n",
      "\treg signed [7:0] \t(r_t5_f14_1);\n",
      "\treg signed [7:0] \t(r_t5_f15_1);\n"
     ]
    }
   ],
   "source": [
    "filters_out = []\n",
    "filters_reg = []\n",
    "for t in range(0,TAPS-2):\n",
    "    for y in range(1,FRAC+1):\n",
    "        c = coefficients[y-1][t]\n",
    "        s = coefs_sizes[y-1][t]\n",
    "        if y != 15:\n",
    "            if c > 0:\n",
    "                filters_out.append('\\t\\t.Y'+str(y)+'\\t(r_t'+str(t)+'_f'+str(y)+'_'+str(c)+');')\n",
    "                filters_reg.append('\\treg signed ['+str(s-1)+':0] '+'\\t(r_t'+str(t)+'_f'+str(y)+'_'+str(c)+');')\n",
    "            else:\n",
    "                filters_out.append('\\t\\t.Y'+str(y)+'\\t(r_t'+str(t)+'_f'+str(y)+'_'+str(abs(c))+'neg);')\n",
    "                filters_reg.append('\\treg signed ['+str(s-1)+':0] '+'\\t(r_t'+str(t)+'_f'+str(y)+'_'+str(abs(c))+'neg);')\n",
    "        else:\n",
    "            if c > 0:\n",
    "                filters_out.append('\\t\\t.Y'+str(y)+'\\t(r_t'+str(t)+'_f'+str(y)+'_'+str(c)+')')\n",
    "                filters_reg.append('\\treg signed ['+str(s-1)+':0] '+'\\t(r_t'+str(t)+'_f'+str(y)+'_'+str(c)+');')\n",
    "            else:\n",
    "                filters_out.append('\\t\\t.Y'+str(y)+'\\t(r_t'+str(t)+'_f'+str(y)+'_'+str(abs(c))+'neg)')\n",
    "                filters_reg.append('\\treg signed ['+str(s-1)+':0] '+'\\t(r_t'+str(t)+'_f'+str(y)+'_'+str(abs(c))+'neg);')\n",
    "\n",
    "filters_out_concat = '\\n'.join(filters_out)\n",
    "filters_reg_concat = '\\n'.join(filters_reg)\n",
    "\n",
    "print(filters_reg_concat)"
   ]
  },
  {
   "attachments": {},
   "cell_type": "markdown",
   "metadata": {},
   "source": [
    "#### Summing all outputs"
   ]
  },
  {
   "attachments": {},
   "cell_type": "markdown",
   "metadata": {},
   "source": [
    "s_f1_t0_t1 = (MSB & MSB & r_t0_f1_1) + r_t1_f1_3neg;            // 8 + 10 = 11 \n",
    "s_f1_t2_t3 = r_t2_f1_63 + (MSB & MSB & MSB & MSB & r_t3_f1_4);  // 14 + 10 = 15\n",
    "s_f1_t4_t5 = r_t4_f1_2neg + (MSB & MSB & r_t5_f1_1);            // 10 + 8 = 11\n",
    "\n",
    "s_f1_0 = s_f1_t0_t1 + s_f1_t2_t3; // 11 + 15 = 16\n",
    "s_f1_1 = s_f1_0 + s_f1_t4_t5; // 16 + 11 = 17\n",
    "s_f1 = s_f1_1 << 6; // Rounding term is a division by 64, 17 -> 11 bits"
   ]
  },
  {
   "cell_type": "code",
   "execution_count": null,
   "metadata": {},
   "outputs": [],
   "source": []
  },
  {
   "attachments": {},
   "cell_type": "markdown",
   "metadata": {},
   "source": [
    "### Final Verilog text"
   ]
  },
  {
   "cell_type": "code",
   "execution_count": null,
   "metadata": {},
   "outputs": [],
   "source": [
    "verilog = '''/*------------------------------------------------------------------------------\n",
    " * File: all_filters.v\n",
    " * Date generated: 13/02/2023\n",
    " * Date modified: 13/02/2023\n",
    " * Author: Bruna Suemi Nagai\n",
    " * Description: Concatenating all 15 filters\n",
    " *------------------------------------------------------------------------------ */\n",
    "\n",
    "module all_filters (\n",
    "        X,\n",
    "    '''+out_names_concat+'''\n",
    ");\n",
    "\n",
    "\n",
    "// ------------------------------------------\n",
    "// Parameters\n",
    "// ------------------------------------------\n",
    "\n",
    "    // Bit width of input data \n",
    "    parameter integer IN_SIZE = 'd8;\n",
    "\t \n",
    "\t \n",
    "// ------------------------------------------\n",
    "// Port mode declarations\n",
    "// ------------------------------------------\n",
    "\n",
    "'''+in_text+'''\n",
    "'''+out_port_concat+'''\n",
    "\n",
    "// ------------------------------------------\n",
    "// Wires declarations\n",
    "// ------------------------------------------\n",
    "\n",
    "//  wire signed [8:0] w2;\n",
    "//  wire signed [9:0] w2_;\n",
    "\n",
    "\t \n",
    "// ------------------------------------------\n",
    "// Combinational logic\n",
    "// ------------------------------------------\n",
    "\n",
    "//  assign w1 = X;\n",
    "//  assign w4 = w1 << 2;\n",
    "//  assign w3 = w4 - w1;\n",
    "//  assign w5 = w1 + w4;\n",
    "//  assign w2_ = -1 * w2;\n",
    "\n",
    "  \n",
    "// ------------------------------------------\n",
    "// Outputs\n",
    "// ------------------------------------------\n",
    "\n",
    "//  assign Y1 = w2_;\n",
    "\n",
    "\n",
    "endmodule //all_filters\n",
    "\n",
    "'''\n",
    "print(verilog)"
   ]
  },
  {
   "cell_type": "code",
   "execution_count": null,
   "metadata": {},
   "outputs": [],
   "source": []
  }
 ],
 "metadata": {
  "kernelspec": {
   "display_name": "Python 3",
   "language": "python",
   "name": "python3"
  },
  "language_info": {
   "codemirror_mode": {
    "name": "ipython",
    "version": 3
   },
   "file_extension": ".py",
   "mimetype": "text/x-python",
   "name": "python",
   "nbconvert_exporter": "python",
   "pygments_lexer": "ipython3",
   "version": "3.10.5"
  },
  "orig_nbformat": 4,
  "vscode": {
   "interpreter": {
    "hash": "4d9c694c8aec39b264fb08e5e28ee8a55a7e14ae91bb73d0b06a9e720b258e83"
   }
  }
 },
 "nbformat": 4,
 "nbformat_minor": 2
}
