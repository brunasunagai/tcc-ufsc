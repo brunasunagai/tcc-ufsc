{
 "cells": [
  {
   "attachments": {},
   "cell_type": "markdown",
   "metadata": {},
   "source": [
    "# All filters generator"
   ]
  },
  {
   "attachments": {},
   "cell_type": "markdown",
   "metadata": {},
   "source": [
    "### Parameters"
   ]
  },
  {
   "cell_type": "code",
   "execution_count": 1,
   "metadata": {},
   "outputs": [],
   "source": [
    "N = 16      # Number of pixels by block\n",
    "FRAC = 4    # Number of fractional pixels for interpolation (eg: 1/4 of resolution)\n",
    "MODE = 0    # Select MC(0) or FME(1):\n",
    "SEARCH = 2  # [Only for MC] Select Horizontal search(0), Vertical search(1) or Full search(2)\n",
    "TAPS = 8    # Number of taps in the filter\n",
    "I = 8       # Input size of the line \n",
    "S = 1       # Stride=1 means that the filter will deslocate 1 by 1 pixel at the time"
   ]
  },
  {
   "cell_type": "code",
   "execution_count": 2,
   "metadata": {},
   "outputs": [],
   "source": [
    "import math\n",
    "import numpy as np\n",
    "from matplotlib import pyplot as plt"
   ]
  },
  {
   "attachments": {},
   "cell_type": "markdown",
   "metadata": {},
   "source": [
    "### Final Verilog text"
   ]
  },
  {
   "cell_type": "code",
   "execution_count": 4,
   "metadata": {},
   "outputs": [
    {
     "name": "stdout",
     "output_type": "stream",
     "text": [
      "/*------------------------------------------------------------------------------\n",
      " * File: all_filters.v\n",
      " * Date generated: 13/02/2023\n",
      " * Date modified: 13/02/2023\n",
      " * Author: Bruna Suemi Nagai\n",
      " * Description: Concatenating all 15 filters\n",
      " *------------------------------------------------------------------------------ */\n",
      "\n",
      "module all_filters (\n",
      "    X,\n",
      "    Y1\n",
      ");\n",
      "\n",
      "\n",
      "// ------------------------------------------\n",
      "// Parameters\n",
      "// ------------------------------------------\n",
      "\n",
      "    // Bit width of input data \n",
      "    parameter integer IN_SIZE = 'd8;\n",
      "\t \n",
      "\t \n",
      "// ------------------------------------------\n",
      "// Port mode declarations\n",
      "// ------------------------------------------\n",
      "\n",
      "//  input  signed [IN_SIZE-1:0] X;\n",
      "//  output signed [9:0]   \tY1;\n",
      "//  output signed [9:0]    \tY2\n",
      "\n",
      "// ------------------------------------------\n",
      "// Wires declarations\n",
      "// ------------------------------------------\n",
      "\n",
      "//  wire signed [8:0] w2;\n",
      "//  wire signed [9:0] w2_;\n",
      "\n",
      "\t \n",
      "// ------------------------------------------\n",
      "// Combinational logic\n",
      "// ------------------------------------------\n",
      "\n",
      "//  assign w1 = X;\n",
      "//  assign w4 = w1 << 2;\n",
      "//  assign w3 = w4 - w1;\n",
      "//  assign w5 = w1 + w4;\n",
      "//  assign w2_ = -1 * w2;\n",
      "\n",
      "  \n",
      "// ------------------------------------------\n",
      "// Outputs\n",
      "// ------------------------------------------\n",
      "\n",
      "//  assign Y1 = w2_;\n",
      "\n",
      "\n",
      "endmodule //all_filters\n",
      "\n",
      "\n"
     ]
    }
   ],
   "source": [
    "verilog = '''/*------------------------------------------------------------------------------\n",
    " * File: all_filters.v\n",
    " * Date generated: 13/02/2023\n",
    " * Date modified: 13/02/2023\n",
    " * Author: Bruna Suemi Nagai\n",
    " * Description: Concatenating all 15 filters\n",
    " *------------------------------------------------------------------------------ */\n",
    "\n",
    "module all_filters (\n",
    "    X,\n",
    "    Y1\n",
    ");\n",
    "\n",
    "\n",
    "// ------------------------------------------\n",
    "// Parameters\n",
    "// ------------------------------------------\n",
    "\n",
    "    // Bit width of input data \n",
    "    parameter integer IN_SIZE = 'd8;\n",
    "\t \n",
    "\t \n",
    "// ------------------------------------------\n",
    "// Port mode declarations\n",
    "// ------------------------------------------\n",
    "\n",
    "//  input  signed [IN_SIZE-1:0] X;\n",
    "//  output signed [9:0]   \tY1;\n",
    "//  output signed [9:0]    \tY2\n",
    "\n",
    "// ------------------------------------------\n",
    "// Wires declarations\n",
    "// ------------------------------------------\n",
    "\n",
    "//  wire signed [8:0] w2;\n",
    "//  wire signed [9:0] w2_;\n",
    "\n",
    "\t \n",
    "// ------------------------------------------\n",
    "// Combinational logic\n",
    "// ------------------------------------------\n",
    "\n",
    "//  assign w1 = X;\n",
    "//  assign w4 = w1 << 2;\n",
    "//  assign w3 = w4 - w1;\n",
    "//  assign w5 = w1 + w4;\n",
    "//  assign w2_ = -1 * w2;\n",
    "\n",
    "  \n",
    "// ------------------------------------------\n",
    "// Outputs\n",
    "// ------------------------------------------\n",
    "\n",
    "//  assign Y1 = w2_;\n",
    "\n",
    "\n",
    "endmodule //all_filters\n",
    "\n",
    "'''\n",
    "print(verilog)"
   ]
  },
  {
   "cell_type": "code",
   "execution_count": null,
   "metadata": {},
   "outputs": [],
   "source": []
  }
 ],
 "metadata": {
  "kernelspec": {
   "display_name": "Python 3",
   "language": "python",
   "name": "python3"
  },
  "language_info": {
   "codemirror_mode": {
    "name": "ipython",
    "version": 3
   },
   "file_extension": ".py",
   "mimetype": "text/x-python",
   "name": "python",
   "nbconvert_exporter": "python",
   "pygments_lexer": "ipython3",
   "version": "3.10.5"
  },
  "orig_nbformat": 4,
  "vscode": {
   "interpreter": {
    "hash": "4d9c694c8aec39b264fb08e5e28ee8a55a7e14ae91bb73d0b06a9e720b258e83"
   }
  }
 },
 "nbformat": 4,
 "nbformat_minor": 2
}
