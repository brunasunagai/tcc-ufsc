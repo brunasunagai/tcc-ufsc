{
 "cells": [
  {
   "attachments": {},
   "cell_type": "markdown",
   "metadata": {},
   "source": [
    "# All filters generator"
   ]
  },
  {
   "attachments": {},
   "cell_type": "markdown",
   "metadata": {},
   "source": [
    "### Parameters"
   ]
  },
  {
   "cell_type": "code",
   "execution_count": 2,
   "metadata": {},
   "outputs": [],
   "source": [
    "#################################\n",
    "# IMPORTANT SETUP\n",
    "REWRITE_FILE = 0\n",
    "MODIFIED = 1\n",
    "#################################\n",
    "\n",
    "\n",
    "FRAC = 15           # Number of fractional pixels for interpolation (eg: 1/4 of resolution)\n",
    "TAPS = 6            # Number of taps in the filter\n",
    "PADDING = 2         # How much padding to add in each four sides\n",
    "ROUNDING_TERM = 64  # Number used to divide the sums (= sum of all coefficients in horizontal)\n",
    "IN_NUM = 6          # 1 line of 6 samples (6-tap)\n",
    "IN_BIT_WIDTH = 8    # Number of bits per sample\n",
    "OUT_NUM = 15        # There are 15 filters used to generate 1/16 precision"
   ]
  },
  {
   "attachments": {},
   "cell_type": "markdown",
   "metadata": {},
   "source": [
    "#### Coefficients"
   ]
  },
  {
   "cell_type": "code",
   "execution_count": 3,
   "metadata": {},
   "outputs": [],
   "source": [
    "coefficients = [\n",
    "                    [ 1,  -3,  63,   4,  -2, 1],\n",
    "                    [ 1,  -5,  62,   8,  -3, 1],\n",
    "                    [ 2,  -8,  60,  13,  -4, 1],\n",
    "\n",
    "                    [ 3, -10,  58,  17,  -5, 1],\n",
    "                    [ 3, -11,  52,  26,  -8, 2],\n",
    "                    [ 2,  -9,  47,  31, -10, 3],\n",
    "                    [ 3, -11,  45,  34, -10, 3],\n",
    "\n",
    "                    [ 3, -11,  40,  40, -11, 3],\n",
    "                    [ 3, -10,  34,  45, -11, 3],\n",
    "                    [ 3, -10,  31,  47,  -9, 2],\n",
    "                    [ 2,  -8,  26,  52, -11, 3],\n",
    "\n",
    "                    [ 1,  -5,  17,  58, -10, 3],\n",
    "                    [ 1,  -4,  13,  60,  -8, 2],\n",
    "                    [ 1,  -3,   8,  62,  -5, 1],\n",
    "                    [ 1,  -2,   4,  63,  -3, 1]\n",
    "                    ]"
   ]
  },
  {
   "cell_type": "code",
   "execution_count": 4,
   "metadata": {},
   "outputs": [],
   "source": [
    "# Pre calculated in Google Sheets [TCC] Affine interpolation of a 4x4\n",
    "coefs_sizes = [\n",
    "                [8,\t10,\t14, 10,\t10,\t8],\n",
    "                [8,\t11,\t14,\t11,\t10,\t8],\n",
    "                [9,\t12,\t14,\t12,\t11,\t8],\n",
    "                [10, 12, 14, 13, 11,8],\n",
    "                [10, 12, 14, 13, 12,9],\n",
    "                [9,\t12, 14,\t13,\t12,\t10],\n",
    "                [10, 12, 14, 14, 12, 10],\n",
    "                [10, 12, 14, 14, 12, 10],\n",
    "                [10, 12, 14, 14, 12, 10],\n",
    "                [10, 12, 13, 14, 12, 9],\n",
    "                [9,\t12,\t13,\t14,\t12,\t10],\n",
    "                [8,\t11,\t13,\t14,\t12,\t10],\n",
    "                [8,\t11,\t12,\t14,\t12,\t9],\n",
    "                [8,\t10,\t11,\t14,\t11,\t8],\n",
    "                [8,\t10,\t10,\t14,\t10,\t8]]"
   ]
  },
  {
   "cell_type": "code",
   "execution_count": 5,
   "metadata": {},
   "outputs": [],
   "source": [
    "import math\n",
    "import numpy as np\n",
    "from matplotlib import pyplot as plt\n",
    "from datetime import datetime "
   ]
  },
  {
   "attachments": {},
   "cell_type": "markdown",
   "metadata": {},
   "source": [
    "### Variables calculation"
   ]
  },
  {
   "attachments": {},
   "cell_type": "markdown",
   "metadata": {},
   "source": [
    "#### Input and outputs"
   ]
  },
  {
   "cell_type": "code",
   "execution_count": 6,
   "metadata": {},
   "outputs": [],
   "source": [
    "# Input size\n",
    "in_width = IN_NUM * IN_BIT_WIDTH\n",
    "\n",
    "# Input text\n",
    "in_text = \"\\tinput signed [\"+str(in_width-1)+\":0] X;\"\n",
    "\n",
    "# Output ports\n",
    "out_names = []\n",
    "for i in range(1,OUT_NUM+1):\n",
    "    if i != OUT_NUM:\n",
    "        out_names.append('\\tY'+str(i)+',')\n",
    "    else:\n",
    "        out_names.append('\\tY'+str(i))\n",
    "out_names_concat = '\\n'.join(out_names)\n",
    "\n",
    "# print(in_text)\n",
    "# print(out_names_concat)"
   ]
  },
  {
   "attachments": {},
   "cell_type": "markdown",
   "metadata": {},
   "source": [
    "Obs: outputs sizes are calculated after all calculations are ready in the end of this code"
   ]
  },
  {
   "cell_type": "code",
   "execution_count": 7,
   "metadata": {},
   "outputs": [],
   "source": [
    "# coefs_sizes = [[0 for x in range(TAPS-2)] for y in range(FRAC)] \n",
    "# max_input = -(2**(IN_BIT_WIDTH-1))\n",
    "\n",
    "# for j in range(0,TAPS-2):\n",
    "#     for i in range(0,FRAC):\n",
    "#         coef = coefficients[i][j]\n",
    "#         print(coef)\n",
    "#         if (coef<0 and (math.log(abs(coef),2))%1==0):\n",
    "#             # a = 1\n",
    "#             coefs_sizes[i][j] = math.ceil(math.log(abs(max_input*coef),2))+1\n",
    "#         else:\n",
    "#             coefs_sizes[i][j] = math.ceil(math.log(abs(max_input*coef),2))+2\n",
    "\n",
    "# # CEILING(LOG(ABS($E$19*F2),2))+1\n",
    "# coefs_sizes"
   ]
  },
  {
   "attachments": {},
   "cell_type": "markdown",
   "metadata": {},
   "source": [
    "#### Filter outputs names"
   ]
  },
  {
   "cell_type": "code",
   "execution_count": 8,
   "metadata": {},
   "outputs": [],
   "source": [
    "# To instantiate module: .Y1 (r_t0_f1_1);\n",
    "filters_out = []\n",
    "\n",
    "# To create wire: wire signed [7:0] r_t0_f1_1;\n",
    "filters_wire = []\n",
    "\n",
    "# Stores filter's output wires in the same shape of the coefficients\n",
    "wire_out_filter_name = [[0 for x in range(TAPS)] for y in range(FRAC)] \n",
    "\n",
    "for t in range(0,TAPS):\n",
    "    for y in range(1,FRAC+1):\n",
    "        c = coefficients[y-1][t]\n",
    "        s = coefs_sizes[y-1][t]\n",
    "        if y != 15:\n",
    "            if c > 0:\n",
    "                wire_out_filter_name[y-1][t] = 'r_t'+str(t)+'_f'+str(y)+'_'+str(c)\n",
    "            else:\n",
    "                wire_out_filter_name[y-1][t] = 'r_t'+str(t)+'_f'+str(y)+'_'+str(abs(c))+'neg'\n",
    "            filters_out.append('\\t\\t.Y'+str(y)+'\\t('+str(wire_out_filter_name[y-1][t])+'),')\n",
    "        else:\n",
    "            if c > 0:\n",
    "                wire_out_filter_name[y-1][t] = 'r_t'+str(t)+'_f'+str(y)+'_'+str(c)\n",
    "            else:\n",
    "                wire_out_filter_name[y-1][t] = 'r_t'+str(t)+'_f'+str(y)+'_'+str(abs(c))+'neg'\n",
    "            filters_out.append('\\t\\t.Y'+str(y)+'\\t('+str(wire_out_filter_name[y-1][t])+')')\n",
    "        filters_wire.append('\\twire signed ['+str(s-1)+':0]\\t'+str(wire_out_filter_name[y-1][t])+';')\n",
    "\n",
    "# To instantiate module: .Y1 (r_t0_f1_1);\n",
    "filters_out_concat = '\\n'.join(filters_out)\n",
    "\n",
    "# To create wire: wire signed [7:0] r_t0_f1_1\n",
    "filters_wire_concat = '\\n'.join(filters_wire)\n",
    "\n",
    "# print(filters_out_concat)\n",
    "# print(filters_wire_concat)"
   ]
  },
  {
   "attachments": {},
   "cell_type": "markdown",
   "metadata": {},
   "source": [
    "#### First round sums"
   ]
  },
  {
   "cell_type": "code",
   "execution_count": 10,
   "metadata": {},
   "outputs": [],
   "source": [
    "# wire for first sums [15][3]: s_f1_t0_t1\n",
    "wire_sum_1_name = [[0 for x in range(int(TAPS/2))] for y in range(FRAC)] \n",
    "# print(len(wire_sum_1_name),len(wire_sum_1_name[0]))\n",
    "# Sizes of the resulting first sums (size for wire_sum_1_name)\n",
    "wire_sum_1_size = [[0 for x in range(int(TAPS/2))] for y in range(FRAC)]\n",
    "\n",
    "# wire declaration for first sums\n",
    "wire_sum_1_declaration = []\n",
    "\n",
    "# First sums calculation\n",
    "wire_sum_1_calculation = []\n",
    "\n",
    "for f in range(1,FRAC+1):\n",
    "    for t in range(0,int(TAPS/2)):\n",
    "        wire_sum_1_name[f-1][t] = 's_f'+str(f)+'_t'+str(2*t)+'_t'+str(2*t+1)\n",
    "\n",
    "        s1 = coefs_sizes[f-1][2*t]                  # Size of p1\n",
    "        s2 = coefs_sizes[f-1][2*t+1]                # Size of p2\n",
    "        \n",
    "        name1 = wire_out_filter_name[f-1][2*t]\n",
    "        name2 = wire_out_filter_name[f-1][2*t+1]\n",
    "        # print(s1,s2)\n",
    "\n",
    "        if s1 > s2:\n",
    "            p1 = '\\t' + str(name1)\n",
    "            p2 = ' + {'\n",
    "\n",
    "            for bit in range(0,s1-s2):\n",
    "                p2 = p2+str(name2)+'['+str(s2-1)+'], '\n",
    "                \n",
    "            p2 = p2+str(name2)+'}; \\t\\t// '+str(s1)+' + '+str(s2)+' = '+str(s1+1)+' bits'\n",
    "            wire_sum_1_size[f-1][t] = s1 + 1\n",
    "        else:\n",
    "            p1 = '\\t{'\n",
    "            p2 = ' + '+str(name2)+'; \\t\\t// '+str(s1)+' + '+str(s2)+' = '+str(s2+1)+' bits'\n",
    "\n",
    "            for bit in range(0,s2-s1):\n",
    "                p1 = p1 + str(name1)+'['+str(s1-1)+'], '\n",
    "\n",
    "            p1 = p1+str(name1)+'}'\n",
    "            wire_sum_1_size[f-1][t] = s2 + 1\n",
    "\n",
    "        wire_sum_1_declaration.append('\\twire signed ['+str(wire_sum_1_size[f-1][t]-1)+':0]\\t'+str(wire_sum_1_name[f-1][t])+';\\t// '+str(wire_sum_1_size[f-1][t])+' bits')\n",
    "        wire_sum_1_calculation.append('\\t\\tassign '+str(wire_sum_1_name[f-1][t])+' = '+str(p1)+str(p2))\n",
    "\n",
    "wire_sum_1_declaration_concat = '\\n'.join(wire_sum_1_declaration)\n",
    "wire_sum_1_calculation_concat = '\\n'.join(wire_sum_1_calculation)\n",
    "\n",
    "# print(wire_sum_1_declaration_concat)\n",
    "# print(wire_sum_1_calculation_concat)"
   ]
  },
  {
   "attachments": {},
   "cell_type": "markdown",
   "metadata": {},
   "source": [
    "#### Second round sums"
   ]
  },
  {
   "attachments": {},
   "cell_type": "markdown",
   "metadata": {},
   "source": [
    "Essa parte só funciona para filtros de 6 taps"
   ]
  },
  {
   "cell_type": "code",
   "execution_count": 11,
   "metadata": {},
   "outputs": [],
   "source": [
    "# wire for second sums [15][3]: s_f1_0\n",
    "wire_sum_2_name = [[0 for x in range(2)] for y in range(FRAC)] \n",
    "\n",
    "# Sizes of the resulting first sums (size for wire_sum_1_name)\n",
    "wire_sum_2_size = [[0 for x in range(2)] for y in range(FRAC)]\n",
    "\n",
    "# wire declaration for second sums\n",
    "wire_sum_2_declaration = []\n",
    "\n",
    "# Second sums calculation\n",
    "wire_sum_2_calculation = []\n",
    "\n",
    "for f in range(1,FRAC+1):\n",
    "    for t in range(0,2):\n",
    "        wire_sum_2_name[f-1][t] = 's_f' + str(f) + '_' + str(t)\n",
    "\n",
    "        s1 = wire_sum_1_size[f-1][2*t]   \n",
    "        name1 = wire_sum_1_name[f-1][2*t]\n",
    "\n",
    "        if t == 1:\n",
    "            s2 = wire_sum_2_size[f-1][t-1]\n",
    "            name2 = wire_sum_2_name[f-1][t-1]          \n",
    "        else:\n",
    "            s2 = wire_sum_1_size[f-1][2*t+1]   \n",
    "            name2 = wire_sum_1_name[f-1][2*t+1]\n",
    "\n",
    "        if s1 > s2:\n",
    "            p1 = '\\t'+str(name1)\n",
    "            p2 = ' + {'\n",
    "            \n",
    "            for bit in range(0,s1-s2):\n",
    "                p2 = p2+str(name2)+'['+str(s2-1)+'], ' \n",
    "            p2 = p2+str(name2)+'}; \\t\\t// '+str(s1)+' + '+str(s2)+' = '+str(s1+1)+' bits'\n",
    "            \n",
    "            wire_sum_1_size[f-1][t] = s1 + 1\n",
    "        else:\n",
    "            p1 = '\\t{'\n",
    "            p2 = ' + '+str(name2)+'; \\t\\t// '+str(s1)+' + '+str(s2)+' = '+str(s2+1)+' bits'\n",
    "\n",
    "            for bit in range(0,s2-s1):\n",
    "                p1 = p1 + str(name1)+'['+str(s1-1)+'],  '\n",
    "            p1 = p1+str(name1)+'}'\n",
    "\n",
    "            wire_sum_2_size[f-1][t] = s2 + 1\n",
    "\n",
    "        wire_sum_2_declaration.append('\\twire signed ['+str(wire_sum_2_size[f-1][t]-1)+':0]\\t'+str(wire_sum_2_name[f-1][t])+';\\t// '+str(wire_sum_2_size[f-1][t])+' bits')\n",
    "        wire_sum_2_calculation.append('\\t\\tassign '+str(wire_sum_2_name[f-1][t])+' = '+str(p1)+str(p2))\n",
    "\n",
    "wire_sum_2_declaration_concat = '\\n'.join(wire_sum_2_declaration)\n",
    "wire_sum_2_calculation_concat = '\\n'.join(wire_sum_2_calculation)\n",
    "\n",
    "# print(wire_sum_2_declaration_concat)\n",
    "# print(wire_sum_2_calculation_concat)"
   ]
  },
  {
   "attachments": {},
   "cell_type": "markdown",
   "metadata": {},
   "source": [
    "#### Applying the rounding term "
   ]
  },
  {
   "cell_type": "code",
   "execution_count": 12,
   "metadata": {},
   "outputs": [
    {
     "name": "stdout",
     "output_type": "stream",
     "text": [
      "\tassign Y1 = s_f1_shr;\t// 11 bits\n",
      "\tassign Y2 = s_f2_shr;\t// 11 bits\n",
      "\tassign Y3 = s_f3_shr;\t// 11 bits\n",
      "\tassign Y4 = s_f4_shr;\t// 11 bits\n",
      "\tassign Y5 = s_f5_shr;\t// 11 bits\n",
      "\tassign Y6 = s_f6_shr;\t// 11 bits\n",
      "\tassign Y7 = s_f7_shr;\t// 11 bits\n",
      "\tassign Y8 = s_f8_shr;\t// 11 bits\n",
      "\tassign Y9 = s_f9_shr;\t// 11 bits\n",
      "\tassign Y10 = s_f10_shr;\t// 11 bits\n",
      "\tassign Y11 = s_f11_shr;\t// 11 bits\n",
      "\tassign Y12 = s_f12_shr;\t// 11 bits\n",
      "\tassign Y13 = s_f13_shr;\t// 11 bits\n",
      "\tassign Y14 = s_f14_shr;\t// 11 bits\n",
      "\tassign Y15 = s_f15_shr;\t// 11 bits\n"
     ]
    }
   ],
   "source": [
    "# To store all shifts left of the final sum\n",
    "wire_sum_shr_name = []\n",
    "\n",
    "# To store the sizes of wire_sum_shr_name\n",
    "wire_sum_shr_size = []\n",
    "\n",
    "# To write the wire declaration\n",
    "shr_declaration = []\n",
    "\n",
    "# To write the calculations\n",
    "shr_calculation = []\n",
    "\n",
    "# Shifts to outputs\n",
    "shr_to_out = []\n",
    "\n",
    "# Number of left shifts\n",
    "shifts = int(math.log(ROUNDING_TERM,2))\n",
    "\n",
    "for f in range(1,FRAC+1):\n",
    "    wire_sum_shr_name.append('s_f'+str(f)+'_shr')\n",
    "    wire_sum_shr_size.append(int(wire_sum_2_size[f-1][1]-shifts))\n",
    "\n",
    "    shr_declaration.append('\\twire signed ['+str(wire_sum_shr_size[f-1]-1)+':0]\\t'+str(wire_sum_shr_name[f-1])+';\\t // '+str(wire_sum_shr_size[f-1])+' bits')\n",
    "    shr_calculation.append('\\t\\tassign '+str(wire_sum_shr_name[f-1])+' = '+str(wire_sum_2_name[f-1][1])+' >> '+str(shifts)+';')\n",
    "    shr_to_out.append('\\tassign Y'+str(f)+' = '+str(wire_sum_shr_name[f-1])+';\\t// '+str(wire_sum_shr_size[f-1])+' bits')\n",
    "\n",
    "shr_declaration_concat = '\\n'.join(shr_declaration)\n",
    "shr_calculation_concat = '\\n'.join(shr_calculation)\n",
    "shr_to_out_concat = '\\n'.join(shr_to_out)\n",
    "\n",
    "# print(shr_declaration_concat)\n",
    "# print(shr_calculation_concat)\n",
    "print(shr_to_out_concat)"
   ]
  },
  {
   "attachments": {},
   "cell_type": "markdown",
   "metadata": {},
   "source": [
    "### Ouput declaration (after all calculations are ready)"
   ]
  },
  {
   "cell_type": "code",
   "execution_count": 13,
   "metadata": {},
   "outputs": [
    {
     "name": "stdout",
     "output_type": "stream",
     "text": [
      "\toutput signed [10:0] Y1;\n",
      "\toutput signed [10:0] Y2;\n",
      "\toutput signed [10:0] Y3;\n",
      "\toutput signed [10:0] Y4;\n",
      "\toutput signed [10:0] Y5;\n",
      "\toutput signed [10:0] Y6;\n",
      "\toutput signed [10:0] Y7;\n",
      "\toutput signed [10:0] Y8;\n",
      "\toutput signed [10:0] Y9;\n",
      "\toutput signed [10:0] Y10;\n",
      "\toutput signed [10:0] Y11;\n",
      "\toutput signed [10:0] Y12;\n",
      "\toutput signed [10:0] Y13;\n",
      "\toutput signed [10:0] Y14;\n",
      "\toutput signed [10:0] Y15;\n"
     ]
    }
   ],
   "source": [
    "# Output port modes\n",
    "out_port = []\n",
    "for i in range(1,OUT_NUM+1):\n",
    "    out_port.append('\\toutput signed ['+str(wire_sum_shr_size[i-1]-1)+':0] Y'+str(i)+';')\n",
    "out_port_concat = '\\n'.join(out_port)\n",
    "\n",
    "print(out_port_concat)"
   ]
  },
  {
   "attachments": {},
   "cell_type": "markdown",
   "metadata": {},
   "source": [
    "### Final Verilog text"
   ]
  },
  {
   "cell_type": "code",
   "execution_count": 14,
   "metadata": {},
   "outputs": [],
   "source": [
    "if MODIFIED == 1:\n",
    "    modif = str(datetime.today().strftime('%d/%m/%Y'))"
   ]
  },
  {
   "cell_type": "code",
   "execution_count": 15,
   "metadata": {},
   "outputs": [
    {
     "name": "stdout",
     "output_type": "stream",
     "text": [
      "/*------------------------------------------------------------------------------\n",
      " * File: all_filters.v\n",
      " * Date generated: 13/02/2023\n",
      " * Date modified: 31/03/2023\n",
      " * Author: Bruna Suemi Nagai\n",
      " * Description: Concatenating all 15 filters\n",
      " *------------------------------------------------------------------------------ */\n",
      "\n",
      "module all_filters (\n",
      "        X,\n",
      "    \tY1,\n",
      "\tY2,\n",
      "\tY3,\n",
      "\tY4,\n",
      "\tY5,\n",
      "\tY6,\n",
      "\tY7,\n",
      "\tY8,\n",
      "\tY9,\n",
      "\tY10,\n",
      "\tY11,\n",
      "\tY12,\n",
      "\tY13,\n",
      "\tY14,\n",
      "\tY15\n",
      ");\n",
      "\n",
      "\n",
      "// ------------------------------------------\n",
      "// Parameters\n",
      "// ------------------------------------------\n",
      "\n",
      "    // Bit width of input data \n",
      "    parameter integer IN_SIZE = 'd8;\n",
      "\t \n",
      "\t \n",
      "// ------------------------------------------\n",
      "// Port mode declarations\n",
      "// ------------------------------------------\n",
      "\n",
      "\tinput signed [47:0] X;\n",
      "\toutput signed [10:0] Y1;\n",
      "\toutput signed [10:0] Y2;\n",
      "\toutput signed [10:0] Y3;\n",
      "\toutput signed [10:0] Y4;\n",
      "\toutput signed [10:0] Y5;\n",
      "\toutput signed [10:0] Y6;\n",
      "\toutput signed [10:0] Y7;\n",
      "\toutput signed [10:0] Y8;\n",
      "\toutput signed [10:0] Y9;\n",
      "\toutput signed [10:0] Y10;\n",
      "\toutput signed [10:0] Y11;\n",
      "\toutput signed [10:0] Y12;\n",
      "\toutput signed [10:0] Y13;\n",
      "\toutput signed [10:0] Y14;\n",
      "\toutput signed [10:0] Y15;\n",
      "\n",
      "// ------------------------------------------\n",
      "// Wires declarations\n",
      "// ------------------------------------------\n",
      "\n",
      "//  wire signed [8:0] w2;\n",
      "//  wire signed [9:0] w2_;\n",
      "\n",
      "\t \n",
      "// ------------------------------------------\n",
      "// Combinational logic\n",
      "// ------------------------------------------\n",
      "\n",
      "//  assign w1 = X;\n",
      "//  assign w4 = w1 << 2;\n",
      "//  assign w3 = w4 - w1;\n",
      "//  assign w5 = w1 + w4;\n",
      "//  assign w2_ = -1 * w2;\n",
      "\n",
      "  \n",
      "// ------------------------------------------\n",
      "// Outputs\n",
      "// ------------------------------------------\n",
      "\n",
      "//  assign Y1 = w2_;\n",
      "\n",
      "\n",
      "endmodule //all_filters\n",
      "\n",
      "\n"
     ]
    }
   ],
   "source": [
    "verilog = '''/*------------------------------------------------------------------------------\n",
    " * File: all_filters.v\n",
    " * Date generated: 13/02/2023\n",
    " * Date modified: '''+modif+'''\n",
    " * Author: Bruna Suemi Nagai\n",
    " * Description: Concatenating all 15 filters\n",
    " *------------------------------------------------------------------------------ */\n",
    "\n",
    "module all_filters (\n",
    "        X,\n",
    "    '''+out_names_concat+'''\n",
    ");\n",
    "\n",
    "\n",
    "// ------------------------------------------\n",
    "// Parameters\n",
    "// ------------------------------------------\n",
    "\n",
    "    // Bit width of input data \n",
    "    parameter integer IN_SIZE = 'd8;\n",
    "\t \n",
    "\t \n",
    "// ------------------------------------------\n",
    "// Port mode declarations\n",
    "// ------------------------------------------\n",
    "\n",
    "'''+in_text+'''\n",
    "'''+out_port_concat+'''\n",
    "\n",
    "// ------------------------------------------\n",
    "// Wires declarations\n",
    "// ------------------------------------------\n",
    "\n",
    "//  wire signed [8:0] w2;\n",
    "//  wire signed [9:0] w2_;\n",
    "\n",
    "\t \n",
    "// ------------------------------------------\n",
    "// Combinational logic\n",
    "// ------------------------------------------\n",
    "\n",
    "//  assign w1 = X;\n",
    "//  assign w4 = w1 << 2;\n",
    "//  assign w3 = w4 - w1;\n",
    "//  assign w5 = w1 + w4;\n",
    "//  assign w2_ = -1 * w2;\n",
    "\n",
    "  \n",
    "// ------------------------------------------\n",
    "// Outputs\n",
    "// ------------------------------------------\n",
    "\n",
    "//  assign Y1 = w2_;\n",
    "\n",
    "\n",
    "endmodule //all_filters\n",
    "\n",
    "'''\n",
    "print(verilog)"
   ]
  },
  {
   "cell_type": "code",
   "execution_count": null,
   "metadata": {},
   "outputs": [],
   "source": []
  }
 ],
 "metadata": {
  "kernelspec": {
   "display_name": "Python 3",
   "language": "python",
   "name": "python3"
  },
  "language_info": {
   "codemirror_mode": {
    "name": "ipython",
    "version": 3
   },
   "file_extension": ".py",
   "mimetype": "text/x-python",
   "name": "python",
   "nbconvert_exporter": "python",
   "pygments_lexer": "ipython3",
   "version": "3.10.5"
  },
  "orig_nbformat": 4,
  "vscode": {
   "interpreter": {
    "hash": "4d9c694c8aec39b264fb08e5e28ee8a55a7e14ae91bb73d0b06a9e720b258e83"
   }
  }
 },
 "nbformat": 4,
 "nbformat_minor": 2
}
