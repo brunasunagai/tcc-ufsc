{
 "cells": [
  {
   "attachments": {},
   "cell_type": "markdown",
   "metadata": {},
   "source": [
    "# All filters generator"
   ]
  },
  {
   "attachments": {},
   "cell_type": "markdown",
   "metadata": {},
   "source": [
    "### Parameters"
   ]
  },
  {
   "cell_type": "code",
   "execution_count": 49,
   "metadata": {},
   "outputs": [],
   "source": [
    "coefficients = [\n",
    "                    [ 1,  -3,  63,   4,  -2, 1],\n",
    "                    [ 1,  -5,  62,   8,  -3, 1],\n",
    "                    [ 2,  -8,  60,  13,  -4, 1],\n",
    "\n",
    "                    [ 3, -10,  58,  17,  -5, 1],\n",
    "                    [ 3, -11,  52,  26,  -8, 2],\n",
    "                    [ 2,  -9,  47,  31, -10, 3],\n",
    "                    [ 3, -11,  45,  34, -10, 3],\n",
    "\n",
    "                    [ 3, -11,  40,  40, -11, 3],\n",
    "                    [ 3, -10,  34,  45, -11, 3],\n",
    "                    [ 3, -10,  31,  47,  -9, 2],\n",
    "                    [ 2,  -8,  26,  52, -11, 3],\n",
    "\n",
    "                    [ 1,  -5,  17,  58, -10, 3],\n",
    "                    [ 1,  -4,  13,  60,  -8, 2],\n",
    "                    [ 1,  -3,   8,  62,  -5, 1],\n",
    "                    [ 1,  -2,   4,  63,  -3, 1]\n",
    "                    ]"
   ]
  },
  {
   "cell_type": "code",
   "execution_count": 45,
   "metadata": {},
   "outputs": [],
   "source": [
    "# N = 16              # Number of pixels by block\n",
    "FRAC = 15           # Number of fractional pixels for interpolation (eg: 1/4 of resolution)\n",
    "# MODE = 0            # Select MC(0) or FME(1):\n",
    "# SEARCH = 2          # [Only for MC] Select Horizontal search(0), Vertical search(1) or Full search(2)\n",
    "TAPS = 8            # Number of taps in the filter\n",
    "# I = 8               # Input size of the line \n",
    "# S = 1               # Stride=1 means that the filter will deslocate 1 by 1 pixel at the time\n",
    "\n",
    "PADDING = 2         # How much padding to add in each four sides\n",
    "\n",
    "IN_NUM = 6          # 1 line of 6 samples (6-tap)\n",
    "IN_BIT_WIDTH = 8    # Number of bits per sample\n",
    "\n",
    "OUT_NUM = 15        # There are 15 filters used to generate 1/16 precision"
   ]
  },
  {
   "cell_type": "code",
   "execution_count": 13,
   "metadata": {},
   "outputs": [],
   "source": [
    "import math\n",
    "import numpy as np\n",
    "from matplotlib import pyplot as plt"
   ]
  },
  {
   "attachments": {},
   "cell_type": "markdown",
   "metadata": {},
   "source": [
    "### Variables calculation"
   ]
  },
  {
   "attachments": {},
   "cell_type": "markdown",
   "metadata": {},
   "source": [
    "#### Input and outputs"
   ]
  },
  {
   "cell_type": "code",
   "execution_count": 48,
   "metadata": {},
   "outputs": [],
   "source": [
    "# Input size\n",
    "in_width = IN_NUM * IN_BIT_WIDTH\n",
    "\n",
    "# Input text\n",
    "in_text = \"\\tinput signed [\"+str(in_width-1)+\":0] X;\"\n",
    "\n",
    "# Output ports\n",
    "out_names = []\n",
    "for i in range(1,OUT_NUM+1):\n",
    "    if i != OUT_NUM:\n",
    "        out_names.append('\\tY'+str(i)+',')\n",
    "    else:\n",
    "        out_names.append('\\tY'+str(i))\n",
    "out_names_concat = '\\n'.join(out_names)\n",
    "\n",
    "# Output port sizes\n",
    "out_port_sizes = []\n",
    "for i in range(0,OUT_NUM):\n",
    "    out_port_sizes.append(18)\n",
    "\n",
    "# Output port modes\n",
    "out_port = []\n",
    "for i in range(1,OUT_NUM+1):\n",
    "    out_port.append('\\toutput signed ['+str(out_port_sizes[i-1])+':0] Y'+str(i)+';')\n",
    "out_port_concat = '\\n'.join(out_port)\n"
   ]
  },
  {
   "attachments": {},
   "cell_type": "markdown",
   "metadata": {},
   "source": [
    "#### Wires"
   ]
  },
  {
   "cell_type": "code",
   "execution_count": 44,
   "metadata": {},
   "outputs": [],
   "source": [
    "# Wires"
   ]
  },
  {
   "attachments": {},
   "cell_type": "markdown",
   "metadata": {},
   "source": [
    "#### Filter calculations"
   ]
  },
  {
   "cell_type": "code",
   "execution_count": null,
   "metadata": {},
   "outputs": [],
   "source": [
    "modules = []\n",
    "for t in range(0,TAPS):\n",
    "    modules[].append"
   ]
  },
  {
   "cell_type": "code",
   "execution_count": null,
   "metadata": {},
   "outputs": [],
   "source": [
    "t0_affine T0 (\n",
    "    .X      (X[7:0]),\n",
    "    .Y1     (w_t0_1),\n",
    "    ...\n",
    "    .Y15    (w_t0_1)\n",
    ");"
   ]
  },
  {
   "attachments": {},
   "cell_type": "markdown",
   "metadata": {},
   "source": [
    "### Final Verilog text"
   ]
  },
  {
   "cell_type": "code",
   "execution_count": 47,
   "metadata": {},
   "outputs": [
    {
     "name": "stdout",
     "output_type": "stream",
     "text": [
      "/*------------------------------------------------------------------------------\n",
      " * File: all_filters.v\n",
      " * Date generated: 13/02/2023\n",
      " * Date modified: 13/02/2023\n",
      " * Author: Bruna Suemi Nagai\n",
      " * Description: Concatenating all 15 filters\n",
      " *------------------------------------------------------------------------------ */\n",
      "\n",
      "module all_filters (\n",
      "        X,\n",
      "    \tY1,\n",
      "\tY2,\n",
      "\tY3,\n",
      "\tY4,\n",
      "\tY5,\n",
      "\tY6,\n",
      "\tY7,\n",
      "\tY8,\n",
      "\tY9,\n",
      "\tY10,\n",
      "\tY11,\n",
      "\tY12,\n",
      "\tY13,\n",
      "\tY14,\n",
      "\tY15\n",
      ");\n",
      "\n",
      "\n",
      "// ------------------------------------------\n",
      "// Parameters\n",
      "// ------------------------------------------\n",
      "\n",
      "    // Bit width of input data \n",
      "    parameter integer IN_SIZE = 'd8;\n",
      "\t \n",
      "\t \n",
      "// ------------------------------------------\n",
      "// Port mode declarations\n",
      "// ------------------------------------------\n",
      "\n",
      "\tinput signed [7:0] X;\n",
      "\toutput signed [18:0] Y1;\n",
      "\toutput signed [18:0] Y2;\n",
      "\toutput signed [18:0] Y3;\n",
      "\toutput signed [18:0] Y4;\n",
      "\toutput signed [18:0] Y5;\n",
      "\toutput signed [18:0] Y6;\n",
      "\toutput signed [18:0] Y7;\n",
      "\toutput signed [18:0] Y8;\n",
      "\toutput signed [18:0] Y9;\n",
      "\toutput signed [18:0] Y10;\n",
      "\toutput signed [18:0] Y11;\n",
      "\toutput signed [18:0] Y12;\n",
      "\toutput signed [18:0] Y13;\n",
      "\toutput signed [18:0] Y14;\n",
      "\toutput signed [18:0] Y15;\n",
      "\n",
      "// ------------------------------------------\n",
      "// Wires declarations\n",
      "// ------------------------------------------\n",
      "\n",
      "//  wire signed [8:0] w2;\n",
      "//  wire signed [9:0] w2_;\n",
      "\n",
      "\t \n",
      "// ------------------------------------------\n",
      "// Combinational logic\n",
      "// ------------------------------------------\n",
      "\n",
      "//  assign w1 = X;\n",
      "//  assign w4 = w1 << 2;\n",
      "//  assign w3 = w4 - w1;\n",
      "//  assign w5 = w1 + w4;\n",
      "//  assign w2_ = -1 * w2;\n",
      "\n",
      "  \n",
      "// ------------------------------------------\n",
      "// Outputs\n",
      "// ------------------------------------------\n",
      "\n",
      "//  assign Y1 = w2_;\n",
      "\n",
      "\n",
      "endmodule //all_filters\n",
      "\n",
      "\n"
     ]
    }
   ],
   "source": [
    "verilog = '''/*------------------------------------------------------------------------------\n",
    " * File: all_filters.v\n",
    " * Date generated: 13/02/2023\n",
    " * Date modified: 13/02/2023\n",
    " * Author: Bruna Suemi Nagai\n",
    " * Description: Concatenating all 15 filters\n",
    " *------------------------------------------------------------------------------ */\n",
    "\n",
    "module all_filters (\n",
    "        X,\n",
    "    '''+out_names_concat+'''\n",
    ");\n",
    "\n",
    "\n",
    "// ------------------------------------------\n",
    "// Parameters\n",
    "// ------------------------------------------\n",
    "\n",
    "    // Bit width of input data \n",
    "    parameter integer IN_SIZE = 'd8;\n",
    "\t \n",
    "\t \n",
    "// ------------------------------------------\n",
    "// Port mode declarations\n",
    "// ------------------------------------------\n",
    "\n",
    "'''+in_text+'''\n",
    "'''+out_port_concat+'''\n",
    "\n",
    "// ------------------------------------------\n",
    "// Wires declarations\n",
    "// ------------------------------------------\n",
    "\n",
    "//  wire signed [8:0] w2;\n",
    "//  wire signed [9:0] w2_;\n",
    "\n",
    "\t \n",
    "// ------------------------------------------\n",
    "// Combinational logic\n",
    "// ------------------------------------------\n",
    "\n",
    "//  assign w1 = X;\n",
    "//  assign w4 = w1 << 2;\n",
    "//  assign w3 = w4 - w1;\n",
    "//  assign w5 = w1 + w4;\n",
    "//  assign w2_ = -1 * w2;\n",
    "\n",
    "  \n",
    "// ------------------------------------------\n",
    "// Outputs\n",
    "// ------------------------------------------\n",
    "\n",
    "//  assign Y1 = w2_;\n",
    "\n",
    "\n",
    "endmodule //all_filters\n",
    "\n",
    "'''\n",
    "print(verilog)"
   ]
  },
  {
   "cell_type": "code",
   "execution_count": null,
   "metadata": {},
   "outputs": [],
   "source": []
  }
 ],
 "metadata": {
  "kernelspec": {
   "display_name": "Python 3",
   "language": "python",
   "name": "python3"
  },
  "language_info": {
   "codemirror_mode": {
    "name": "ipython",
    "version": 3
   },
   "file_extension": ".py",
   "mimetype": "text/x-python",
   "name": "python",
   "nbconvert_exporter": "python",
   "pygments_lexer": "ipython3",
   "version": "3.10.5"
  },
  "orig_nbformat": 4,
  "vscode": {
   "interpreter": {
    "hash": "4d9c694c8aec39b264fb08e5e28ee8a55a7e14ae91bb73d0b06a9e720b258e83"
   }
  }
 },
 "nbformat": 4,
 "nbformat_minor": 2
}
