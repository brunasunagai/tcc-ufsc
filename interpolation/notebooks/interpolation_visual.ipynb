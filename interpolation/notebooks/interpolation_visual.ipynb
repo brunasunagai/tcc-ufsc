{
 "cells": [
  {
   "attachments": {},
   "cell_type": "markdown",
   "metadata": {},
   "source": [
    "# Interpolation visualizer"
   ]
  },
  {
   "attachments": {},
   "cell_type": "markdown",
   "metadata": {},
   "source": [
    "### Parameters"
   ]
  },
  {
   "cell_type": "code",
   "execution_count": 2,
   "metadata": {},
   "outputs": [],
   "source": [
    "N = 16      # Number of pixels by block\n",
    "FRAC = 4    # Number of fractional pixels for interpolation (eg: 1/4 of resolution)\n",
    "MODE = 0    # Select MC(0) or FME(1):\n",
    "SEARCH = 2  # [Only for MC] Select Horizontal search(0), Vertical search(1) or Full search(2)\n",
    "TAPS = 8    # Number of taps in the filter\n",
    "I = 8       # Input size of the line \n",
    "S = 1       # Stride=1 means that the filter will deslocate 1 by 1 pixel at the time"
   ]
  },
  {
   "attachments": {},
   "cell_type": "markdown",
   "metadata": {},
   "source": [
    "### Filter coefficients"
   ]
  },
  {
   "cell_type": "code",
   "execution_count": 3,
   "metadata": {},
   "outputs": [],
   "source": [
    "# Variable named just like in VTM\n",
    "# const TFilterCoeff InterpolationFilter::m_affineLumaFilter[LUMA_INTERPOLATION_FILTER_SUB_SAMPLE_POSITIONS][NTAPS_LUMA] =\n",
    "m_affineLumaFilter = [\n",
    "                    [ 0,   0,  64,   0,   0, 0, 0, 0 ],\n",
    "                    [ 1,  -3,  63,   4,  -2, 1, 0, 0 ],\n",
    "                    [ 1,  -5,  62,   8,  -3, 1, 0, 0 ],\n",
    "                    [ 2,  -8,  60,  13,  -4, 1, 0, 0 ],\n",
    "\n",
    "                    [ 3, -10,  58,  17,  -5, 1, 0, 0 ],\n",
    "                    [ 3, -11,  52,  26,  -8, 2, 0, 0 ],\n",
    "                    [ 2,  -9,  47,  31, -10, 3, 0, 0 ],\n",
    "                    [ 3, -11,  45,  34, -10, 3, 0, 0 ],\n",
    "\n",
    "                    [ 3, -11,  40,  40, -11, 3, 0, 0 ],\n",
    "                    [ 3, -10,  34,  45, -11, 3, 0, 0 ],\n",
    "                    [ 3, -10,  31,  47,  -9, 2, 0, 0 ],\n",
    "                    [ 2,  -8,  26,  52, -11, 3, 0, 0 ],\n",
    "\n",
    "                    [ 1,  -5,  17,  58, -10, 3, 0, 0 ],\n",
    "                    [ 1,  -4,  13,  60,  -8, 2, 0, 0 ],\n",
    "                    [ 1,  -3,   8,  62,  -5, 1, 0, 0 ],\n",
    "                    [ 1,  -2,   4,  63,  -3, 1, 0, 0 ]\n",
    "                    ]"
   ]
  },
  {
   "attachments": {},
   "cell_type": "markdown",
   "metadata": {},
   "source": [
    "#### Other filters used for interpolation"
   ]
  },
  {
   "cell_type": "code",
   "execution_count": 4,
   "metadata": {},
   "outputs": [],
   "source": [
    "# const TFilterCoeff InterpolationFilter::m_lumaFilter[LUMA_INTERPOLATION_FILTER_SUB_SAMPLE_POSITIONS][NTAPS_LUMA]\n",
    "m_lumaFilter = [\n",
    "  [  0, 0,   0, 64,  0,   0,  0,  0 ],\n",
    "  [  0, 1,  -3, 63,  4,  -2,  1,  0 ],\n",
    "  [ -1, 2,  -5, 62,  8,  -3,  1,  0 ],\n",
    "  [ -1, 3,  -8, 60, 13,  -4,  1,  0 ],\n",
    "  [ -1, 4, -10, 58, 17,  -5,  1,  0 ],\n",
    "  [ -1, 4, -11, 52, 26,  -8,  3, -1 ],\n",
    "  [ -1, 3,  -9, 47, 31, -10,  4, -1 ],\n",
    "  [ -1, 4, -11, 45, 34, -10,  4, -1 ],\n",
    "  [ -1, 4, -11, 40, 40, -11,  4, -1 ],\n",
    "  [ -1, 4, -10, 34, 45, -11,  4, -1 ],\n",
    "  [ -1, 4, -10, 31, 47,  -9,  3, -1 ],\n",
    "  [ -1, 3,  -8, 26, 52, -11,  4, -1 ],\n",
    "  [  0, 1,  -5, 17, 58, -10,  4, -1 ],\n",
    "  [  0, 1,  -4, 13, 60,  -8,  3, -1 ],\n",
    "  [  0, 1,  -3,  8, 62,  -5,  2, -1 ],\n",
    "  [  0, 1,  -2,  4, 63,  -3,  1,  0 ]\n",
    "]\n",
    "\n",
    "# const TFilterCoeff InterpolationFilter::m_lumaFilterRPR1[LUMA_INTERPOLATION_FILTER_SUB_SAMPLE_POSITIONS][NTAPS_LUMA] =\n",
    "m_lumaFilterRPR1 = [\n",
    "  [ -1, -5, 17, 42, 17, -5, -1,  0 ],\n",
    "  [  0, -5, 15, 41, 19, -5, -1,  0 ],\n",
    "  [  0, -5, 13, 40, 21, -4, -1,  0 ],\n",
    "  [  0, -5, 11, 39, 24, -4, -2,  1 ],\n",
    "  [  0, -5,  9, 38, 26, -3, -2,  1 ],\n",
    "  [  0, -5,  7, 38, 28, -2, -3,  1 ],\n",
    "  [  1, -5,  5, 36, 30, -1, -3,  1 ],\n",
    "  [  1, -4,  3, 35, 32,  0, -4,  1 ],\n",
    "  [  1, -4,  2, 33, 33,  2, -4,  1 ],\n",
    "  [  1, -4,  0, 32, 35,  3, -4,  1 ],\n",
    "  [  1, -3, -1, 30, 36,  5, -5,  1 ],\n",
    "  [  1, -3, -2, 28, 38,  7, -5,  0 ],\n",
    "  [  1, -2, -3, 26, 38,  9, -5,  0 ],\n",
    "  [  1, -2, -4, 24, 39, 11, -5,  0 ],\n",
    "  [  0, -1, -4, 21, 40, 13, -5,  0 ],\n",
    "  [  0, -1, -5, 19, 41, 15, -5,  0 ]\n",
    "]\n",
    "\n",
    "# const TFilterCoeff InterpolationFilter::m_lumaFilterRPR2[LUMA_INTERPOLATION_FILTER_SUB_SAMPLE_POSITIONS][NTAPS_LUMA] =\n",
    "m_lumaFilterRPR2 = [\n",
    "  [ -4,  2, 20, 28, 20,  2, -4,  0 ],\n",
    "  [ -4,  0, 19, 29, 21,  5, -4, -2 ],\n",
    "  [ -4, -1, 18, 29, 22,  6, -4, -2 ],\n",
    "  [ -4, -1, 16, 29, 23,  7, -4, -2 ],\n",
    "  [ -4, -1, 16, 28, 24,  7, -4, -2 ],\n",
    "  [ -4, -1, 14, 28, 25,  8, -4, -2 ],\n",
    "  [ -3, -3, 14, 27, 26,  9, -3, -3 ],\n",
    "  [ -3, -1, 12, 28, 25, 10, -4, -3 ],\n",
    "  [ -3, -3, 11, 27, 27, 11, -3, -3 ],\n",
    "  [ -3, -4, 10, 25, 28, 12, -1, -3 ],\n",
    "  [ -3, -3,  9, 26, 27, 14, -3, -3 ],\n",
    "  [ -2, -4,  8, 25, 28, 14, -1, -4 ],\n",
    "  [ -2, -4,  7, 24, 28, 16, -1, -4 ],\n",
    "  [ -2, -4,  7, 23, 29, 16, -1, -4 ],\n",
    "  [ -2, -4,  6, 22, 29, 18, -1, -4 ],\n",
    "  [ -2, -4,  5, 21, 29, 19,  0, -4 ]\n",
    "]\n",
    "\n",
    "# const TFilterCoeff InterpolationFilter::m_affineLumaFilterRPR1[LUMA_INTERPOLATION_FILTER_SUB_SAMPLE_POSITIONS][NTAPS_LUMA] =\n",
    "m_affineLumaFilterRPR1 = [\n",
    "  [  -6, 17, 42, 17, -5, -1,  0, 0 ],\n",
    "  [  -5, 15, 41, 19, -5, -1,  0, 0 ],\n",
    "  [  -5, 13, 40, 21, -4, -1,  0, 0 ],\n",
    "  [  -5, 11, 39, 24, -4, -1,  0, 0 ],\n",
    "  [  -5,  9, 38, 26, -3, -1,  0, 0 ],\n",
    "  [  -5,  7, 38, 28, -2, -2,  0, 0 ],\n",
    "  [  -4,  5, 36, 30, -1, -2,  0, 0 ],\n",
    "  [  -3,  3, 35, 32,  0, -3,  0, 0 ],\n",
    "  [  -3,  2, 33, 33,  2, -3,  0, 0 ],\n",
    "  [  -3,  0, 32, 35,  3, -3,  0, 0 ],\n",
    "  [  -2, -1, 30, 36,  5, -4,  0, 0 ],\n",
    "  [  -2, -2, 28, 38,  7, -5,  0, 0 ],\n",
    "  [  -1, -3, 26, 38,  9, -5,  0, 0 ],\n",
    "  [  -1, -4, 24, 39, 11, -5,  0, 0 ],\n",
    "  [  -1, -4, 21, 40, 13, -5,  0, 0 ],\n",
    "  [  -1, -5, 19, 41, 15, -5,  0, 0 ]\n",
    "]\n",
    "\n",
    "# const TFilterCoeff InterpolationFilter::m_affineLumaFilterRPR2[LUMA_INTERPOLATION_FILTER_SUB_SAMPLE_POSITIONS][NTAPS_LUMA] =\n",
    "m_affineLumaFilterRPR2 = [\n",
    "  [  -2, 20, 28, 20,  2, -4,  0, 0 ],\n",
    "  [  -4, 19, 29, 21,  5, -6,  0, 0 ],\n",
    "  [  -5, 18, 29, 22,  6, -6,  0, 0 ],\n",
    "  [  -5, 16, 29, 23,  7, -6,  0, 0 ],\n",
    "  [  -5, 16, 28, 24,  7, -6,  0, 0 ],\n",
    "  [  -5, 14, 28, 25,  8, -6,  0, 0 ],\n",
    "  [  -6, 14, 27, 26,  9, -6,  0, 0 ],\n",
    "  [  -4, 12, 28, 25, 10, -7,  0, 0 ],\n",
    "  [  -6, 11, 27, 27, 11, -6,  0, 0 ],\n",
    "  [  -7, 10, 25, 28, 12, -4,  0, 0 ],\n",
    "  [  -6,  9, 26, 27, 14, -6,  0, 0 ],\n",
    "  [  -6,  8, 25, 28, 14, -5,  0, 0 ],\n",
    "  [  -6,  7, 24, 28, 16, -5,  0, 0 ],\n",
    "  [  -6,  7, 23, 29, 16, -5,  0, 0 ],\n",
    "  [  -6,  6, 22, 29, 18, -5,  0, 0 ],\n",
    "  [  -6,  5, 21, 29, 19, -4,  0, 0 ]\n",
    "]\n",
    "\n",
    "# const TFilterCoeff InterpolationFilter::m_lumaAltHpelIFilter[NTAPS_LUMA] = \n",
    "m_lumaAltHpelIFilter = [  0, 3, 9, 20, 20, 9, 3, 0 ]\n",
    "\n",
    "# const TFilterCoeff InterpolationFilter::m_chromaFilter[CHROMA_INTERPOLATION_FILTER_SUB_SAMPLE_POSITIONS][NTAPS_CHROMA] =\n",
    "m_chromaFilter = [\n",
    "  [  0, 64,  0,  0 ],\n",
    "  [ -1, 63,  2,  0 ],\n",
    "  [ -2, 62,  4,  0 ],\n",
    "  [ -2, 60,  7, -1 ],\n",
    "  [ -2, 58, 10, -2 ],\n",
    "  [ -3, 57, 12, -2 ],\n",
    "  [ -4, 56, 14, -2 ],\n",
    "  [ -4, 55, 15, -2 ],\n",
    "  [ -4, 54, 16, -2 ],\n",
    "  [ -5, 53, 18, -2 ],\n",
    "  [ -6, 52, 20, -2 ],\n",
    "  [ -6, 49, 24, -3 ],\n",
    "  [ -6, 46, 28, -4 ],\n",
    "  [ -5, 44, 29, -4 ],\n",
    "  [ -4, 42, 30, -4 ],\n",
    "  [ -4, 39, 33, -4 ],\n",
    "  [ -4, 36, 36, -4 ],\n",
    "  [ -4, 33, 39, -4 ],\n",
    "  [ -4, 30, 42, -4 ],\n",
    "  [ -4, 29, 44, -5 ],\n",
    "  [ -4, 28, 46, -6 ],\n",
    "  [ -3, 24, 49, -6 ],\n",
    "  [ -2, 20, 52, -6 ],\n",
    "  [ -2, 18, 53, -5 ],\n",
    "  [ -2, 16, 54, -4 ],\n",
    "  [ -2, 15, 55, -4 ],\n",
    "  [ -2, 14, 56, -4 ],\n",
    "  [ -2, 12, 57, -3 ],\n",
    "  [ -2, 10, 58, -2 ],\n",
    "  [ -1,  7, 60, -2 ],\n",
    "  [  0,  4, 62, -2 ],\n",
    "  [  0,  2, 63, -1 ],\n",
    "]\n",
    "\n",
    "# const TFilterCoeff InterpolationFilter::m_chromaFilterRPR1[CHROMA_INTERPOLATION_FILTER_SUB_SAMPLE_POSITIONS][NTAPS_CHROMA] =\n",
    "m_chromaFilterRPR1 = [\n",
    "  [ 12, 40, 12,  0 ],\n",
    "  [ 11, 40, 13,  0 ],\n",
    "  [ 10, 40, 15, -1 ],\n",
    "  [  9, 40, 16, -1 ],\n",
    "  [  8, 40, 17, -1 ],\n",
    "  [  8, 39, 18, -1 ],\n",
    "  [  7, 39, 19, -1 ],\n",
    "  [  6, 38, 21, -1 ],\n",
    "  [  5, 38, 22, -1 ],\n",
    "  [  4, 38, 23, -1 ],\n",
    "  [  4, 37, 24, -1 ],\n",
    "  [  3, 36, 25,  0 ],\n",
    "  [  3, 35, 26,  0 ],\n",
    "  [  2, 34, 28,  0 ],\n",
    "  [  2, 33, 29,  0 ],\n",
    "  [  1, 33, 30,  0 ],\n",
    "  [  1, 31, 31,  1 ],\n",
    "  [  0, 30, 33,  1 ],\n",
    "  [  0, 29, 33,  2 ],\n",
    "  [  0, 28, 34,  2 ],\n",
    "  [  0, 26, 35,  3 ],\n",
    "  [  0, 25, 36,  3 ],\n",
    "  [ -1, 24, 37,  4 ],\n",
    "  [ -1, 23, 38,  4 ],\n",
    "  [ -1, 22, 38,  5 ],\n",
    "  [ -1, 21, 38,  6 ],\n",
    "  [ -1, 19, 39,  7 ],\n",
    "  [ -1, 18, 39,  8 ],\n",
    "  [ -1, 17, 40,  8 ],\n",
    "  [ -1, 16, 40,  9 ],\n",
    "  [ -1, 15, 40, 10 ],\n",
    "  [  0, 13, 40, 11 ],\n",
    "]\n",
    "\n",
    "# const TFilterCoeff InterpolationFilter::m_chromaFilterRPR2[CHROMA_INTERPOLATION_FILTER_SUB_SAMPLE_POSITIONS][NTAPS_CHROMA] =\n",
    "m_chromaFilterRPR2 = [\n",
    "  [ 17, 30, 17,  0 ],\n",
    "  [ 17, 30, 18, -1 ],\n",
    "  [ 16, 30, 18,  0 ],\n",
    "  [ 16, 30, 18,  0 ],\n",
    "  [ 15, 30, 18,  1 ],\n",
    "  [ 14, 30, 18,  2 ],\n",
    "  [ 13, 29, 19,  3 ],\n",
    "  [ 13, 29, 19,  3 ],\n",
    "  [ 12, 29, 20,  3 ],\n",
    "  [ 11, 28, 21,  4 ],\n",
    "  [ 10, 28, 22,  4 ],\n",
    "  [ 10, 27, 22,  5 ],\n",
    "  [  9, 27, 23,  5 ],\n",
    "  [  9, 26, 24,  5 ],\n",
    "  [  8, 26, 24,  6 ],\n",
    "  [  7, 26, 25,  6 ],\n",
    "  [  7, 25, 25,  7 ],\n",
    "  [  6, 25, 26,  7 ],\n",
    "  [  6, 24, 26,  8 ],\n",
    "  [  5, 24, 26,  9 ],\n",
    "  [  5, 23, 27,  9 ],\n",
    "  [  5, 22, 27, 10 ],\n",
    "  [  4, 22, 28, 10 ],\n",
    "  [  4, 21, 28, 11 ],\n",
    "  [  3, 20, 29, 12 ],\n",
    "  [  3, 19, 29, 13 ],\n",
    "  [  3, 19, 29, 13 ],\n",
    "  [  2, 18, 30, 14 ],\n",
    "  [  1, 18, 30, 15 ],\n",
    "  [  0, 18, 30, 16 ],\n",
    "  [  0, 18, 30, 16 ],\n",
    "  [ -1, 18, 30, 17 ]\n",
    "]\n",
    "\n",
    "# const TFilterCoeff InterpolationFilter::m_bilinearFilterPrec4[LUMA_INTERPOLATION_FILTER_SUB_SAMPLE_POSITIONS][NTAPS_BILINEAR] =\n",
    "m_bilinearFilterPrec4 = [\n",
    "  [ 16,  0, ],\n",
    "  [ 15,  1, ],\n",
    "  [ 14,  2, ],\n",
    "  [ 13, 3, ],\n",
    "  [ 12, 4, ],\n",
    "  [ 11, 5, ],\n",
    "  [ 10, 6, ],\n",
    "  [ 9, 7, ],\n",
    "  [ 8, 8, ],\n",
    "  [ 7, 9, ],\n",
    "  [ 6, 10, ],\n",
    "  [ 5, 11, ],\n",
    "  [ 4, 12, ],\n",
    "  [ 3, 13, ],\n",
    "  [ 2, 14, ],\n",
    "  [ 1, 15, ]\n",
    "]"
   ]
  },
  {
   "attachments": {},
   "cell_type": "markdown",
   "metadata": {},
   "source": [
    "### Imports"
   ]
  },
  {
   "cell_type": "code",
   "execution_count": 13,
   "metadata": {},
   "outputs": [],
   "source": [
    "import math\n",
    "import numpy as np\n",
    "from matplotlib import pyplot as plt\n",
    "from matplotlib.colors import ListedColormap"
   ]
  },
  {
   "attachments": {},
   "cell_type": "markdown",
   "metadata": {},
   "source": [
    "### Calculated parameters"
   ]
  },
  {
   "cell_type": "code",
   "execution_count": 6,
   "metadata": {},
   "outputs": [
    {
     "name": "stdout",
     "output_type": "stream",
     "text": [
      "Padding =  3\n",
      "Integer =  3.0\n"
     ]
    }
   ],
   "source": [
    "# Calculating padding\n",
    "PADDING = math.ceil((TAPS - 1) / 2) - 1\n",
    "\n",
    "# Calculating one line size (considering a squared-block)\n",
    "LINE = math.sqrt(N)\n",
    "\n",
    "# Ensure that it results in an integer:\n",
    "inteiro = (I - TAPS + 2*PADDING) / (S + 1)\n",
    "\n",
    "print(\"Padding = \", PADDING)\n",
    "print(\"Integer = \", inteiro)"
   ]
  },
  {
   "attachments": {},
   "cell_type": "markdown",
   "metadata": {},
   "source": [
    "### Basic setup"
   ]
  },
  {
   "cell_type": "code",
   "execution_count": 7,
   "metadata": {},
   "outputs": [
    {
     "name": "stdout",
     "output_type": "stream",
     "text": [
      "Matrix size:  19 x 19\n"
     ]
    },
    {
     "data": {
      "image/png": "[encoded data removed]",
      "text/plain": [
       "<Figure size 504x504 with 1 Axes>"
      ]
     },
     "metadata": {
      "needs_background": "light"
     },
     "output_type": "display_data"
    }
   ],
   "source": [
    "# Size of the ploted image \n",
    "plt.rcParams[\"figure.figsize\"]=[7,7] \n",
    "plt.rcParams[\"figure.autolayout\"]=True\n",
    "fig, ax = plt.subplots()\n",
    "\n",
    "# Size of the matrix max_val x max_val\n",
    "max_val = int(LINE + 2*PADDING + (FRAC-1)*(LINE-1))   \n",
    "\n",
    "# MATRIX[HORIZONTAL, VERTICAL]\n",
    "matrix = np.zeros((max_val, max_val), dtype=np.uint8)\n",
    "\n",
    "# The original pixels from the input block\n",
    "for w in range(0,max_val-PADDING,FRAC):\n",
    "    for h in range(0,max_val-PADDING,FRAC):\n",
    "        matrix[PADDING+w, PADDING+h] = 4\n",
    "\n",
    "# Horizontally interpolated pixels (1st pass)\n",
    "for w in range(0,max_val-PADDING,FRAC):             # Loop to run between lines\n",
    "    # for h in range(0,max_val-PADDING,FRAC):       # @bnagai: for padding only in left-superior sides\n",
    "    for h in range(0,max_val-PADDING-FRAC,FRAC):    # Loop to run between columns        \n",
    "        for f in range(0,FRAC-1,1):                 # Loop to print every padding space between integers\n",
    "            matrix[PADDING+w, PADDING+h+1+f] = 3\n",
    "\n",
    "# Vertically interpolated pixels (2nd pass)\n",
    "for w in range(0,max_val-PADDING-FRAC,FRAC):        # Loop to run between lines\n",
    "# for w in range(0,max_val-PADDING-FRAC,FRAC):      # @bnagai: for padding only in left-superior sides\n",
    "    for h in range(0,max_val-PADDING,FRAC):         # Loop to run between columns\n",
    "        for f in range(0,FRAC-1,1):                 # Loop to print every padding space between integers\n",
    "            matrix[PADDING+1+w+f,PADDING+h] = 2\n",
    "\n",
    "# Vertical and dependent interpolated pixels (2nd pass)\n",
    "for w in range(0,max_val-PADDING-FRAC,FRAC):        # Loop to run between lines\n",
    "    for h in range(1,max_val-PADDING-FRAC,1):       # Loop to run between columns\n",
    "        if h%FRAC != 0:                             # Check if it isnt already filled\n",
    "            for f in range(0,FRAC-1,1):             # Loop to print every padding space between integers\n",
    "                matrix[PADDING+1+w+f,PADDING+h] = 1\n",
    "\n",
    "# Define the colors of the pixels \n",
    "ax.matshow(matrix, cmap='Greens')\n",
    "\n",
    "# Write the number of each pixel\n",
    "for i in range(max_val):\n",
    "    for j in range(max_val):\n",
    "        c = matrix[j,i]\n",
    "        ax.text(i, j, str(c), va='center', ha='center')\n",
    "\n",
    "# Print the matriz\n",
    "print('Matrix size: ', max_val, 'x', max_val)\n",
    "plt.show()"
   ]
  },
  {
   "attachments": {},
   "cell_type": "markdown",
   "metadata": {},
   "source": [
    "### Trying interpolation with given integer block values"
   ]
  },
  {
   "cell_type": "code",
   "execution_count": 19,
   "metadata": {},
   "outputs": [
    {
     "name": "stdout",
     "output_type": "stream",
     "text": [
      "Matrix size:  19 x 19\n"
     ]
    },
    {
     "data": {
      "image/png": "[encoded data removed]",
      "text/plain": [
       "<Figure size 504x504 with 1 Axes>"
      ]
     },
     "metadata": {
      "needs_background": "light"
     },
     "output_type": "display_data"
    }
   ],
   "source": [
    "# Size of the ploted image \n",
    "plt.rcParams[\"figure.figsize\"]=[7,7] \n",
    "plt.rcParams[\"figure.autolayout\"]=True\n",
    "fig, mx = plt.subplots()\n",
    "\n",
    "# Size of matrix size_mx x size_mx\n",
    "size_mx = int(LINE + 2*PADDING + (FRAC-1)*(LINE-1))   \n",
    "\n",
    "# MATRIX[HORIZONTAL, VERTICAL]\n",
    "trial_mx = np.zeros((size_mx, size_mx), dtype=np.uint8)\n",
    "\n",
    "# The original pixels from the input block\n",
    "int_block = 1\n",
    "for w in range(0,size_mx-PADDING,FRAC):\n",
    "    for h in range(0,size_mx-PADDING,FRAC):\n",
    "        trial_mx[PADDING+w, PADDING+h] = int_block\n",
    "        int_block = int_block + 1\n",
    "\n",
    "# Horizontally interpolated pixels (1st pass)\n",
    "# for w in range(0,size_mx-PADDING,FRAC):             # Loop to run between lines\n",
    "#     # for h in range(0,size_mx-PADDING,FRAC):       # @bnagai: for padding only in left-superior sides\n",
    "#     for h in range(0,size_mx-PADDING-FRAC,FRAC):    # Loop to run between columns        \n",
    "#         for f in range(0,FRAC-1,1):                 # Loop to print every padding space between integers\n",
    "#             trial_mx[PADDING+w, PADDING+h+1+f] = 3\n",
    "\n",
    "# Vertically interpolated pixels (2nd pass)\n",
    "# for w in range(0,size_mx-PADDING-FRAC,FRAC):        # Loop to run between lines\n",
    "# # for w in range(0,size_mx-PADDING-FRAC,FRAC):      # @bnagai: for padding only in left-superior sides\n",
    "#     for h in range(0,size_mx-PADDING,FRAC):         # Loop to run between columns\n",
    "#         for f in range(0,FRAC-1,1):                 # Loop to print every padding space between integers\n",
    "#             trial_mx[PADDING+1+w+f,PADDING+h] = 2\n",
    "\n",
    "# Vertical and dependent interpolated pixels (2nd pass)\n",
    "# for w in range(0,size_mx-PADDING-FRAC,FRAC):        # Loop to run between lines\n",
    "#     for h in range(1,size_mx-PADDING-FRAC,1):       # Loop to run between columns\n",
    "#         if h%FRAC != 0:                             # Check if it isnt already filled\n",
    "#             for f in range(0,FRAC-1,1):             # Loop to print every padding space between integers\n",
    "#                 trial_mx[PADDING+1+w+f,PADDING+h] = 1\n",
    "\n",
    "# Defining color map \n",
    "cmap_mx = ListedColormap(['w','r','r','r','r','r','r','r','r','r','r','r','r','r','r','r','r'])\n",
    "\n",
    "# Define the colors of the pixels \n",
    "mx.matshow(trial_mx, cmap=cmap_mx)\n",
    "\n",
    "# Write the number of each pixel\n",
    "for i in range(size_mx):\n",
    "    for j in range(size_mx):\n",
    "        c = trial_mx[j,i]\n",
    "        mx.text(i, j, str(c), va='center', ha='center')\n",
    "\n",
    "# Print the matriz\n",
    "print('Matrix size: ', size_mx, 'x', size_mx)\n",
    "plt.show()"
   ]
  },
  {
   "attachments": {},
   "cell_type": "markdown",
   "metadata": {},
   "source": [
    "#### Legend"
   ]
  },
  {
   "attachments": {},
   "cell_type": "markdown",
   "metadata": {},
   "source": [
    " 0 = Padding\n",
    " \n",
    " 4 = Original pixels from block \n",
    "\n",
    " 3 = Horizontaly generated pixels in 1st pass\n",
    "\n",
    " 2 = Verticaly generated pixels in 2nd pass\n",
    " \n",
    " 1 = Dependent verticaly generated pixels in 2nd pass"
   ]
  },
  {
   "attachments": {},
   "cell_type": "markdown",
   "metadata": {},
   "source": [
    "supported values are 'Accent', 'Accent_r', 'Blues', 'Blues_r', 'BrBG', 'BrBG_r', 'BuGn', 'BuGn_r', 'BuPu', 'BuPu_r', 'CMRmap', 'CMRmap_r', 'Dark2', 'Dark2_r', 'GnBu', 'GnBu_r', 'Greens', 'Greens_r', 'Greys', 'Greys_r', 'OrRd', 'OrRd_r', 'Oranges', 'Oranges_r', 'PRGn', 'PRGn_r', 'Paired', 'Paired_r', 'Pastel1', 'Pastel1_r', 'Pastel2', 'Pastel2_r', 'PiYG', 'PiYG_r', 'PuBu', 'PuBuGn', 'PuBuGn_r', 'PuBu_r', 'PuOr', 'PuOr_r', 'PuRd', 'PuRd_r', 'Purples', 'Purples_r', 'RdBu', 'RdBu_r', 'RdGy', 'RdGy_r', 'RdPu', 'RdPu_r', 'RdYlBu', 'RdYlBu_r', 'RdYlGn', 'RdYlGn_r', 'Reds', 'Reds_r', 'Set1', 'Set1_r', 'Set2', 'Set2_r', 'Set3', 'Set3_r', 'Spectral', 'Spectral_r', 'Wistia', 'Wistia_r', 'YlGn', 'YlGnBu', 'YlGnBu_r', 'YlGn_r', 'YlOrBr', 'YlOrBr_r', 'YlOrRd', 'YlOrRd_r', 'afmhot', 'afmhot_r', 'autumn', 'autumn_r', 'binary', 'binary_r', 'bone', 'bone_r', 'brg', 'brg_r', 'bwr', 'bwr_r', 'cividis', 'cividis_r', 'cool', 'cool_r', 'coolwarm', 'coolwarm_r', 'copper', 'copper_r', 'cubehelix', 'cubehelix_r', 'flag', 'flag_r', 'gist_earth', 'gist_earth_r', 'gist_gray', 'gist_gray_r', 'gist_heat', 'gist_heat_r', 'gist_ncar', 'gist_ncar_r', 'gist_rainbow', 'gist_rainbow_r', 'gist_stern', 'gist_stern_r', 'gist_yarg', 'gist_yarg_r', 'gnuplot', 'gnuplot2', 'gnuplot2_r', 'gnuplot_r', 'gray', 'gray_r', 'hot', 'hot_r', 'hsv', 'hsv_r', 'inferno', 'inferno_r', 'jet', 'jet_r', 'magma', 'magma_r', 'nipy_spectral', 'nipy_spectral_r', 'ocean', 'ocean_r', 'pink', 'pink_r', 'plasma', 'plasma_r', 'prism', 'prism_r', 'rainbow', 'rainbow_r', 'seismic', \n",
    "'seismic_r', 'spring', 'spring_r', 'summer', 'summer_r', 'tab10', 'tab10_r', 'tab20', 'tab20_r', 'tab20b', 'tab20b_r', 'tab20c', 'tab20c_r', 'terrain', 'terrain_r', 'turbo', 'turbo_r', 'twilight', 'twilight_r', 'twilight_shifted', 'twilight_shifted_r', 'viridis', 'viridis_r', 'winter', 'winter_r'"
   ]
  },
  {
   "attachments": {},
   "cell_type": "markdown",
   "metadata": {},
   "source": [
    "## Motion Compensation (MC)"
   ]
  },
  {
   "attachments": {},
   "cell_type": "markdown",
   "metadata": {},
   "source": [
    "X and Y are the vectors generated for affine transformation.\n",
    "\n",
    "Their format are fixed point ?"
   ]
  },
  {
   "attachments": {},
   "cell_type": "markdown",
   "metadata": {},
   "source": [
    "#### First case: X and Y components are integers"
   ]
  },
  {
   "cell_type": "code",
   "execution_count": 9,
   "metadata": {},
   "outputs": [],
   "source": [
    "# Nothing to do, just foward the input"
   ]
  },
  {
   "attachments": {},
   "cell_type": "markdown",
   "metadata": {},
   "source": [
    "#### Second case: X or Y component is fractional"
   ]
  },
  {
   "cell_type": "code",
   "execution_count": 10,
   "metadata": {},
   "outputs": [],
   "source": [
    "# Second test"
   ]
  },
  {
   "attachments": {},
   "cell_type": "markdown",
   "metadata": {},
   "source": [
    "#### Third case: X and Y components are fractional"
   ]
  },
  {
   "cell_type": "code",
   "execution_count": null,
   "metadata": {},
   "outputs": [],
   "source": []
  },
  {
   "attachments": {},
   "cell_type": "markdown",
   "metadata": {},
   "source": [
    "## Fractional Motion Estimation (FME)"
   ]
  },
  {
   "cell_type": "markdown",
   "metadata": {},
   "source": []
  }
 ],
 "metadata": {
  "kernelspec": {
   "display_name": "Python 3",
   "language": "python",
   "name": "python3"
  },
  "language_info": {
   "codemirror_mode": {
    "name": "ipython",
    "version": 3
   },
   "file_extension": ".py",
   "mimetype": "text/x-python",
   "name": "python",
   "nbconvert_exporter": "python",
   "pygments_lexer": "ipython3",
   "version": "3.10.5"
  },
  "orig_nbformat": 4,
  "vscode": {
   "interpreter": {
    "hash": "4d9c694c8aec39b264fb08e5e28ee8a55a7e14ae91bb73d0b06a9e720b258e83"
   }
  }
 },
 "nbformat": 4,
 "nbformat_minor": 2
}
