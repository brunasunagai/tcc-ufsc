{
 "cells": [
  {
   "cell_type": "markdown",
   "metadata": {},
   "source": [
    "# Gerando vetores affine"
   ]
  },
  {
   "cell_type": "markdown",
   "metadata": {},
   "source": [
    "## Passo a passo inicial"
   ]
  },
  {
   "cell_type": "code",
   "execution_count": 31,
   "metadata": {},
   "outputs": [],
   "source": [
    "from PIL import Image\n",
    "import numpy as np\n",
    "\n",
    "w, h = 512, 512\n",
    "data = np.zeros((h, w, 3), dtype=np.uint8)\n",
    "data[0:256, 0:256] = [255, 0, 0] # red patch in upper left\n",
    "img = Image.fromarray(data, 'RGB')\n",
    "#img.save('my.png')\n",
    "#img.show()"
   ]
  },
  {
   "cell_type": "code",
   "execution_count": 32,
   "metadata": {},
   "outputs": [
    {
     "data": {
      "image/png": "[encoded data removed]",
      "text/plain": [
       "<Figure size 432x288 with 1 Axes>"
      ]
     },
     "metadata": {
      "needs_background": "light"
     },
     "output_type": "display_data"
    }
   ],
   "source": [
    "from matplotlib import pyplot as plt\n",
    "plt.imshow(data, interpolation='nearest')\n",
    "plt.show()"
   ]
  },
  {
   "cell_type": "code",
   "execution_count": 33,
   "metadata": {},
   "outputs": [],
   "source": [
    "MV0_x = -8.6\n",
    "MV0_y = -2.6\n",
    "MV1_x = 15\n",
    "MV1_y = 7.8\n",
    "\n",
    "height = 8 # altura do blocão\n",
    "width = 8 # largura do blocão\n",
    "\n",
    "MV0 = [0, 0, MV0_x, MV0_y]              # [offset_x, offset_y, x, y]\n",
    "MV1 = [width, 0, MV1_x, MV1_y]          # [offset_x, offset_y, x, y]"
   ]
  },
  {
   "cell_type": "code",
   "execution_count": 34,
   "metadata": {},
   "outputs": [
    {
     "data": {
      "text/plain": [
       "[0, 0, -8.6, -2.6]"
      ]
     },
     "execution_count": 34,
     "metadata": {},
     "output_type": "execute_result"
    }
   ],
   "source": [
    "MV0"
   ]
  },
  {
   "cell_type": "code",
   "execution_count": 35,
   "metadata": {},
   "outputs": [
    {
     "data": {
      "text/plain": [
       "[8, 0, 15, 7.8]"
      ]
     },
     "execution_count": 35,
     "metadata": {},
     "output_type": "execute_result"
    }
   ],
   "source": [
    "MV1"
   ]
  },
  {
   "cell_type": "code",
   "execution_count": 36,
   "metadata": {},
   "outputs": [],
   "source": [
    "import numpy as np\n",
    "import matplotlib\n",
    "\n",
    "def plot_vectors(\n",
    "    vetores: list,\n",
    "    x_limit: int = 32,\n",
    "    y_limit: int = 32,\n",
    "    mirror_limits: bool = True):\n",
    "    \n",
    "    soa = np.array(vetores)\n",
    "    X, Y, U, V = zip(*soa)\n",
    "    plt.figure()\n",
    "    ax = plt.gca()\n",
    "    ax.quiver(X, Y, U, V, angles='xy', scale_units='xy', scale=1)\n",
    "    if mirror_limits:\n",
    "        ax.set_xlim([-x_limit, x_limit])\n",
    "        ax.set_ylim([-y_limit, y_limit])\n",
    "    else:\n",
    "        ax.set_xlim([-1, x_limit])\n",
    "        ax.set_ylim([-1, y_limit])\n",
    "    plt.draw()\n",
    "    plt.show()"
   ]
  },
  {
   "cell_type": "code",
   "execution_count": 37,
   "metadata": {},
   "outputs": [
    {
     "data": {
      "image/png": "[encoded data removed]",
      "text/plain": [
       "<Figure size 432x288 with 1 Axes>"
      ]
     },
     "metadata": {
      "needs_background": "light"
     },
     "output_type": "display_data"
    }
   ],
   "source": [
    "plot_vectors(\n",
    "    vetores = [MV0, MV1],\n",
    "    x_limit = 32,\n",
    "    y_limit = 32,\n",
    "    mirror_limits = True)"
   ]
  },
  {
   "cell_type": "code",
   "execution_count": 38,
   "metadata": {},
   "outputs": [],
   "source": [
    "#import handcalcs\n",
    "# from handcalcs import handcalc\n",
    "\n",
    "# from math import sqrt, pi\n",
    "\n",
    "# %%render\n",
    "# sub_mv_x = x*(MV1_x - MV0_x)/width + y*(MV1_y - MV0_y)/width + MV0_x\n",
    "# sub_mv_y = x*(MV1_y - MV0_y)/width + y*(MV1_y - MV0_x)/width + MV0_y"
   ]
  },
  {
   "cell_type": "code",
   "execution_count": 39,
   "metadata": {},
   "outputs": [
    {
     "name": "stdout",
     "output_type": "stream",
     "text": [
      "sub_mv_x: -8.6, sub_mv_y: -2.6\n"
     ]
    },
    {
     "data": {
      "text/plain": [
       "[0, 0, -8.6, -2.6]"
      ]
     },
     "execution_count": 39,
     "metadata": {},
     "output_type": "execute_result"
    }
   ],
   "source": [
    "x = 0\n",
    "y = 0\n",
    "sub_mv_x = x*(MV1_x - MV0_x)/width + y*(MV1_y - MV0_y)/width + MV0_x\n",
    "sub_mv_y = x*(MV1_y - MV0_y)/width + y*(MV1_y - MV0_x)/width + MV0_y\n",
    "print(f\"sub_mv_x: {sub_mv_x}, sub_mv_y: {sub_mv_y}\")\n",
    "\n",
    "sub_mv = [0, 0, sub_mv_x, sub_mv_y]\n",
    "sub_mv"
   ]
  },
  {
   "cell_type": "code",
   "execution_count": 50,
   "metadata": {},
   "outputs": [],
   "source": [
    "# criando listas vazias: float\n",
    "sub_mv_x = [[None for _ in range(width)] for _ in range(height)]\n",
    "sub_mv_y = [[None for _ in range(width)] for _ in range(height)]\n",
    "sub_mv = [[None for _ in range(width)] for _ in range(height)]\n",
    "\n",
    "# sub_mv_x = [['a']*width]*height\n",
    "# sub_mv_y = [['b']*width]*height\n",
    "# sub_mv = [['f']*width]*height\n",
    "import numpy as np\n",
    "import matplotlib.pyplot as plt\n",
    "\n",
    "def plot_vectors(\n",
    "    vetores: list,\n",
    "    x_limit: int = 32,\n",
    "    y_limit: int = 32,\n",
    "    mirror_limits: bool = True):\n",
    "    \n",
    "    soa = np.array(vetores)\n",
    "    X, Y, U, V = zip(*soa)\n",
    "    plt.figure()\n",
    "    ax = plt.gca()\n",
    "    ax.quiver(X, Y, U, V, angles='xy', scale_units='xy', scale=1)\n",
    "    if mirror_limits:\n",
    "        ax.set_xlim([-x_limit, x_limit])scale_unidfts\n",
    "        ax.set_ylim([-y_limit, y_limit])\n",
    "    else:\n",
    "        ax.set_xlim([-1, x_limit])\n",
    "        ax.set_ylim([-1, y_limit])\n",
    "    plt.draw()\n",
    "    plt.show()\n",
    "# sub_mv_x"
   ]
  },
  {
   "cell_type": "code",
   "execution_count": 51,
   "metadata": {},
   "outputs": [],
   "source": [
    "sub_mv_y[0][1]"
   ]
  },
  {
   "cell_type": "code",
   "execution_count": 52,
   "metadata": {},
   "outputs": [
    {
     "name": "stdout",
     "output_type": "stream",
     "text": [
      "(x,y): 0,0;  sub_mv[0][0]:[0, 0, -8.6, -2.6]\n",
      "(x,y): 1,0;  sub_mv[1][0]:[1, 0, -5.6499999999999995, -1.3]\n",
      "(x,y): 2,0;  sub_mv[2][0]:[2, 0, -2.6999999999999993, 0.0]\n",
      "(x,y): 3,0;  sub_mv[3][0]:[3, 0, 0.2500000000000018, 1.3000000000000003]\n",
      "(x,y): 4,0;  sub_mv[4][0]:[4, 0, 3.200000000000001, 2.6]\n",
      "(x,y): 5,0;  sub_mv[5][0]:[5, 0, 6.15, 3.9]\n",
      "(x,y): 6,0;  sub_mv[6][0]:[6, 0, 9.100000000000003, 5.200000000000001]\n",
      "(x,y): 7,0;  sub_mv[7][0]:[7, 0, 12.050000000000002, 6.5]\n",
      "---\n",
      "(x,y): 0,1;  sub_mv[0][1]:[0, 1, -7.3, -0.5500000000000003]\n",
      "(x,y): 1,1;  sub_mv[1][1]:[1, 1, -4.35, 0.7499999999999996]\n",
      "(x,y): 2,1;  sub_mv[2][1]:[2, 1, -1.3999999999999995, 2.0500000000000003]\n",
      "(x,y): 3,1;  sub_mv[3][1]:[3, 1, 1.5500000000000025, 3.35]\n",
      "(x,y): 4,1;  sub_mv[4][1]:[4, 1, 4.500000000000002, 4.65]\n",
      "(x,y): 5,1;  sub_mv[5][1]:[5, 1, 7.450000000000001, 5.950000000000001]\n",
      "(x,y): 6,1;  sub_mv[6][1]:[6, 1, 10.400000000000004, 7.250000000000002]\n",
      "(x,y): 7,1;  sub_mv[7][1]:[7, 1, 13.350000000000003, 8.549999999999999]\n",
      "---\n",
      "(x,y): 0,2;  sub_mv[0][2]:[0, 2, -6.0, 1.4999999999999996]\n",
      "(x,y): 1,2;  sub_mv[1][2]:[1, 2, -3.049999999999999, 2.7999999999999994]\n",
      "(x,y): 2,2;  sub_mv[2][2]:[2, 2, -0.09999999999999964, 4.1]\n",
      "(x,y): 3,2;  sub_mv[3][2]:[3, 2, 2.8500000000000014, 5.4]\n",
      "(x,y): 4,2;  sub_mv[4][2]:[4, 2, 5.800000000000001, 6.700000000000001]\n",
      "(x,y): 5,2;  sub_mv[5][2]:[5, 2, 8.750000000000002, 8.0]\n",
      "(x,y): 6,2;  sub_mv[6][2]:[6, 2, 11.700000000000005, 9.3]\n",
      "(x,y): 7,2;  sub_mv[7][2]:[7, 2, 14.650000000000004, 10.6]\n",
      "---\n",
      "(x,y): 0,3;  sub_mv[0][3]:[0, 3, -4.699999999999999, 3.5499999999999994]\n",
      "(x,y): 1,3;  sub_mv[1][3]:[1, 3, -1.7499999999999991, 4.85]\n",
      "(x,y): 2,3;  sub_mv[2][3]:[2, 3, 1.200000000000001, 6.15]\n",
      "(x,y): 3,3;  sub_mv[3][3]:[3, 3, 4.150000000000002, 7.450000000000001]\n",
      "(x,y): 4,3;  sub_mv[4][3]:[4, 3, 7.100000000000001, 8.75]\n",
      "(x,y): 5,3;  sub_mv[5][3]:[5, 3, 10.049999999999999, 10.049999999999999]\n",
      "(x,y): 6,3;  sub_mv[6][3]:[6, 3, 13.000000000000002, 11.35]\n",
      "(x,y): 7,3;  sub_mv[7][3]:[7, 3, 15.950000000000005, 12.65]\n",
      "---\n",
      "(x,y): 0,4;  sub_mv[0][4]:[0, 4, -3.3999999999999995, 5.6]\n",
      "(x,y): 1,4;  sub_mv[1][4]:[1, 4, -0.4499999999999993, 6.9]\n",
      "(x,y): 2,4;  sub_mv[2][4]:[2, 4, 2.5000000000000018, 8.2]\n",
      "(x,y): 3,4;  sub_mv[3][4]:[3, 4, 5.450000000000001, 9.5]\n",
      "(x,y): 4,4;  sub_mv[4][4]:[4, 4, 8.4, 10.799999999999999]\n",
      "(x,y): 5,4;  sub_mv[5][4]:[5, 4, 11.35, 12.1]\n",
      "(x,y): 6,4;  sub_mv[6][4]:[6, 4, 14.300000000000002, 13.4]\n",
      "(x,y): 7,4;  sub_mv[7][4]:[7, 4, 17.25, 14.699999999999998]\n",
      "---\n",
      "(x,y): 0,5;  sub_mv[0][5]:[0, 5, -2.0999999999999996, 7.65]\n",
      "(x,y): 1,5;  sub_mv[1][5]:[1, 5, 0.8499999999999996, 8.950000000000001]\n",
      "(x,y): 2,5;  sub_mv[2][5]:[2, 5, 3.8000000000000007, 10.25]\n",
      "(x,y): 3,5;  sub_mv[3][5]:[3, 5, 6.750000000000002, 11.55]\n",
      "(x,y): 4,5;  sub_mv[4][5]:[4, 5, 9.700000000000001, 12.85]\n",
      "(x,y): 5,5;  sub_mv[5][5]:[5, 5, 12.65, 14.15]\n",
      "(x,y): 6,5;  sub_mv[6][5]:[6, 5, 15.600000000000003, 15.450000000000001]\n",
      "(x,y): 7,5;  sub_mv[7][5]:[7, 5, 18.550000000000004, 16.75]\n",
      "---\n",
      "(x,y): 0,6;  sub_mv[0][6]:[0, 6, -0.7999999999999989, 9.7]\n",
      "(x,y): 1,6;  sub_mv[1][6]:[1, 6, 2.1500000000000004, 11.0]\n",
      "(x,y): 2,6;  sub_mv[2][6]:[2, 6, 5.100000000000001, 12.299999999999999]\n",
      "(x,y): 3,6;  sub_mv[3][6]:[3, 6, 8.050000000000002, 13.6]\n",
      "(x,y): 4,6;  sub_mv[4][6]:[4, 6, 11.000000000000002, 14.9]\n",
      "(x,y): 5,6;  sub_mv[5][6]:[5, 6, 13.950000000000001, 16.199999999999996]\n",
      "(x,y): 6,6;  sub_mv[6][6]:[6, 6, 16.900000000000006, 17.5]\n",
      "(x,y): 7,6;  sub_mv[7][6]:[7, 6, 19.85, 18.799999999999997]\n",
      "---\n",
      "(x,y): 0,7;  sub_mv[0][7]:[0, 7, 0.5, 11.749999999999998]\n",
      "(x,y): 1,7;  sub_mv[1][7]:[1, 7, 3.450000000000001, 13.049999999999999]\n",
      "(x,y): 2,7;  sub_mv[2][7]:[2, 7, 6.4, 14.35]\n",
      "(x,y): 3,7;  sub_mv[3][7]:[3, 7, 9.350000000000003, 15.65]\n",
      "(x,y): 4,7;  sub_mv[4][7]:[4, 7, 12.299999999999999, 16.949999999999996]\n",
      "(x,y): 5,7;  sub_mv[5][7]:[5, 7, 15.250000000000002, 18.249999999999996]\n",
      "(x,y): 6,7;  sub_mv[6][7]:[6, 7, 18.200000000000003, 19.549999999999997]\n",
      "(x,y): 7,7;  sub_mv[7][7]:[7, 7, 21.15, 20.849999999999994]\n",
      "---\n"
     ]
    }
   ],
   "source": [
    "# CÁLCULO AFFINE dos vetores sub_mvmatplotlib\n",
    "for y in range(0,height): #itera sobre altura\n",
    "    for x in range(0,width): #itera sobre largura\n",
    "        sub_mv_x[x][y] = x*(MV1_x - MV0_x)/width + y*(MV1_y - MV0_y)/width + MV0_x\n",
    "        sub_mv_y[x][y] = x*(MV1_y - MV0_y)/width + y*(MV1_y - MV0_x)/width + MV0_y\n",
    "        sub_mv[x][y] = [x, y, sub_mv_x[x][y], sub_mv_y[x][y]]\n",
    "        # print(x,y)\n",
    "        print(f\"(x,y): {x},{y};  sub_mv[{x}][{y}]:{sub_mv[x][y]}\")\n",
    "    print(\"---\")\n",
    "\n",
    "    # print(\"=========\")"
   ]
  },
  {
   "cell_type": "code",
   "execution_count": 53,
   "metadata": {},
   "outputs": [
    {
     "data": {
      "text/plain": [
       "[[[0, 0, -8.6, -2.6],\n",
       "  [0, 1, -7.3, -0.5500000000000003],\n",
       "  [0, 2, -6.0, 1.4999999999999996],\n",
       "  [0, 3, -4.699999999999999, 3.5499999999999994],\n",
       "  [0, 4, -3.3999999999999995, 5.6],\n",
       "  [0, 5, -2.0999999999999996, 7.65],\n",
       "  [0, 6, -0.7999999999999989, 9.7],\n",
       "  [0, 7, 0.5, 11.749999999999998]],\n",
       " [[1, 0, -5.6499999999999995, -1.3],\n",
       "  [1, 1, -4.35, 0.7499999999999996],\n",
       "  [1, 2, -3.049999999999999, 2.7999999999999994],\n",
       "  [1, 3, -1.7499999999999991, 4.85],\n",
       "  [1, 4, -0.4499999999999993, 6.9],\n",
       "  [1, 5, 0.8499999999999996, 8.950000000000001],\n",
       "  [1, 6, 2.1500000000000004, 11.0],\n",
       "  [1, 7, 3.450000000000001, 13.049999999999999]],\n",
       " [[2, 0, -2.6999999999999993, 0.0],\n",
       "  [2, 1, -1.3999999999999995, 2.0500000000000003],\n",
       "  [2, 2, -0.09999999999999964, 4.1],\n",
       "  [2, 3, 1.200000000000001, 6.15],\n",
       "  [2, 4, 2.5000000000000018, 8.2],\n",
       "  [2, 5, 3.8000000000000007, 10.25],\n",
       "  [2, 6, 5.100000000000001, 12.299999999999999],\n",
       "  [2, 7, 6.4, 14.35]],\n",
       " [[3, 0, 0.2500000000000018, 1.3000000000000003],\n",
       "  [3, 1, 1.5500000000000025, 3.35],\n",
       "  [3, 2, 2.8500000000000014, 5.4],\n",
       "  [3, 3, 4.150000000000002, 7.450000000000001],\n",
       "  [3, 4, 5.450000000000001, 9.5],\n",
       "  [3, 5, 6.750000000000002, 11.55],\n",
       "  [3, 6, 8.050000000000002, 13.6],\n",
       "  [3, 7, 9.350000000000003, 15.65]],\n",
       " [[4, 0, 3.200000000000001, 2.6],\n",
       "  [4, 1, 4.500000000000002, 4.65],\n",
       "  [4, 2, 5.800000000000001, 6.700000000000001],\n",
       "  [4, 3, 7.100000000000001, 8.75],\n",
       "  [4, 4, 8.4, 10.799999999999999],\n",
       "  [4, 5, 9.700000000000001, 12.85],\n",
       "  [4, 6, 11.000000000000002, 14.9],\n",
       "  [4, 7, 12.299999999999999, 16.949999999999996]],\n",
       " [[5, 0, 6.15, 3.9],\n",
       "  [5, 1, 7.450000000000001, 5.950000000000001],\n",
       "  [5, 2, 8.750000000000002, 8.0],\n",
       "  [5, 3, 10.049999999999999, 10.049999999999999],\n",
       "  [5, 4, 11.35, 12.1],\n",
       "  [5, 5, 12.65, 14.15],\n",
       "  [5, 6, 13.950000000000001, 16.199999999999996],\n",
       "  [5, 7, 15.250000000000002, 18.249999999999996]],\n",
       " [[6, 0, 9.100000000000003, 5.200000000000001],\n",
       "  [6, 1, 10.400000000000004, 7.250000000000002],\n",
       "  [6, 2, 11.700000000000005, 9.3],\n",
       "  [6, 3, 13.000000000000002, 11.35],\n",
       "  [6, 4, 14.300000000000002, 13.4],\n",
       "  [6, 5, 15.600000000000003, 15.450000000000001],\n",
       "  [6, 6, 16.900000000000006, 17.5],\n",
       "  [6, 7, 18.200000000000003, 19.549999999999997]],\n",
       " [[7, 0, 12.050000000000002, 6.5],\n",
       "  [7, 1, 13.350000000000003, 8.549999999999999],\n",
       "  [7, 2, 14.650000000000004, 10.6],\n",
       "  [7, 3, 15.950000000000005, 12.65],\n",
       "  [7, 4, 17.25, 14.699999999999998],\n",
       "  [7, 5, 18.550000000000004, 16.75],\n",
       "  [7, 6, 19.85, 18.799999999999997],\n",
       "  [7, 7, 21.15, 20.849999999999994]]]"
      ]
     },
     "execution_count": 53,
     "metadata": {},
     "output_type": "execute_result"
    }
   ],
   "source": [
    "sub_mv"
   ]
  },
  {
   "cell_type": "code",
   "execution_count": 54,
   "metadata": {},
   "outputs": [],
   "source": [
    "# def list_concatenation_all_sublists(lista: list):\n",
    "#     import itertools\n",
    "#     # total = []\n",
    "#     # for i in lista:\n",
    "#     #     total += imatplotlib\n",
    "\n",
    "#     # return list(itertools.chain(*lista))\n",
    "#     lista_retorno = lista\n",
    "#     while (any(isinstance(i, list) for i in lista_retorno) == True):\n",
    "#         lista_retorno = list(itertools.chain.from_iterable(lista_retorno))\n",
    "\n",
    "#     return lista_retorno"
   ]
  },
  {
   "cell_type": "code",
   "execution_count": 55,
   "metadata": {},
   "outputs": [],
   "source": [
    "def list_concatenation(lista: list):\n",
    "    total = []\n",
    "    for i in lista:\n",
    "        total += i\n",
    "\n",
    "    return total"
   ]
  },
  {
   "cell_type": "code",
   "execution_count": 56,
   "metadata": {},
   "outputs": [
    {
     "data": {
      "text/plain": [
       "[[0, 0, -8.6, -2.6],\n",
       " [0, 1, -7.3, -0.5500000000000003],\n",
       " [0, 2, -6.0, 1.4999999999999996],\n",
       " [0, 3, -4.699999999999999, 3.5499999999999994],\n",
       " [0, 4, -3.3999999999999995, 5.6],\n",
       " [0, 5, -2.0999999999999996, 7.65],\n",
       " [0, 6, -0.7999999999999989, 9.7],\n",
       " [0, 7, 0.5, 11.749999999999998],\n",
       " [1, 0, -5.6499999999999995, -1.3],\n",
       " [1, 1, -4.35, 0.7499999999999996],\n",
       " [1, 2, -3.049999999999999, 2.7999999999999994],\n",
       " [1, 3, -1.7499999999999991, 4.85],\n",
       " [1, 4, -0.4499999999999993, 6.9],\n",
       " [1, 5, 0.8499999999999996, 8.950000000000001],\n",
       " [1, 6, 2.1500000000000004, 11.0],\n",
       " [1, 7, 3.450000000000001, 13.049999999999999],\n",
       " [2, 0, -2.6999999999999993, 0.0],\n",
       " [2, 1, -1.3999999999999995, 2.0500000000000003],\n",
       " [2, 2, -0.09999999999999964, 4.1],\n",
       " [2, 3, 1.200000000000001, 6.15],\n",
       " [2, 4, 2.5000000000000018, 8.2],\n",
       " [2, 5, 3.8000000000000007, 10.25],\n",
       " [2, 6, 5.100000000000001, 12.299999999999999],\n",
       " [2, 7, 6.4, 14.35],\n",
       " [3, 0, 0.2500000000000018, 1.3000000000000003],\n",
       " [3, 1, 1.5500000000000025, 3.35],\n",
       " [3, 2, 2.8500000000000014, 5.4],\n",
       " [3, 3, 4.150000000000002, 7.450000000000001],\n",
       " [3, 4, 5.450000000000001, 9.5],\n",
       " [3, 5, 6.750000000000002, 11.55],\n",
       " [3, 6, 8.050000000000002, 13.6],\n",
       " [3, 7, 9.350000000000003, 15.65],\n",
       " [4, 0, 3.200000000000001, 2.6],\n",
       " [4, 1, 4.500000000000002, 4.65],\n",
       " [4, 2, 5.800000000000001, 6.700000000000001],\n",
       " [4, 3, 7.100000000000001, 8.75],\n",
       " [4, 4, 8.4, 10.799999999999999],\n",
       " [4, 5, 9.700000000000001, 12.85],\n",
       " [4, 6, 11.000000000000002, 14.9],\n",
       " [4, 7, 12.299999999999999, 16.949999999999996],\n",
       " [5, 0, 6.15, 3.9],\n",
       " [5, 1, 7.450000000000001, 5.950000000000001],\n",
       " [5, 2, 8.750000000000002, 8.0],\n",
       " [5, 3, 10.049999999999999, 10.049999999999999],\n",
       " [5, 4, 11.35, 12.1],\n",
       " [5, 5, 12.65, 14.15],\n",
       " [5, 6, 13.950000000000001, 16.199999999999996],\n",
       " [5, 7, 15.250000000000002, 18.249999999999996],\n",
       " [6, 0, 9.100000000000003, 5.200000000000001],\n",
       " [6, 1, 10.400000000000004, 7.250000000000002],\n",
       " [6, 2, 11.700000000000005, 9.3],\n",
       " [6, 3, 13.000000000000002, 11.35],\n",
       " [6, 4, 14.300000000000002, 13.4],\n",
       " [6, 5, 15.600000000000003, 15.450000000000001],\n",
       " [6, 6, 16.900000000000006, 17.5],\n",
       " [6, 7, 18.200000000000003, 19.549999999999997],\n",
       " [7, 0, 12.050000000000002, 6.5],\n",
       " [7, 1, 13.350000000000003, 8.549999999999999],\n",
       " [7, 2, 14.650000000000004, 10.6],\n",
       " [7, 3, 15.950000000000005, 12.65],\n",
       " [7, 4, 17.25, 14.699999999999998],\n",
       " [7, 5, 18.550000000000004, 16.75],\n",
       " [7, 6, 19.85, 18.799999999999997],\n",
       " [7, 7, 21.15, 20.849999999999994]]"
      ]
     },
     "execution_count": 56,
     "metadata": {},
     "output_type": "execute_result"
    }
   ],
   "source": [
    "flatten_sub_mv = list_concatenation(sub_mv)\n",
    "flatten_sub_mv"
   ]
  },
  {
   "cell_type": "code",
   "execution_count": 57,
   "metadata": {},
   "outputs": [
    {
     "data": {
      "text/plain": [
       "[[0, 0, -8.6, -2.6],\n",
       " [0, 1, -7.3, -0.5500000000000003],\n",
       " [0, 2, -6.0, 1.4999999999999996],\n",
       " [0, 3, -4.699999999999999, 3.5499999999999994],\n",
       " [0, 4, -3.3999999999999995, 5.6],\n",
       " [0, 5, -2.0999999999999996, 7.65],\n",
       " [0, 6, -0.7999999999999989, 9.7],\n",
       " [0, 7, 0.5, 11.749999999999998],\n",
       " [1, 0, -5.6499999999999995, -1.3],\n",
       " [1, 1, -4.35, 0.7499999999999996],\n",
       " [1, 2, -3.049999999999999, 2.7999999999999994],\n",
       " [1, 3, -1.7499999999999991, 4.85],\n",
       " [1, 4, -0.4499999999999993, 6.9],\n",
       " [1, 5, 0.8499999999999996, 8.950000000000001],\n",
       " [1, 6, 2.1500000000000004, 11.0],\n",
       " [1, 7, 3.450000000000001, 13.049999999999999],\n",
       " [2, 0, -2.6999999999999993, 0.0],\n",
       " [2, 1, -1.3999999999999995, 2.0500000000000003],\n",
       " [2, 2, -0.09999999999999964, 4.1],\n",
       " [2, 3, 1.200000000000001, 6.15],\n",
       " [2, 4, 2.5000000000000018, 8.2],\n",
       " [2, 5, 3.8000000000000007, 10.25],\n",
       " [2, 6, 5.100000000000001, 12.299999999999999],\n",
       " [2, 7, 6.4, 14.35],\n",
       " [3, 0, 0.2500000000000018, 1.3000000000000003],\n",
       " [3, 1, 1.5500000000000025, 3.35],\n",
       " [3, 2, 2.8500000000000014, 5.4],\n",
       " [3, 3, 4.150000000000002, 7.450000000000001],\n",
       " [3, 4, 5.450000000000001, 9.5],\n",
       " [3, 5, 6.750000000000002, 11.55],\n",
       " [3, 6, 8.050000000000002, 13.6],\n",
       " [3, 7, 9.350000000000003, 15.65],\n",
       " [4, 0, 3.200000000000001, 2.6],\n",
       " [4, 1, 4.500000000000002, 4.65],\n",
       " [4, 2, 5.800000000000001, 6.700000000000001],\n",
       " [4, 3, 7.100000000000001, 8.75],\n",
       " [4, 4, 8.4, 10.799999999999999],\n",
       " [4, 5, 9.700000000000001, 12.85],\n",
       " [4, 6, 11.000000000000002, 14.9],\n",
       " [4, 7, 12.299999999999999, 16.949999999999996],\n",
       " [5, 0, 6.15, 3.9],\n",
       " [5, 1, 7.450000000000001, 5.950000000000001],\n",
       " [5, 2, 8.750000000000002, 8.0],\n",
       " [5, 3, 10.049999999999999, 10.049999999999999],\n",
       " [5, 4, 11.35, 12.1],\n",
       " [5, 5, 12.65, 14.15],\n",
       " [5, 6, 13.950000000000001, 16.199999999999996],\n",
       " [5, 7, 15.250000000000002, 18.249999999999996],\n",
       " [6, 0, 9.100000000000003, 5.200000000000001],\n",
       " [6, 1, 10.400000000000004, 7.250000000000002],\n",
       " [6, 2, 11.700000000000005, 9.3],\n",
       " [6, 3, 13.000000000000002, 11.35],\n",
       " [6, 4, 14.300000000000002, 13.4],\n",
       " [6, 5, 15.600000000000003, 15.450000000000001],\n",
       " [6, 6, 16.900000000000006, 17.5],\n",
       " [6, 7, 18.200000000000003, 19.549999999999997],\n",
       " [7, 0, 12.050000000000002, 6.5],\n",
       " [7, 1, 13.350000000000003, 8.549999999999999],\n",
       " [7, 2, 14.650000000000004, 10.6],\n",
       " [7, 3, 15.950000000000005, 12.65],\n",
       " [7, 4, 17.25, 14.699999999999998],\n",
       " [7, 5, 18.550000000000004, 16.75],\n",
       " [7, 6, 19.85, 18.799999999999997],\n",
       " [7, 7, 21.15, 20.849999999999994],\n",
       " [0, 0, -8.6, -2.6],\n",
       " [8, 0, 15, 7.8]]"
      ]
     },
     "execution_count": 57,
     "metadata": {},
     "output_type": "execute_result"
    }
   ],
   "source": [
    "flatten_sub_mv = list_concatenation(sub_mv)\n",
    "all_vectors = flatten_sub_mv\n",
    "all_vectors.append(MV0)\n",
    "all_vectors.append(MV1)\n",
    "all_vectors"
   ]
  },
  {
   "cell_type": "code",
   "execution_count": 58,
   "metadata": {},
   "outputs": [],
   "source": [
    "# list_concatenation_all_sublists(sub_mv)"
   ]
  },
  {
   "cell_type": "code",
   "execution_count": 59,
   "metadata": {},
   "outputs": [
    {
     "data": {
      "image/png": "[encoded data removed]",
      "text/plain": [
       "<Figure size 432x288 with 1 Axes>"
      ]
     },
     "metadata": {
      "needs_background": "light"
     },
     "output_type": "display_data"
    }
   ],
   "source": [
    "plot_vectors(\n",
    "    vetores = [MV0, MV1],\n",
    "    x_limit = 32,\n",
    "    y_limit = 32,\n",
    "    mirror_limits = True)"
   ]
  },
  {
   "cell_type": "code",
   "execution_count": 60,
   "metadata": {},
   "outputs": [
    {
     "data": {
      "image/png": "[encoded data removed]",
      "text/plain": [
       "<Figure size 432x288 with 1 Axes>"
      ]
     },
     "metadata": {
      "needs_background": "light"
     },
     "output_type": "display_data"
    }
   ],
   "source": [
    "flatten_sub_mv\n",
    "\n",
    "plot_vectors(\n",
    "    vetores = flatten_sub_mv,\n",
    "    x_limit = 32,\n",
    "    y_limit = 32,\n",
    "    mirror_limits = True)"
   ]
  },
  {
   "cell_type": "markdown",
   "metadata": {},
   "source": [
    "## Função vetores affine"
   ]
  },
  {
   "cell_type": "code",
   "execution_count": 61,
   "metadata": {},
   "outputs": [],
   "source": [
    "def list_concatenation(lista: list):\n",
    "    total = []\n",
    "    for i in lista:\n",
    "        total += i\n",
    "\n",
    "    return total"
   ]
  },
  {
   "cell_type": "code",
   "execution_count": 62,
   "metadata": {},
   "outputs": [],
   "source": [
    "def affine_vectors(\n",
    "    MV0_x: float = -8.6,\n",
    "    MV0_y: float = -2.6,\n",
    "    MV1_x: float = 15,\n",
    "    MV1_y: float = 7.8,\n",
    "    height: float = 8, # altura do blocão\n",
    "    width: float = 8 # largura do blocão\n",
    "):\n",
    "\n",
    "    MV0 = [0, 0, MV0_x, MV0_y]              # [offset_x, offset_y, x, y]\n",
    "    MV1 = [width, 0, MV1_x, MV1_y]          # [offset_x, offset_y, x, y]):\n",
    "    # CÁLCULO AFFINE dos vetores sub_mvmatplotlib\n",
    "    for y in range(0,height): #itera sobre altura\n",
    "        for x in range(0,width): #itera sobre largura\n",
    "            sub_mv_x[x][y] = x*(MV1_x - MV0_x)/width + y*(MV1_y - MV0_y)/width + MV0_x\n",
    "            sub_mv_y[x][y] = x*(MV1_y - MV0_y)/width + y*(MV1_y - MV0_x)/width + MV0_y\n",
    "            sub_mv[x][y] = [x, y, sub_mv_x[x][y], sub_mv_y[x][y]]\n",
    "\n",
    "            # print(f\"(x,y): {x},{y};  sub_mv[{x}][{y}]:{sub_mv[x][y]}\")\n",
    "        # print(\"---\")\n",
    "        # print(\"=========\")\n",
    "    flatten_sub_mv = list_concatenation(sub_mv)\n",
    "    flatten_sub_mv = list_concatenation(sub_mv)\n",
    "    all_vectors = flatten_sub_mv\n",
    "    # all_vectors.append(MV0)\n",
    "    # all_vectors.append(MV1)\n",
    "\n",
    "    return all_vectors, MV0, MV1\n"
   ]
  },
  {
   "cell_type": "markdown",
   "metadata": {},
   "source": [
    "## Função Plot vectors"
   ]
  },
  {
   "cell_type": "code",
   "execution_count": 74,
   "metadata": {},
   "outputs": [],
   "source": [
    "import numpy as np\n",
    "import matplotlib.pyplot as plt\n",
    "\n",
    "def plot_vectors(\n",
    "    vetores: list,\n",
    "    x_limit: int = 32,\n",
    "    y_limit: int = 32,\n",
    "    mirror_limits: bool = True):\n",
    "    \n",
    "    soa = np.array(vetores)\n",
    "    X, Y, U, V = zip(*soa)\n",
    "    plt.figure()\n",
    "    ax = plt.gca()\n",
    "    ax.quiver(X, Y, U, V, angles='xy', scale_units='xy', scale=1)\n",
    "    if mirror_limits:\n",
    "        ax.set_xlim([-x_limit, x_limit])\n",
    "        ax.set_ylim([-y_limit, y_limit])\n",
    "    else:\n",
    "        ax.set_xlim([-1, x_limit])\n",
    "        ax.set_ylim([-1, y_limit])\n",
    "    plt.draw()\n",
    "    plt.show()"
   ]
  },
  {
   "cell_type": "markdown",
   "metadata": {},
   "source": [
    "# Float to bin"
   ]
  },
  {
   "cell_type": "markdown",
   "metadata": {},
   "source": [
    "## funções"
   ]
  },
  {
   "cell_type": "code",
   "execution_count": 75,
   "metadata": {},
   "outputs": [],
   "source": [
    "# def neg_float_exponent_to_bin(x, n_integer):\n",
    "#     out = '{:0{}b}'.format(int(x), n_integer) # float -> bin\n",
    "#     if (str(out).find('-')== 0): #esta função é True quando == 0\n",
    "#         x_replace = str(out).replace('-','0') #substitui o sinal negativo que fica no valor por '0'\n",
    "#         x_inv = transform(x_replace) #replace ones by zeros and vice versa (complemento de 1)\n",
    "#         x_inv_float = int(x_inv,2)  # transforma em inteiro\n",
    "#         comp_2_float = x_inv_float + 1 # soma +1  = complemento de 2\n",
    "#         x_comp = float_to_binary(comp_2_float, n_integer, 0,False) #transforma para binário\n",
    "#         return x_comp\n"
   ]
  },
  {
   "cell_type": "code",
   "execution_count": 76,
   "metadata": {},
   "outputs": [
    {
     "data": {
      "text/plain": [
       "'10000011'"
      ]
     },
     "execution_count": 76,
     "metadata": {},
     "output_type": "execute_result"
    }
   ],
   "source": [
    "#Function used to replace zeros by ones and vice versa\n",
    "def transform(x):\n",
    "    text = ''\n",
    "    for i in x:\n",
    "        if i == '1':\n",
    "            text += \"0\"  # directly add the `.`\n",
    "        else:\n",
    "            text += \"1\"  # directly add the `_`\n",
    "    return text\n",
    "\n",
    "transform('01111100') # call the function"
   ]
  },
  {
   "cell_type": "code",
   "execution_count": 77,
   "metadata": {},
   "outputs": [],
   "source": [
    "def float_to_binary(x, m, n, signed):\n",
    "    \"\"\"Convert the float value `x` to a binary string of length `m + n`\n",
    "    where the first `m` binary digits are the integer part and the last\n",
    "    'n' binary digits are the fractional part of `x`.\n",
    "    \"\"\"\n",
    "    x_replace = ''\n",
    "    x_inv = ''\n",
    "    x_inv_float = ''\n",
    "    x_comp = ''\n",
    "    decimais = 0\n",
    "\n",
    "    if (signed == 1):\n",
    "      decimais = n-1\n",
    "    else: decimais = n\n",
    "\n",
    "    x_scaled = round(x * 2 ** (decimais))\n",
    "    out = '{:0{}b}'.format(x_scaled, m + (decimais)) # float -> bin\n",
    "    # return out\n",
    "\n",
    "    #---------------------NUMEROS NEGATIVOS---------------------#\n",
    "    #Two complement logic\n",
    "    if (str(out).find('-')== 0): #esta função é True quando == 0\n",
    "      x_replace = str(out).replace('-','') #tira o sinal negativo que fica no valor\n",
    "      \n",
    "      while (len(x_replace)< n ):\n",
    "        x_replace = '0' + x_replace # adiciona um zeros que a função bosta tira de bug\n",
    "        #pois a função está deixando com apenas 7 bits quando o valor é negativo ou até menos\n",
    "\n",
    "      x_inv = transform(x_replace) #replace ones by zeros and vice versa\n",
    "      x_inv_float = binary_to_float(x_inv, m, (decimais),0) #transforma em real\n",
    "\n",
    "      #adiciona o 1 binário do complemento de 2, depende do número de bits para fazer esta adição em float\n",
    "      # onde: (1 de 3 casas decimais) = 0.125 = 2^-3\n",
    "      #adição feita em real, pois não há operações binárias de soma no python até então, logo:\n",
    "      #transforma em binário o número inverso já somado com 1\n",
    "      x_comp = float_to_binary(x_inv_float + (2**-(decimais)), m, n,1)\n",
    "      # x_comp = x_comp[1:]\n",
    "\n",
    "      return x_comp\n",
    "      # return x_scaled,out,x_replace,x_inv,x_inv_float,x_comp,x_comp\n",
    "\n",
    "\n",
    "      # if (x_scaled < (2**decimais)):\n",
    "      #   return x_comp\n",
    "      # else:\n",
    "      #   return '{:0{}b}'.format(( 2**decimais -1), m + (decimais)) # float -> bin\n",
    "\n",
    "    #---------------------NUMEROS POSITIVOS---------------------#\n",
    "    else:\n",
    "      # out = '0' + out # adiciona um zeros que a função bosta tira de bug\n",
    "      while (len(out)< n ):\n",
    "          out = '0' + out # adiciona um zeros que a função bosta tira de bug\n",
    "      return  out\n",
    "\n",
    "      # if (x_scaled < (2**decimais)): # se x_scaled < limite: retorna valor normal\n",
    "      #   while (len(out)< n ):\n",
    "      #     out = '0' + out # adiciona um zeros que a função bosta tira de bug\n",
    "      #   return  outxfsdfind\n",
    "      # else: \n",
    "      #   return '{:0{}b}'.format(( 2**decimais -1), m + (decimais)) # float -> bin\n",
    "    \n",
    "  # else: #unsigned\n",
    "  #   x_scaled = round(x * 2 ** n)\n",
    "  # 507812  return '{:0{}b}'.format(x_scaled, m + n)\n",
    "\n",
    "\n",
    "def binary_to_float(bstr, m, n, signed): # (binario, exponent, mantissa, signed)\n",
    "    \"\"\"Convert a binary string in the format given above to its float\n",
    "    value.\n",
    "    \"\"\"\n",
    "    if (signed == 1): #signed\n",
    "      if (bstr[:1]== '1'):def float_to_binary(x, m, n, signed):\n",
    "    \"\"\"Convert the float value `x` to a binary string of length `m + n`\n",
    "    where the first `m` binary digits are the integer part and the last\n",
    "    'n' binary digits are the fractional part of `x`.\n",
    "    \"\"\"\n",
    "    x_replace = ''\n",
    "    x_inv = ''\n",
    "    x_inv_float = ''\n",
    "    x_comp = ''\n",
    "    decimais = 0\n",
    "\n",
    "    if (signed == 1):\n",
    "      decimais = n-1\n",
    "    else: decimais = n\n",
    "\n",
    "    x_scaled = round(x * 2 ** (decimais))\n",
    "    out = '{:0{}b}'.format(x_scaled, m + (decimais)) # float -> bin\n",
    "    # return out\n",
    "\n",
    "    #---------------------NUMEROS NEGATIVOS---------------------#\n",
    "    #Two complement logic\n",
    "    if (str(out).find('-')== 0): #esta função é True quando == 0\n",
    "      x_replace = str(out).replace('-','') #tira o sinal negativo que fica no valor\n",
    "      \n",
    "      while (len(x_replace)< n ):\n",
    "        x_replace = '0' + x_replace # adiciona um zeros que a função bosta tira de bug\n",
    "        #pois a função está deixando com apenas 7 bits quando o valor é negativo ou até menos\n",
    "\n",
    "      x_inv = transform(x_replace) #replace ones by zeros and vice versa\n",
    "      x_inv_float = binary_to_float(x_inv, m, (decimais),0) #transforma em real\n",
    "\n",
    "      #adiciona o 1 binário do complemento de 2, depende do número de bits para fazer esta adição em float\n",
    "      # onde: (1 de 3 casas decimais) = 0.125 = 2^-3\n",
    "      #adição feita em real, pois não há operações binárias de soma no python até então, logo:\n",
    "      #transforma em binário o número inverso já somado com 1\n",
    "      x_comp = float_to_binary(x_inv_float + (2**-(decimais)), m, n,1)\n",
    "      # x_comp = x_comp[1:]\n",
    "\n",
    "      return x_comp\n",
    "      # return x_scaled,out,x_replace,x_inv,x_inv_float,x_comp,x_comp\n",
    "\n",
    "\n",
    "      # if (x_scaled < (2**decimais)):\n",
    "      #   return x_comp\n",
    "      # else:\n",
    "      #   return '{:0{}b}'.format(( 2**decimais -1), m + (decimais)) # float -> bin\n",
    "\n",
    "    #---------------------NUMEROS POSITIVOS---------------------#\n",
    "    else:\n",
    "      # out = '0' + out # adiciona um zeros que a função bosta tira de bug\n",
    "      while (len(out)< n ):\n",
    "          out = '0' + out # adiciona um zeros que a função bosta tira de bug\n",
    "      return  out\n",
    "\n",
    "      # if (x_scaled < (2**decimais)): # se x_scaled < limite: retorna valor normal\n",
    "      #   while (len(out)< n ):\n",
    "      #     out = '0' + out # adiciona um zeros que a função bosta tira de bug\n",
    "      #   return  outxfsdfind\n",
    "      # else: \n",
    "      #   return '{:0{}b}'.format(( 2**decimais -1), m + (decimais)) # float -> bin\n",
    "    \n",
    "  # else: #unsigned\n",
    "  #   x_scaled = round(x * 2 ** n)\n",
    "  # 507812  return '{:0{}b}'.format(x_scaled, m + n)\n",
    "\n",
    "\n",
    "def binary_to_float(bstr, m, n, signed): # (binario, exponent, mantissa, signed)\n",
    "    \"\"\"Convert a binary string in the format given above to its float\n",
    "    value.\n",
    "    \"\"\"\n",
    "    if (signed == 1): #signed\n",
    "      if (bstr[:1]== '1'):\n",
    "        x_replace = bstr[1:]\n",
    "        # x_replaxfsdce = bstr\n",
    "        return (int((x_replace), 2) / 2 ** (n-1)) -1\n",
    "      else: return int((bstr), 2) / 2 ** (n-1)\n",
    "    else: #unsigned\n",
    "      return int((bstr), 2) / 2 ** n\n",
    "\n",
    "# print(float_to_binary(10.625, 6, 5))\n",
    "# print(binary_to_float('00101010100', 6, 5))\n",
    "        x_replace = bstr[1:]\n",
    "        # x_replaxfsdce = bstr\n",
    "        return (int((x_replace), 2) / 2 ** (n-1)) -1\n",
    "      else: return int((bstr), 2) / 2 ** (n-1)\n",
    "    else: #unsigned\n",
    "      return int((bstr), 2) / 2 ** n\n",
    "\n",
    "# print(float_to_binary(10.625, 6, 5))\n",
    "# print(binary_to_float('00101010100', 6, 5))"
   ]
  },
  {
   "cell_type": "code",
   "execution_count": 78,
   "metadata": {},
   "outputs": [],
   "source": [
    "def pos_float_to_bin(x, n_integer, decimais):\n",
    "    x_scaled = round(x * 2 ** (decimais))\n",
    "    out = '{:0{}b}'.format(x_scaled, n_integer+decimais) # float -> bin\n",
    "    # x_replace = str(out).replace('-','1') #tira o sinal negativo que fica no valor\n",
    "    return out\n",
    "\n",
    "def float_to_bin(x, n_integer, decimais):\n",
    "    if (x >= 0): # se x é positivo\n",
    "        return pos_float_to_bin(x=x, n_integer=n_integer, decimais=decimais)\n",
    "    else: # se x é negativo\n",
    "        positive_res = pos_float_to_bin(x=x, n_integer=n_integer, decimais=decimais)\n",
    "        x_inv = transform(positive_res) #replace ones by zeros and vice versa (complemento de 1)\n",
    "        x_inv_float = int(x_inv,2)\n",
    "        comp_2_float = x_inv_float + 1\n",
    "        x_comp = float_to_binary(comp_2_float, n_integer, 0,False)\n",
    "        return x_comp"
   ]
  },
  {
   "cell_type": "markdown",
   "metadata": {},
   "source": [
    "## testando funções"
   ]
  },
  {
   "cell_type": "code",
   "execution_count": 79,
   "metadata": {},
   "outputs": [],
   "source": [
    "is_signed = True        # com sinal\n",
    "n_integer = 4           # número de casas de inteiro = expoente = parte inteira\n",
    "n_mantissa = 4          # número de casas decimais = parte fracionária"
   ]
  },
  {
   "cell_type": "code",
   "execution_count": 80,
   "metadata": {},
   "outputs": [
    {
     "name": "stdout",
     "output_type": "stream",
     "text": [
      "float:  -2 bin:  0110000\n",
      "float:  -1 bin:  0111000\n",
      "float:  -0.992188 bin:  0111000\n",
      "float:  -0.507812 bin:  0111100\n",
      "float:  -0.5 bin:  0111100\n",
      "float:  -0.492188 bin:  0111100\n",
      "float:  -0.015625 bin:  0000000\n",
      "float:  0 bin:  0000000\n",
      "float:  0.496094 bin:  0000100\n",
      "float:  0.507812 bin:  0000100\n",
      "float:  0.992188 bin:  0001000\n"
     ]
    }
   ],
   "source": [
    "x= [-2, -1,-0.992188,-0.507812, -0.500000,-0.492188,-0.015625,0,0.496094,0.507812,0.992188]\n",
    "for i in range(0,len(x)):\n",
    "  print('float: ', x[i],'bin: ',float_to_binary(x[i] ,n_integer,n_mantissa,is_signed))"
   ]
  },
  {
   "cell_type": "code",
   "execution_count": 81,
   "metadata": {},
   "outputs": [],
   "source": [
    "# m = n_integer\n",
    "# decimais = n_mantissa"
   ]
  },
  {
   "cell_type": "code",
   "execution_count": 82,
   "metadata": {},
   "outputs": [
    {
     "name": "stdout",
     "output_type": "stream",
     "text": [
      "float:  -8      bin:  110000000\n",
      "float:  -7.9375      bin:  10000001\n",
      "float:  -7      bin:  10010000\n",
      "float:  -5.0625      bin:  10101111\n",
      "float:  -5      bin:  10110000\n",
      "float:  -2      bin:  11100000\n",
      "float:  -1      bin:  11110000\n",
      "float:  -0.992188      bin:  11110000\n",
      "float:  -0.507812      bin:  11111000\n",
      "float:  -0.5      bin:  11111000\n",
      "float:  -0.492188      bin:  11111000\n",
      "float:  -0.015625      bin:  100000000\n",
      "float:  0      bin:  00000000\n",
      "float:  0.0625      bin:  00000001\n",
      "float:  0.125      bin:  00000010\n",
      "float:  0.25      bin:  00000100\n",
      "float:  0.5      bin:  00001000\n",
      "float:  0.75      bin:  00001100\n",
      "float:  0.875      bin:  00001110\n",
      "float:  0.9375      bin:  00001111\n"
     ]
    }
   ],
   "source": [
    "x= [-8, -7.9375, -7, -5.0625, -5, -2, -1,-0.992188,-0.507812, -0.500000,-0.492188,-0.015625,0,0.0625,0.125, 0.25, 0.5, 0.75, 0.875,0.9375]\n",
    "for i in range(0,len(x)):\n",
    "  # print('float: ', x[i],'bin: ',float_to_binary(x[i] ,0,8,is_signed))\n",
    "  print('float: ', x[i],'     bin: ',float_to_bin(x=x[i], n_integer=n_integer, decimais=n_mantissa))"
   ]
  },
  {
   "cell_type": "code",
   "execution_count": null,
   "metadata": {},
   "outputs": [],
   "source": []
  },
  {
   "cell_type": "markdown",
   "metadata": {},
   "source": [
    "# Gerando outputs esperados testbench"
   ]
  },
  {
   "cell_type": "code",
   "execution_count": 83,
   "metadata": {},
   "outputs": [],
   "source": [
    "all_affine_vectors, MV0, MV1 = affine_vectors(\n",
    "    MV0_x = -8.6,\n",
    "    MV0_y = -2.6,\n",
    "    MV1_x = 15,\n",
    "    MV1_y = 7.8,\n",
    "    height = 8, # altura do blocão\n",
    "    width = 8 # largura do blocão\n",
    ")"
   ]
  },
  {
   "cell_type": "code",
   "execution_count": 84,
   "metadata": {},
   "outputs": [
    {
     "data": {
      "image/png": "[encoded data removed]",
      "text/plain": [
       "<Figure size 432x288 with 1 Axes>"
      ]
     },
     "metadata": {
      "needs_background": "light"
     },
     "output_type": "display_data"
    }
   ],
   "source": [
    "plot_vectors(\n",
    "    vetores = [MV0, MV1],\n",
    "    x_limit = 32,\n",
    "    y_limit = 32,\n",
    "    mirror_limits = True)"
   ]
  },
  {
   "cell_type": "code",
   "execution_count": 85,
   "metadata": {},
   "outputs": [
    {
     "data": {
      "image/png": "[encoded data removed]",
      "text/plain": [
       "<Figure size 432x288 with 1 Axes>"
      ]
     },
     "metadata": {
      "needs_background": "light"
     },
     "output_type": "display_data"
    }
   ],
   "source": [
    "plot_vectors(\n",
    "    vetores = all_affine_vectors,\n",
    "    x_limit = 32,\n",
    "    y_limit = 32,\n",
    "    mirror_limits = True)"
   ]
  },
  {
   "cell_type": "code",
   "execution_count": 107,
   "metadata": {},
   "outputs": [],
   "source": [
    "is_signed = True        # com sinal\n",
    "n_integer = 4           # número de casas de inteiro = expoente = parte inteira\n",
    "n_mantissa = 4          # número de casas decimais = parte fracionária\n",
    "bits_width = n_integer + n_mantissa"
   ]
  },
  {
   "cell_type": "code",
   "execution_count": 95,
   "metadata": {},
   "outputs": [],
   "source": [
    "# Devemos ter um limite para a representação dos números, de acordo com a largura de bits de representação.\n",
    "# Para 8 bits, sendo 4 para os inteiros. Teremos um range:\n",
    "# - Limite superior (upper_limit):    0111 1111 =  4 + 2 + 1     + 1/2   + 1/4   + 1/8   + 1/16  = 7.9375\n",
    "# - Limite inferior (low_limit):      1000 0000 = -8 + 0 + 0     + 0     + 0     + 0     + 0     = -8"
   ]
  },
  {
   "cell_type": "code",
   "execution_count": 96,
   "metadata": {},
   "outputs": [
    {
     "data": {
      "text/plain": [
       "7.9375"
      ]
     },
     "execution_count": 96,
     "metadata": {},
     "output_type": "execute_result"
    }
   ],
   "source": [
    "upper_limit = (2**(n_integer-1)) - (2**-n_mantissa)\n",
    "upper_limit"
   ]
  },
  {
   "cell_type": "code",
   "execution_count": 97,
   "metadata": {},
   "outputs": [
    {
     "data": {
      "text/plain": [
       "-8"
      ]
     },
     "execution_count": 97,
     "metadata": {},
     "output_type": "execute_result"
    }
   ],
   "source": [
    "low_limit = -(2**(n_integer-1))\n",
    "low_limit"
   ]
  },
  {
   "cell_type": "code",
   "execution_count": 108,
   "metadata": {},
   "outputs": [
    {
     "data": {
      "text/html": [
       "<div>\n",
       "<style scoped>\n",
       "    .dataframe tbody tr th:only-of-type {\n",
       "        vertical-align: middle;\n",
       "    }\n",
       "\n",
       "    .dataframe tbody tr th {\n",
       "        vertical-align: top;\n",
       "    }\n",
       "\n",
       "    .dataframe thead th {\n",
       "        text-align: right;\n",
       "    }\n",
       "</style>\n",
       "<table border=\"1\" class=\"dataframe\">\n",
       "  <thead>\n",
       "    <tr style=\"text-align: right;\">\n",
       "      <th></th>\n",
       "      <th>offset_x</th>\n",
       "      <th>offset_y</th>\n",
       "      <th>X</th>\n",
       "      <th>Y</th>\n",
       "    </tr>\n",
       "  </thead>\n",
       "  <tbody>\n",
       "    <tr>\n",
       "      <th>0</th>\n",
       "      <td>0</td>\n",
       "      <td>0</td>\n",
       "      <td>-8.6</td>\n",
       "      <td>-2.6</td>\n",
       "    </tr>\n",
       "    <tr>\n",
       "      <th>1</th>\n",
       "      <td>8</td>\n",
       "      <td>0</td>\n",
       "      <td>15.0</td>\n",
       "      <td>7.8</td>\n",
       "    </tr>\n",
       "  </tbody>\n",
       "</table>\n",
       "</div>"
      ],
      "text/plain": [
       "   offset_x  offset_y     X    Y\n",
       "0         0         0  -8.6 -2.6\n",
       "1         8         0  15.0  7.8"
      ]
     },
     "execution_count": 108,
     "metadata": {},
     "output_type": "execute_result"
    }
   ],
   "source": [
    "import pandas as pd\n",
    "df_MV  = pd.DataFrame([MV0, MV1])\n",
    "df_MV.columns =['offset_x', 'offset_y', 'X', 'Y']\n",
    "\n",
    "df_MV"
   ]
  },
  {
   "cell_type": "code",
   "execution_count": 109,
   "metadata": {},
   "outputs": [
    {
     "data": {
      "text/html": [
       "<div>\n",
       "<style scoped>\n",
       "    .dataframe tbody tr th:only-of-type {\n",
       "        vertical-align: middle;\n",
       "    }\n",
       "\n",
       "    .dataframe tbody tr th {\n",
       "        vertical-align: top;\n",
       "    }\n",
       "\n",
       "    .dataframe thead th {\n",
       "        text-align: right;\n",
       "    }\n",
       "</style>\n",
       "<table border=\"1\" class=\"dataframe\">\n",
       "  <thead>\n",
       "    <tr style=\"text-align: right;\">\n",
       "      <th></th>\n",
       "      <th>offset_x</th>\n",
       "      <th>offset_y</th>\n",
       "      <th>X</th>\n",
       "      <th>Y</th>\n",
       "    </tr>\n",
       "  </thead>\n",
       "  <tbody>\n",
       "    <tr>\n",
       "      <th>0</th>\n",
       "      <td>0</td>\n",
       "      <td>0</td>\n",
       "      <td>-8.0000</td>\n",
       "      <td>-2.6</td>\n",
       "    </tr>\n",
       "    <tr>\n",
       "      <th>1</th>\n",
       "      <td>8</td>\n",
       "      <td>0</td>\n",
       "      <td>7.9375</td>\n",
       "      <td>7.8</td>\n",
       "    </tr>\n",
       "  </tbody>\n",
       "</table>\n",
       "</div>"
      ],
      "text/plain": [
       "   offset_x  offset_y       X    Y\n",
       "0         0         0 -8.0000 -2.6\n",
       "1         8         0  7.9375  7.8"
      ]
     },
     "execution_count": 109,
     "metadata": {},
     "output_type": "execute_result"
    }
   ],
   "source": [
    "# AJUSTANTO DATAFRAME CONFORME LIMITES DE REPRESENTAÇÃO\n",
    "df_MV.loc[df_MV.X > upper_limit, 'X'] = upper_limit # substituindo valores maiores que o limite superior, pelo próprio limite superior\n",
    "df_MV.loc[df_MV.X < low_limit, 'X'] = low_limit # substituindo valores maiores que o limite superior, pelo próprio limite superior\n",
    "\n",
    "df_MV.loc[df_MV.Y > upper_limit, 'Y'] = upper_limit # substituindo valores maiores que o limite superior, pelo próprio limite superior\n",
    "df_MV.loc[df_MV.Y < low_limit, 'Y'] = low_limit # substituindo valores maiores que o limite superior, pelo próprio limite superior\n",
    "df_MV"
   ]
  },
  {
   "cell_type": "code",
   "execution_count": 111,
   "metadata": {},
   "outputs": [
    {
     "data": {
      "text/html": [
       "<div>\n",
       "<style scoped>\n",
       "    .dataframe tbody tr th:only-of-type {\n",
       "        vertical-align: middle;\n",
       "    }\n",
       "\n",
       "    .dataframe tbody tr th {\n",
       "        vertical-align: top;\n",
       "    }\n",
       "\n",
       "    .dataframe thead th {\n",
       "        text-align: right;\n",
       "    }\n",
       "</style>\n",
       "<table border=\"1\" class=\"dataframe\">\n",
       "  <thead>\n",
       "    <tr style=\"text-align: right;\">\n",
       "      <th></th>\n",
       "      <th>offset_x</th>\n",
       "      <th>offset_y</th>\n",
       "      <th>X</th>\n",
       "      <th>Y</th>\n",
       "      <th>X_bin</th>\n",
       "      <th>Y_bin</th>\n",
       "    </tr>\n",
       "  </thead>\n",
       "  <tbody>\n",
       "    <tr>\n",
       "      <th>0</th>\n",
       "      <td>0</td>\n",
       "      <td>0</td>\n",
       "      <td>-8.0000</td>\n",
       "      <td>-2.6</td>\n",
       "      <td>10000000</td>\n",
       "      <td>11010111</td>\n",
       "    </tr>\n",
       "    <tr>\n",
       "      <th>1</th>\n",
       "      <td>8</td>\n",
       "      <td>0</td>\n",
       "      <td>7.9375</td>\n",
       "      <td>7.8</td>\n",
       "      <td>01111111</td>\n",
       "      <td>01111100</td>\n",
       "    </tr>\n",
       "  </tbody>\n",
       "</table>\n",
       "</div>"
      ],
      "text/plain": [
       "   offset_x  offset_y       X    Y     X_bin     Y_bin\n",
       "0         0         0 -8.0000 -2.6  10000000  11010111\n",
       "1         8         0  7.9375  7.8  01111111  01111100"
      ]
     },
     "execution_count": 111,
     "metadata": {},
     "output_type": "execute_result"
    }
   ],
   "source": [
    "from fxpmath import Fxp\n",
    "df_MV['X_bin'] = (df_MV['X'].apply(lambda x:  Fxp(x, signed=True, n_word= bits_width, n_frac= n_mantissa).bin() ) )\n",
    "df_MV['Y_bin'] = (df_MV['Y'].apply(lambda x:  Fxp(x, signed=True, n_word= bits_width, n_frac= n_mantissa).bin() ) )\n",
    "\n",
    "# df_MV['Y_bin'] = (df_MV['Y'].apply(lambda x: float_to_bin(x=x, n_integer=n_integer, decimais=n_mantissa)))\n",
    "\n",
    "df_MV"
   ]
  },
  {
   "cell_type": "code",
   "execution_count": 139,
   "metadata": {},
   "outputs": [
    {
     "data": {
      "text/plain": [
       "'/home/lspadersimon/Documents/PCS'"
      ]
     },
     "execution_count": 139,
     "metadata": {},
     "output_type": "execute_result"
    }
   ],
   "source": [
    "import os\n",
    "actual_path = os.path.abspath(os.getcwd())\n",
    "actual_path"
   ]
  },
  {
   "cell_type": "code",
   "execution_count": 142,
   "metadata": {},
   "outputs": [],
   "source": [
    "# salvando vetores MV (ENTRADA)\n",
    "\n",
    "txt_name = 'MV.txt'\n",
    "np.savetxt(f'{actual_path}/Text_Files/{txt_name}', df_MV.iloc[:,-2:].values, fmt=\"%s\")"
   ]
  },
  {
   "cell_type": "code",
   "execution_count": 143,
   "metadata": {},
   "outputs": [],
   "source": [
    "# salvando vetores sub_mv (saídas esperadas)\n",
    "\n",
    "df_sub_mv = df.iloc[:, -2:] # Remember that Python does not slice inclusive of the ending index.\n",
    "txt_name = 'sub_mv.txt'\n",
    "np.savetxt(f'{actual_path}/Text_Files/{txt_name}', df_sub_mv.values, fmt=\"%s\")\n"
   ]
  },
  {
   "cell_type": "code",
   "execution_count": 113,
   "metadata": {},
   "outputs": [
    {
     "data": {
      "text/html": [
       "<div>\n",
       "<style scoped>\n",
       "    .dataframe tbody tr th:only-of-type {\n",
       "        vertical-align: middle;\n",
       "    }\n",
       "\n",
       "    .dataframe tbody tr th {\n",
       "        vertical-align: top;\n",
       "    }\n",
       "\n",
       "    .dataframe thead th {\n",
       "        text-align: right;\n",
       "    }\n",
       "</style>\n",
       "<table border=\"1\" class=\"dataframe\">\n",
       "  <thead>\n",
       "    <tr style=\"text-align: right;\">\n",
       "      <th></th>\n",
       "      <th>offset_x</th>\n",
       "      <th>offset_y</th>\n",
       "      <th>X</th>\n",
       "      <th>Y</th>\n",
       "      <th>X_bin</th>\n",
       "      <th>Y_bin</th>\n",
       "    </tr>\n",
       "  </thead>\n",
       "  <tbody>\n",
       "    <tr>\n",
       "      <th>0</th>\n",
       "      <td>0</td>\n",
       "      <td>0</td>\n",
       "      <td>-8.0000</td>\n",
       "      <td>-2.6000</td>\n",
       "      <td>10000000</td>\n",
       "      <td>11010111</td>\n",
       "    </tr>\n",
       "    <tr>\n",
       "      <th>1</th>\n",
       "      <td>0</td>\n",
       "      <td>1</td>\n",
       "      <td>-7.3000</td>\n",
       "      <td>-0.5500</td>\n",
       "      <td>10001100</td>\n",
       "      <td>11111000</td>\n",
       "    </tr>\n",
       "    <tr>\n",
       "      <th>2</th>\n",
       "      <td>0</td>\n",
       "      <td>2</td>\n",
       "      <td>-6.0000</td>\n",
       "      <td>1.5000</td>\n",
       "      <td>10100000</td>\n",
       "      <td>00010111</td>\n",
       "    </tr>\n",
       "    <tr>\n",
       "      <th>3</th>\n",
       "      <td>0</td>\n",
       "      <td>3</td>\n",
       "      <td>-4.7000</td>\n",
       "      <td>3.5500</td>\n",
       "      <td>10110101</td>\n",
       "      <td>00111000</td>\n",
       "    </tr>\n",
       "    <tr>\n",
       "      <th>4</th>\n",
       "      <td>0</td>\n",
       "      <td>4</td>\n",
       "      <td>-3.4000</td>\n",
       "      <td>5.6000</td>\n",
       "      <td>11001010</td>\n",
       "      <td>01011001</td>\n",
       "    </tr>\n",
       "    <tr>\n",
       "      <th>...</th>\n",
       "      <td>...</td>\n",
       "      <td>...</td>\n",
       "      <td>...</td>\n",
       "      <td>...</td>\n",
       "      <td>...</td>\n",
       "      <td>...</td>\n",
       "    </tr>\n",
       "    <tr>\n",
       "      <th>59</th>\n",
       "      <td>7</td>\n",
       "      <td>3</td>\n",
       "      <td>7.9375</td>\n",
       "      <td>7.9375</td>\n",
       "      <td>01111111</td>\n",
       "      <td>01111111</td>\n",
       "    </tr>\n",
       "    <tr>\n",
       "      <th>60</th>\n",
       "      <td>7</td>\n",
       "      <td>4</td>\n",
       "      <td>7.9375</td>\n",
       "      <td>7.9375</td>\n",
       "      <td>01111111</td>\n",
       "      <td>01111111</td>\n",
       "    </tr>\n",
       "    <tr>\n",
       "      <th>61</th>\n",
       "      <td>7</td>\n",
       "      <td>5</td>\n",
       "      <td>7.9375</td>\n",
       "      <td>7.9375</td>\n",
       "      <td>01111111</td>\n",
       "      <td>01111111</td>\n",
       "    </tr>\n",
       "    <tr>\n",
       "      <th>62</th>\n",
       "      <td>7</td>\n",
       "      <td>6</td>\n",
       "      <td>7.9375</td>\n",
       "      <td>7.9375</td>\n",
       "      <td>01111111</td>\n",
       "      <td>01111111</td>\n",
       "    </tr>\n",
       "    <tr>\n",
       "      <th>63</th>\n",
       "      <td>7</td>\n",
       "      <td>7</td>\n",
       "      <td>7.9375</td>\n",
       "      <td>7.9375</td>\n",
       "      <td>01111111</td>\n",
       "      <td>01111111</td>\n",
       "    </tr>\n",
       "  </tbody>\n",
       "</table>\n",
       "<p>64 rows × 6 columns</p>\n",
       "</div>"
      ],
      "text/plain": [
       "    offset_x  offset_y       X       Y     X_bin     Y_bin\n",
       "0          0         0 -8.0000 -2.6000  10000000  11010111\n",
       "1          0         1 -7.3000 -0.5500  10001100  11111000\n",
       "2          0         2 -6.0000  1.5000  10100000  00010111\n",
       "3          0         3 -4.7000  3.5500  10110101  00111000\n",
       "4          0         4 -3.4000  5.6000  11001010  01011001\n",
       "..       ...       ...     ...     ...       ...       ...\n",
       "59         7         3  7.9375  7.9375  01111111  01111111\n",
       "60         7         4  7.9375  7.9375  01111111  01111111\n",
       "61         7         5  7.9375  7.9375  01111111  01111111\n",
       "62         7         6  7.9375  7.9375  01111111  01111111\n",
       "63         7         7  7.9375  7.9375  01111111  01111111\n",
       "\n",
       "[64 rows x 6 columns]"
      ]
     },
     "execution_count": 113,
     "metadata": {},
     "output_type": "execute_result"
    }
   ],
   "source": [
    "df = pd.DataFrame(all_affine_vectors)\n",
    "df.columns =['offset_x', 'offset_y', 'X', 'Y']\n",
    "\n",
    "# AJUSTANTO DATAFRAME CONFORME LIMITES DE REPRESENTAÇÃO\n",
    "df.loc[df.X > upper_limit, 'X'] = upper_limit # substituindo valores maiores que o limite superior, pelo próprio limite superior\n",
    "df.loc[df.X < low_limit, 'X'] = low_limit # substituindo valores maiores que o limite superior, pelo próprio limite superior\n",
    "\n",
    "df.loc[df.Y > upper_limit, 'Y'] = upper_limit # substituindo valores maiores que o limite superior, pelo próprio limite superior\n",
    "df.loc[df.Y < low_limit, 'Y'] = low_limit # substituindo valores maiores que o limite superior, pelo próprio limite superior\n",
    "\n",
    "# GERANDO COLUNAS EM BINÁRIO\n",
    "df['X_bin'] = (df['X'].apply(lambda x:  Fxp(x, signed=True, n_word= bits_width, n_frac= n_mantissa).bin() ) )\n",
    "df['Y_bin'] = (df['Y'].apply(lambda x:  Fxp(x, signed=True, n_word= bits_width, n_frac= n_mantissa).bin() ) )\n",
    "df\n"
   ]
  },
  {
   "cell_type": "code",
   "execution_count": null,
   "metadata": {},
   "outputs": [],
   "source": []
  }
 ],
 "metadata": {
  "kernelspec": {
   "display_name": "Python 3.8.10 64-bit",
   "language": "python",
   "name": "python3"
  },
  "language_info": {
   "codemirror_mode": {
    "name": "ipython",
    "version": 3
   },
   "file_extension": ".py",
   "mimetype": "text/x-python",
   "name": "python",
   "nbconvert_exporter": "python",
   "pygments_lexer": "ipython3",
   "version": "3.8.10"
  },
  "orig_nbformat": 4,
  "vscode": {
   "interpreter": {
    "hash": "916dbcbb3f70747c44a77c7bcd40155683ae19c65e1c03b4aa3499c5328201f1"
   }
  }
 },
 "nbformat": 4,
 "nbformat_minor": 2
}
